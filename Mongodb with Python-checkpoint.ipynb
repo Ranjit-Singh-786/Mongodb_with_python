{
 "cells": [
  {
   "cell_type": "markdown",
   "id": "02b0eb98",
   "metadata": {},
   "source": [
    ">>> ## mongodb with python"
   ]
  },
  {
   "cell_type": "markdown",
   "id": "8993a71f",
   "metadata": {},
   "source": [
    "## <p> in this notebook we are covering all the mongodb method and operator implementation with in python </p>"
   ]
  },
  {
   "cell_type": "code",
   "execution_count": null,
   "id": "2c2ddd40",
   "metadata": {},
   "outputs": [],
   "source": [
    "!pip install pymong[srv]         # for installation"
   ]
  },
  {
   "cell_type": "code",
   "execution_count": 2,
   "id": "fb667eec",
   "metadata": {},
   "outputs": [],
   "source": [
    "import pymongo"
   ]
  },
  {
   "cell_type": "code",
   "execution_count": 3,
   "id": "ca0a9ea0",
   "metadata": {},
   "outputs": [],
   "source": [
    "client=pymongo.MongoClient('mongodb://127.0.0.1:27017')           # create connection"
   ]
  },
  {
   "cell_type": "code",
   "execution_count": 15,
   "id": "5210e83c",
   "metadata": {},
   "outputs": [],
   "source": [
    "mydb=client['student']                  # create databse"
   ]
  },
  {
   "cell_type": "code",
   "execution_count": 16,
   "id": "b31aa604",
   "metadata": {},
   "outputs": [],
   "source": [
    "colle=mydb.admission                    # create  collection"
   ]
  },
  {
   "cell_type": "code",
   "execution_count": 17,
   "id": "155013a0",
   "metadata": {},
   "outputs": [
    {
     "data": {
      "text/plain": [
       "'localhost'"
      ]
     },
     "execution_count": 17,
     "metadata": {},
     "output_type": "execute_result"
    }
   ],
   "source": [
    "client.HOST"
   ]
  },
  {
   "cell_type": "code",
   "execution_count": 18,
   "id": "d7d017a1",
   "metadata": {},
   "outputs": [
    {
     "data": {
      "text/plain": [
       "True"
      ]
     },
     "execution_count": 18,
     "metadata": {},
     "output_type": "execute_result"
    }
   ],
   "source": [
    "client.is_primary"
   ]
  },
  {
   "cell_type": "code",
   "execution_count": 19,
   "id": "40eee0b8",
   "metadata": {},
   "outputs": [
    {
     "data": {
      "text/plain": [
       "27017"
      ]
     },
     "execution_count": 19,
     "metadata": {},
     "output_type": "execute_result"
    }
   ],
   "source": [
    "client.PORT"
   ]
  },
  {
   "cell_type": "code",
   "execution_count": 20,
   "id": "187cb188",
   "metadata": {},
   "outputs": [
    {
     "data": {
      "text/plain": [
       "{'version': '5.0.3',\n",
       " 'gitVersion': '657fea5a61a74d7a79df7aff8e4bcf0bc742b748',\n",
       " 'targetMinOS': 'Windows 7/Windows Server 2008 R2',\n",
       " 'modules': [],\n",
       " 'allocator': 'tcmalloc',\n",
       " 'javascriptEngine': 'mozjs',\n",
       " 'sysInfo': 'deprecated',\n",
       " 'versionArray': [5, 0, 3, 0],\n",
       " 'openssl': {'running': 'Windows SChannel'},\n",
       " 'buildEnvironment': {'distmod': 'windows',\n",
       "  'distarch': 'x86_64',\n",
       "  'cc': 'cl: Microsoft (R) C/C++ Optimizing Compiler Version 19.26.28806 for x64',\n",
       "  'ccflags': '/nologo /WX /FImongo/platform/basic.h /EHsc /W3 /wd4068 /wd4244 /wd4267 /wd4290 /wd4351 /wd4355 /wd4373 /wd4800 /wd4251 /wd4291 /we4013 /we4099 /we4930 /errorReport:none /MD /O2 /Oy- /bigobj /utf-8 /permissive- /Zc:__cplusplus /Zc:sizedDealloc /volatile:iso /diagnostics:caret /std:c++17 /Gw /Gy /Zc:inline',\n",
       "  'cxx': 'cl: Microsoft (R) C/C++ Optimizing Compiler Version 19.26.28806 for x64',\n",
       "  'cxxflags': '/TP',\n",
       "  'linkflags': '/nologo /DEBUG /INCREMENTAL:NO /LARGEADDRESSAWARE /OPT:REF',\n",
       "  'target_arch': 'x86_64',\n",
       "  'target_os': 'windows',\n",
       "  'cppdefines': 'SAFEINT_USE_INTRINSICS 0 PCRE_STATIC NDEBUG BOOST_ALL_NO_LIB _UNICODE UNICODE _SILENCE_CXX17_ALLOCATOR_VOID_DEPRECATION_WARNING _SILENCE_CXX17_OLD_ALLOCATOR_MEMBERS_DEPRECATION_WARNING _SILENCE_CXX17_CODECVT_HEADER_DEPRECATION_WARNING _CONSOLE _CRT_SECURE_NO_WARNINGS _SCL_SECURE_NO_WARNINGS _WIN32_WINNT 0x0A00 BOOST_USE_WINAPI_VERSION 0x0A00 NTDDI_VERSION 0x0A000000 BOOST_THREAD_VERSION 5 BOOST_THREAD_USES_DATETIME BOOST_SYSTEM_NO_DEPRECATED BOOST_MATH_NO_LONG_DOUBLE_MATH_FUNCTIONS BOOST_ENABLE_ASSERT_DEBUG_HANDLER BOOST_LOG_NO_SHORTHAND_NAMES BOOST_LOG_USE_NATIVE_SYSLOG BOOST_LOG_WITHOUT_THREAD_ATTR ABSL_FORCE_ALIGNED_ACCESS'},\n",
       " 'bits': 64,\n",
       " 'debug': False,\n",
       " 'maxBsonObjectSize': 16777216,\n",
       " 'storageEngines': ['devnull', 'ephemeralForTest', 'wiredTiger'],\n",
       " 'ok': 1.0}"
      ]
     },
     "execution_count": 20,
     "metadata": {},
     "output_type": "execute_result"
    }
   ],
   "source": [
    "client.server_info()"
   ]
  },
  {
   "cell_type": "code",
   "execution_count": 21,
   "id": "6966c9ab",
   "metadata": {},
   "outputs": [
    {
     "data": {
      "text/plain": [
       "Database(MongoClient(host=['127.0.0.1:27017'], document_class=dict, tz_aware=False, connect=True), 'student')"
      ]
     },
     "execution_count": 21,
     "metadata": {},
     "output_type": "execute_result"
    }
   ],
   "source": [
    "colle.database            # get the database name of exist collection"
   ]
  },
  {
   "cell_type": "code",
   "execution_count": 23,
   "id": "808aa18f",
   "metadata": {},
   "outputs": [
    {
     "data": {
      "text/plain": [
       "'student.admission'"
      ]
     },
     "execution_count": 23,
     "metadata": {},
     "output_type": "execute_result"
    }
   ],
   "source": [
    "colle.full_name              # get the database and collection name"
   ]
  },
  {
   "cell_type": "code",
   "execution_count": 26,
   "id": "30aba454",
   "metadata": {},
   "outputs": [
    {
     "data": {
      "text/plain": [
       "['admin', 'config', 'local']"
      ]
     },
     "execution_count": 26,
     "metadata": {},
     "output_type": "execute_result"
    }
   ],
   "source": [
    "client.list_database_names()         # get the database name best method "
   ]
  },
  {
   "cell_type": "code",
   "execution_count": 27,
   "id": "17fe69d2",
   "metadata": {},
   "outputs": [
    {
     "data": {
      "text/plain": [
       "{'name': 'Ranjit singh',\n",
       " 'father': 'Somkar Singh',\n",
       " 'branch': 'cse',\n",
       " 'roll_no': '19CSED68',\n",
       " 'city': 'Agra',\n",
       " 'marks': 124}"
      ]
     },
     "execution_count": 27,
     "metadata": {},
     "output_type": "execute_result"
    }
   ],
   "source": [
    "record={'name':'Ranjit singh','father':'Somkar Singh','branch':'cse','roll_no':'19CSED68','city':'Agra','marks':124}\n",
    "record"
   ]
  },
  {
   "cell_type": "code",
   "execution_count": 28,
   "id": "15954c59",
   "metadata": {},
   "outputs": [
    {
     "data": {
      "text/plain": [
       "<pymongo.results.InsertOneResult at 0x19073fa8c10>"
      ]
     },
     "execution_count": 28,
     "metadata": {},
     "output_type": "execute_result"
    }
   ],
   "source": [
    "colle.insert_one(record)            # insert single document"
   ]
  },
  {
   "cell_type": "code",
   "execution_count": 23,
   "id": "a0ad4b57",
   "metadata": {},
   "outputs": [],
   "source": [
    "# A function of multiple row insert with the help of user input\n",
    "def multiple_insert():\n",
    "\n",
    "    while True:\n",
    "        \n",
    "        name=input('enter the name :- ')\n",
    "        father=input('enter father name :- ')\n",
    "        branch = input('enter the branch name :- ')\n",
    "        roll=int(input('enter your roll number :- '))\n",
    "        city=input('enter the city name :- ')\n",
    "        marks=int(input('enter your marks :- '))\n",
    "        permision=input('do you want  to exit it press y or n :- ')\n",
    "\n",
    "\n",
    "        data={'name':name,'father':father,'branch':branch,'roll_no':roll,'city':city,'marks':marks}\n",
    "        colle.insert_one(data)\n",
    "        if permision=='y':\n",
    "            break\n",
    "\n"
   ]
  },
  {
   "cell_type": "code",
   "execution_count": 22,
   "id": "f48762a5",
   "metadata": {},
   "outputs": [
    {
     "name": "stdout",
     "output_type": "stream",
     "text": [
      "enter the name :- suraj\n",
      "enter father name :- mohan\n",
      "enter the branch name :- IT\n",
      "enter your roll number :- 69\n",
      "enter the city name :- hathras\n",
      "enter your marks :- 112\n",
      "do you want  to exit it press y or ny\n",
      "enter the name :- kundan\n",
      "enter father name :- amar singh\n",
      "enter the branch name :- civil\n",
      "enter your roll number :- 70\n",
      "enter the city name :- sadabad\n",
      "enter your marks :- 141\n",
      "do you want  to exit it press y or ny\n",
      "enter the name :- raju\n",
      "enter father name :- ramsahay\n",
      "enter the branch name :- machenical\n",
      "enter your roll number :- 45\n",
      "enter the city name :- arti\n",
      "enter your marks :- 119\n",
      "do you want  to exit it press y or ny\n",
      "enter the name :- soma\n",
      "enter father name :- ramsahay\n",
      "enter the branch name :- ECE\n",
      "enter your roll number :- 45\n",
      "enter the city name :- shahwajpur\n",
      "enter your marks :- 156\n",
      "do you want  to exit it press y or nn\n"
     ]
    }
   ],
   "source": [
    "multiple_insert()                # calling the function for execution of programe"
   ]
  },
  {
   "cell_type": "code",
   "execution_count": 48,
   "id": "14c3f9b5",
   "metadata": {},
   "outputs": [
    {
     "data": {
      "text/plain": [
       "{'_id': ObjectId('618a8b80e860454f552548d2'),\n",
       " 'name': 'Ranjit singh',\n",
       " 'father': 'Somkar Singh',\n",
       " 'branch': 'cse',\n",
       " 'roll_no': '19CSED68',\n",
       " 'city': 'Agra',\n",
       " 'marks': 124}"
      ]
     },
     "execution_count": 48,
     "metadata": {},
     "output_type": "execute_result"
    }
   ],
   "source": [
    "colle.find_one()            # by default first document from your collection"
   ]
  },
  {
   "cell_type": "code",
   "execution_count": 49,
   "id": "e9effa19",
   "metadata": {},
   "outputs": [
    {
     "data": {
      "text/plain": [
       "<pymongo.cursor.Cursor at 0x1c31fdb6b80>"
      ]
     },
     "execution_count": 49,
     "metadata": {},
     "output_type": "execute_result"
    }
   ],
   "source": [
    "colle.find()        # it is getting all the record of admission collection\n",
    "# here you have to use loop"
   ]
  },
  {
   "cell_type": "code",
   "execution_count": 52,
   "id": "c22c7423",
   "metadata": {},
   "outputs": [
    {
     "name": "stdout",
     "output_type": "stream",
     "text": [
      "{'_id': ObjectId('618a8b80e860454f552548d2'), 'name': 'Ranjit singh', 'father': 'Somkar Singh', 'branch': 'cse', 'roll_no': '19CSED68', 'city': 'Agra', 'marks': 124}\n",
      "{'_id': ObjectId('618a8ee0e860454f552548d3'), 'name': 'mohan ', 'father': 'suraj ', 'branch': 'cse', 'roll_no': 69, 'city': 'hathras', 'marks': 112}\n",
      "{'_id': ObjectId('618a8f17e860454f552548d4'), 'name': 'suraj', 'father': 'mohan', 'branch': 'IT', 'roll_no': 69, 'city': 'hathras', 'marks': 112}\n",
      "{'_id': ObjectId('618a8f3fe860454f552548d5'), 'name': 'kundan', 'father': 'amar singh', 'branch': 'civil', 'roll_no': 70, 'city': 'sadabad', 'marks': 141}\n",
      "{'_id': ObjectId('618a8f67e860454f552548d6'), 'name': 'raju', 'father': 'ramsahay', 'branch': 'machenical', 'roll_no': 45, 'city': 'arti', 'marks': 119}\n",
      "{'_id': ObjectId('618a8f95e860454f552548d7'), 'name': 'soma', 'father': 'ramsahay', 'branch': 'ECE', 'roll_no': 45, 'city': 'shahwajpur', 'marks': 156}\n"
     ]
    }
   ],
   "source": [
    "for i in colle.find():          # print all the document of collection\n",
    "    print(i)"
   ]
  },
  {
   "cell_type": "code",
   "execution_count": 73,
   "id": "700bcee5",
   "metadata": {},
   "outputs": [
    {
     "data": {
      "text/plain": [
       "{'_id': ObjectId('618a8f3fe860454f552548d5'),\n",
       " 'name': 'kundan',\n",
       " 'father': 'amar singh',\n",
       " 'branch': 'civil',\n",
       " 'roll_no': 70,\n",
       " 'city': 'sadabad',\n",
       " 'marks': 141}"
      ]
     },
     "execution_count": 73,
     "metadata": {},
     "output_type": "execute_result"
    }
   ],
   "source": [
    "colle.find_one({'name':'kundan'})       \n",
    "# for getting only one document\n",
    "# that contain name equal kundan"
   ]
  },
  {
   "cell_type": "code",
   "execution_count": 72,
   "id": "9a80ff8d",
   "metadata": {},
   "outputs": [
    {
     "name": "stdout",
     "output_type": "stream",
     "text": [
      "{'_id': ObjectId('618a8f3fe860454f552548d5'), 'name': 'kundan', 'father': 'amar singh', 'branch': 'civil', 'roll_no': 70, 'city': 'sadabad', 'marks': 141}\n"
     ]
    }
   ],
   "source": [
    "# query the json document where based on equality condtion but\n",
    "# sometime it may be having more than one documents\n",
    "for i in colle.find({'name':'kundan'}):\n",
    "    print(i)"
   ]
  },
  {
   "cell_type": "markdown",
   "id": "b156c7d2",
   "metadata": {},
   "source": [
    "## mongodb operators implementation with the help of python PYMONgO\n",
    "<ul>\n",
    "    <li><p>in</p></li>\n",
    "    <li><p>gt</p></li>\n",
    "    <li><p>gte</p></li>\n",
    "    <li><p>lt</p></li>\n",
    "    <li><p>lte</p></li>\n",
    "    <li><p>eq</p></li>\n",
    "    <li><p>ne</p></li>\n",
    "    <li><p>ne</p></li>    \n",
    "    </ul>\n",
    ">> # Logical operators\n",
    "  <ul>\n",
    "    <li>AND</li>\n",
    "    <li>OR</li>\n",
    "    <li>NOT</li>\n",
    "    <li>NOR</li>\n",
    "    </ul>"
   ]
  },
  {
   "cell_type": "code",
   "execution_count": 76,
   "id": "5cfd2232",
   "metadata": {},
   "outputs": [
    {
     "name": "stdout",
     "output_type": "stream",
     "text": [
      "{'_id': ObjectId('618a8f3fe860454f552548d5'), 'name': 'kundan', 'father': 'amar singh', 'branch': 'civil', 'roll_no': 70, 'city': 'sadabad', 'marks': 141}\n"
     ]
    }
   ],
   "source": [
    "# $IN  operator\n",
    "for i in colle.find({'marks':{'$in':[141]}}):\n",
    "    print(i)"
   ]
  },
  {
   "cell_type": "code",
   "execution_count": 79,
   "id": "4471c946",
   "metadata": {},
   "outputs": [
    {
     "name": "stdout",
     "output_type": "stream",
     "text": [
      "{'_id': ObjectId('618a8b80e860454f552548d2'), 'name': 'Ranjit singh', 'father': 'Somkar Singh', 'branch': 'cse', 'roll_no': '19CSED68', 'city': 'Agra', 'marks': 124}\n",
      "{'_id': ObjectId('618a8ee0e860454f552548d3'), 'name': 'mohan ', 'father': 'suraj ', 'branch': 'cse', 'roll_no': 69, 'city': 'hathras', 'marks': 112}\n",
      "{'_id': ObjectId('618a8f3fe860454f552548d5'), 'name': 'kundan', 'father': 'amar singh', 'branch': 'civil', 'roll_no': 70, 'city': 'sadabad', 'marks': 141}\n"
     ]
    }
   ],
   "source": [
    "for i in colle.find({'name':{'$in':['Ranjit singh','mohan ','kundan']}}):\n",
    "    print(i)"
   ]
  },
  {
   "cell_type": "code",
   "execution_count": 81,
   "id": "871a3248",
   "metadata": {},
   "outputs": [
    {
     "data": {
      "text/plain": [
       "<pymongo.results.InsertOneResult at 0x1c320996ec0>"
      ]
     },
     "execution_count": 81,
     "metadata": {},
     "output_type": "execute_result"
    }
   ],
   "source": [
    "colle.insert_one({'name':'mohini','father':'suraj','roll_no':55,'marks':200})\n",
    "# direct single document insert"
   ]
  },
  {
   "cell_type": "code",
   "execution_count": 83,
   "id": "4caecd52",
   "metadata": {},
   "outputs": [
    {
     "name": "stdout",
     "output_type": "stream",
     "text": [
      "{'_id': ObjectId('618a9dd5e860454f552548d8'), 'name': 'mohini', 'father': 'suraj', 'roll_no': 55, 'marks': 200}\n"
     ]
    }
   ],
   "source": [
    "for i in colle.find({'father':'suraj','marks':{'$gt':140}}):\n",
    "    print(i)\n",
    "# it is performing a operation as like AND Operator"
   ]
  },
  {
   "cell_type": "markdown",
   "id": "66254561",
   "metadata": {},
   "source": [
    "# AND OperaTor"
   ]
  },
  {
   "cell_type": "code",
   "execution_count": 84,
   "id": "e55cf14f",
   "metadata": {},
   "outputs": [
    {
     "name": "stdout",
     "output_type": "stream",
     "text": [
      "{'_id': ObjectId('618a9dd5e860454f552548d8'), 'name': 'mohini', 'father': 'suraj', 'roll_no': 55, 'marks': 200}\n"
     ]
    }
   ],
   "source": [
    "for i in colle.find({'$and':[{'father':{'$eq':'suraj'}},{'marks':{'$gt':140}}]}):\n",
    "    print(i)\n",
    "# i got this document by using AND operator"
   ]
  },
  {
   "cell_type": "markdown",
   "id": "210fbf98",
   "metadata": {},
   "source": [
    "# OR Operator"
   ]
  },
  {
   "cell_type": "code",
   "execution_count": 91,
   "id": "1e4c1b21",
   "metadata": {},
   "outputs": [
    {
     "name": "stdout",
     "output_type": "stream",
     "text": [
      "{'_id': ObjectId('618a8b80e860454f552548d2'), 'name': 'Ranjit singh', 'father': 'Somkar Singh', 'branch': 'cse', 'roll_no': '19CSED68', 'city': 'Agra', 'marks': 124}\n",
      "{'_id': ObjectId('618a8ee0e860454f552548d3'), 'name': 'mohan ', 'father': 'suraj ', 'branch': 'cse', 'roll_no': 69, 'city': 'hathras', 'marks': 112}\n",
      "{'_id': ObjectId('618a8f17e860454f552548d4'), 'name': 'suraj', 'father': 'mohan', 'branch': 'IT', 'roll_no': 69, 'city': 'hathras', 'marks': 112}\n",
      "{'_id': ObjectId('618a8f67e860454f552548d6'), 'name': 'raju', 'father': 'ramsahay', 'branch': 'machenical', 'roll_no': 45, 'city': 'arti', 'marks': 119}\n",
      "{'_id': ObjectId('618a9dd5e860454f552548d8'), 'name': 'mohini', 'father': 'suraj', 'roll_no': 55, 'marks': 200}\n"
     ]
    }
   ],
   "source": [
    "for doc in colle.find({'$or':[{'marks':{'$lt':130}},{'father':{'$eq':'suraj'}}]}):\n",
    "    print(doc)\n",
    "# it is performing a or operation"
   ]
  },
  {
   "cell_type": "markdown",
   "id": "4f8acad6",
   "metadata": {},
   "source": [
    "## operations on nested documents by using Pymongo"
   ]
  },
  {
   "cell_type": "code",
   "execution_count": 10,
   "id": "9ed6db1c",
   "metadata": {},
   "outputs": [],
   "source": [
    "nested_record=[\n",
    "    {'item':'journal','qty':25,'size':{'h':14,'w':21,'uom':'cm'},'status':'A'},\n",
    "    {'item':'paint','qty':15,'size':{'h':20,'w':36,'uom':'in'},'status':'A'},\n",
    "    {'item':'t-shirt','qty':11,'size':{'h':22,'w':32,'uom':'cm'},'status':'B'},\n",
    "    {'item':'shirt','qty':5,'size':{'h':22,'w':32,'uom':'m'},'status':'C'},\n",
    "    {'item':'paint','qty':52,'size':{'h':64,'w':41,'uom':'cm'},'status':'D'},\n",
    "    {'item':'journal','qty':35,'size':{'h':34,'w':28,'uom':'m'},'status':'C'},\n",
    "    {'item':'lower','qty':26,'size':{'h':45,'w':31,'uom':'t'},'status':'B'},\n",
    "    {'item':'t-shirt','qty':21,'size':{'h':25,'w':21,'uom':'cm'},'status':'E'},\n",
    "\n",
    "]"
   ]
  },
  {
   "cell_type": "code",
   "execution_count": 5,
   "id": "4f9d5147",
   "metadata": {},
   "outputs": [
    {
     "data": {
      "text/plain": [
       "[{'item': 'journal',\n",
       "  'qty': 25,\n",
       "  'size': {'h': 14, 'w': 21, 'uom': 'cm'},\n",
       "  'status': 'A'},\n",
       " {'item': 'paint',\n",
       "  'qty': 15,\n",
       "  'size': {'h': 20, 'w': 36, 'uom': 'in'},\n",
       "  'status': 'A'},\n",
       " {'item': 't-shirt',\n",
       "  'qty': 11,\n",
       "  'size': {'h': 22, 'w': 32, 'uom': 'cm'},\n",
       "  'status': 'B'},\n",
       " {'item': 'shirt',\n",
       "  'qty': 5,\n",
       "  'size': {'h': 22, 'w': 32, 'uom': 'm'},\n",
       "  'status': 'C'},\n",
       " {'item': 'paint',\n",
       "  'qty': 52,\n",
       "  'size': {'h': 64, 'w': 41, 'uom': 'cm'},\n",
       "  'status': 'D'},\n",
       " {'item': 'journal',\n",
       "  'qty': 35,\n",
       "  'size': {'h': 34, 'w': 28, 'uom': 'm'},\n",
       "  'status': 'C'},\n",
       " {'item': 'lower',\n",
       "  'qty': 26,\n",
       "  'size': {'h': 45, 'w': 31, 'uom': 't'},\n",
       "  'status': 'B'},\n",
       " {'item': 't-shirt',\n",
       "  'qty': 21,\n",
       "  'size': {'h': 25, 'w': 21, 'uom': 'cm'},\n",
       "  'status': 'E'}]"
      ]
     },
     "execution_count": 5,
     "metadata": {},
     "output_type": "execute_result"
    }
   ],
   "source": [
    "nested_record"
   ]
  },
  {
   "cell_type": "markdown",
   "id": "ca25457e",
   "metadata": {},
   "source": [
    "## some Python concept on nested record @"
   ]
  },
  {
   "cell_type": "code",
   "execution_count": 100,
   "id": "2c15ec05",
   "metadata": {},
   "outputs": [
    {
     "data": {
      "text/plain": [
       "{'item': 'paint',\n",
       " 'qty': 15,\n",
       " 'size': {'h': 20, 'w': 36, 'uom': 'in'},\n",
       " 'status': 'A'}"
      ]
     },
     "execution_count": 100,
     "metadata": {},
     "output_type": "execute_result"
    }
   ],
   "source": [
    "nested_record[1]"
   ]
  },
  {
   "cell_type": "code",
   "execution_count": 98,
   "id": "f80ce1fc",
   "metadata": {},
   "outputs": [
    {
     "data": {
      "text/plain": [
       "dict_keys(['item', 'qty', 'size', 'status'])"
      ]
     },
     "execution_count": 98,
     "metadata": {},
     "output_type": "execute_result"
    }
   ],
   "source": [
    "nested_record[1].keys()\n"
   ]
  },
  {
   "cell_type": "code",
   "execution_count": 101,
   "id": "6fe083bd",
   "metadata": {},
   "outputs": [
    {
     "data": {
      "text/plain": [
       "dict_values(['paint', 15, {'h': 20, 'w': 36, 'uom': 'in'}, 'A'])"
      ]
     },
     "execution_count": 101,
     "metadata": {},
     "output_type": "execute_result"
    }
   ],
   "source": [
    "nested_record[1].values()\n"
   ]
  },
  {
   "cell_type": "code",
   "execution_count": 102,
   "id": "02e5346f",
   "metadata": {},
   "outputs": [
    {
     "data": {
      "text/plain": [
       "{'h': 20, 'w': 36, 'uom': 'in'}"
      ]
     },
     "execution_count": 102,
     "metadata": {},
     "output_type": "execute_result"
    }
   ],
   "source": [
    "nested_record[1]['size']"
   ]
  },
  {
   "cell_type": "code",
   "execution_count": 104,
   "id": "628403f6",
   "metadata": {},
   "outputs": [
    {
     "data": {
      "text/plain": [
       "dict_keys(['h', 'w', 'uom'])"
      ]
     },
     "execution_count": 104,
     "metadata": {},
     "output_type": "execute_result"
    }
   ],
   "source": [
    "nested_record[1]['size'].keys()"
   ]
  },
  {
   "cell_type": "code",
   "execution_count": 105,
   "id": "5dd4e50e",
   "metadata": {},
   "outputs": [
    {
     "data": {
      "text/plain": [
       "dict_values([20, 36, 'in'])"
      ]
     },
     "execution_count": 105,
     "metadata": {},
     "output_type": "execute_result"
    }
   ],
   "source": [
    "nested_record[1]['size'].values()"
   ]
  },
  {
   "cell_type": "code",
   "execution_count": 14,
   "id": "3c926d8f",
   "metadata": {},
   "outputs": [],
   "source": [
    "nst=mydb.nestdata        # creating collection name nestdata"
   ]
  },
  {
   "cell_type": "code",
   "execution_count": 15,
   "id": "eb0840c9",
   "metadata": {},
   "outputs": [
    {
     "data": {
      "text/plain": [
       "'student.nestdata'"
      ]
     },
     "execution_count": 15,
     "metadata": {},
     "output_type": "execute_result"
    }
   ],
   "source": [
    "nst.full_name            # get the collection name with the database"
   ]
  },
  {
   "cell_type": "code",
   "execution_count": 16,
   "id": "faf3b9fb",
   "metadata": {},
   "outputs": [
    {
     "data": {
      "text/plain": [
       "<pymongo.results.InsertManyResult at 0x1c6b31229c0>"
      ]
     },
     "execution_count": 16,
     "metadata": {},
     "output_type": "execute_result"
    }
   ],
   "source": [
    "nst.insert_many(nested_record)"
   ]
  },
  {
   "cell_type": "code",
   "execution_count": 17,
   "id": "3e0a02f6",
   "metadata": {},
   "outputs": [
    {
     "name": "stdout",
     "output_type": "stream",
     "text": [
      "{'_id': ObjectId('618cd9ce49a09596aaaa298b'), 'item': 'journal', 'qty': 25, 'size': {'h': 14, 'w': 21, 'uom': 'cm'}, 'status': 'A'}\n",
      "{'_id': ObjectId('618cd9ce49a09596aaaa298c'), 'item': 'paint', 'qty': 15, 'size': {'h': 20, 'w': 36, 'uom': 'in'}, 'status': 'A'}\n",
      "{'_id': ObjectId('618cd9ce49a09596aaaa298d'), 'item': 't-shirt', 'qty': 11, 'size': {'h': 22, 'w': 32, 'uom': 'cm'}, 'status': 'B'}\n",
      "{'_id': ObjectId('618cd9ce49a09596aaaa298e'), 'item': 'shirt', 'qty': 5, 'size': {'h': 22, 'w': 32, 'uom': 'm'}, 'status': 'C'}\n",
      "{'_id': ObjectId('618cd9ce49a09596aaaa298f'), 'item': 'paint', 'qty': 52, 'size': {'h': 64, 'w': 41, 'uom': 'cm'}, 'status': 'D'}\n",
      "{'_id': ObjectId('618cd9ce49a09596aaaa2990'), 'item': 'journal', 'qty': 35, 'size': {'h': 34, 'w': 28, 'uom': 'm'}, 'status': 'C'}\n",
      "{'_id': ObjectId('618cd9ce49a09596aaaa2991'), 'item': 'lower', 'qty': 26, 'size': {'h': 45, 'w': 31, 'uom': 't'}, 'status': 'B'}\n",
      "{'_id': ObjectId('618cd9ce49a09596aaaa2992'), 'item': 't-shirt', 'qty': 21, 'size': {'h': 25, 'w': 21, 'uom': 'cm'}, 'status': 'E'}\n"
     ]
    }
   ],
   "source": [
    "for docs in nst.find():\n",
    "    print(docs)"
   ]
  },
  {
   "cell_type": "code",
   "execution_count": 40,
   "id": "9cdd34a7",
   "metadata": {},
   "outputs": [
    {
     "name": "stdout",
     "output_type": "stream",
     "text": [
      "{'_id': ObjectId('618bff941ba362254a215dac'), 'item': 'journal', 'qty': 25, 'size': {'h': 14, 'w': 21, 'uom': 'cm'}, 'status': 'A'}\n"
     ]
    }
   ],
   "source": [
    "for doc in nst.find({'size':{'h':14,'w':21,'uom':'cm'}}):\n",
    "    print(doc)\n",
    "# i am getting a single document from the nested json document"
   ]
  },
  {
   "cell_type": "markdown",
   "id": "bcec924c",
   "metadata": {},
   "source": [
    "## how to update JSON document in mongodb"
   ]
  },
  {
   "cell_type": "markdown",
   "id": "b171730e",
   "metadata": {},
   "source": [
    "## update_one"
   ]
  },
  {
   "cell_type": "code",
   "execution_count": 41,
   "id": "e5f41c6e",
   "metadata": {},
   "outputs": [
    {
     "data": {
      "text/plain": [
       "<pymongo.results.UpdateResult at 0x207d7eee340>"
      ]
     },
     "execution_count": 41,
     "metadata": {},
     "output_type": "execute_result"
    }
   ],
   "source": [
    "nst.update_one(\n",
    "    {'item':'shirt'},\n",
    "    {'$set':{'size.uom':'kg','status':'E',},         # this line is thinkable\n",
    "    '$currentDate':{'lastmodifiedDate':True}}   # i am ading last modified date\n",
    ")"
   ]
  },
  {
   "cell_type": "code",
   "execution_count": 44,
   "id": "bc9f4838",
   "metadata": {},
   "outputs": [
    {
     "data": {
      "text/plain": [
       "{'_id': ObjectId('618bff941ba362254a215daf'),\n",
       " 'item': 'shirt',\n",
       " 'qty': 5,\n",
       " 'size': {'h': 22, 'w': 32, 'uom': 'kg'},\n",
       " 'status': 'E',\n",
       " 'lastmodifiedDate': datetime.datetime(2021, 11, 10, 17, 39, 46, 442000)}"
      ]
     },
     "execution_count": 44,
     "metadata": {},
     "output_type": "execute_result"
    }
   ],
   "source": [
    "nst.find_one({'item':'shirt'})\n",
    "# you can see now i has updated a single particular document"
   ]
  },
  {
   "cell_type": "markdown",
   "id": "c7c88065",
   "metadata": {},
   "source": [
    "# update_many()\n",
    "<p> it is used with the condition operator</p>\n"
   ]
  },
  {
   "cell_type": "code",
   "execution_count": 20,
   "id": "def8d534",
   "metadata": {},
   "outputs": [
    {
     "data": {
      "text/plain": [
       "<pymongo.results.UpdateResult at 0x1c6b31320c0>"
      ]
     },
     "execution_count": 20,
     "metadata": {},
     "output_type": "execute_result"
    }
   ],
   "source": [
    "nst.update_many({'qty':{'$gt':32}},{'$set':{'size.uom':'kg','status':'K'},'$currentDate':{'lastmodified':True}})\n",
    "          \n",
    "# thi is multiple document fetchec by conditional operator\n",
    "# and i will update it both"
   ]
  },
  {
   "cell_type": "code",
   "execution_count": 21,
   "id": "badb114a",
   "metadata": {},
   "outputs": [
    {
     "name": "stdout",
     "output_type": "stream",
     "text": [
      "{'_id': ObjectId('618cd9ce49a09596aaaa298f'), 'item': 'paint', 'qty': 52, 'size': {'h': 64, 'w': 41, 'uom': 'kg'}, 'status': 'K', 'lastmodified': datetime.datetime(2021, 11, 11, 9, 10, 44, 929000)}\n",
      "{'_id': ObjectId('618cd9ce49a09596aaaa2990'), 'item': 'journal', 'qty': 35, 'size': {'h': 34, 'w': 28, 'uom': 'kg'}, 'status': 'K', 'lastmodified': datetime.datetime(2021, 11, 11, 9, 10, 44, 930000)}\n"
     ]
    }
   ],
   "source": [
    "for docs in nst.find({'qty':{'$gt':32}}):\n",
    "    print(docs)\n",
    "# you can see now i has update both "
   ]
  },
  {
   "cell_type": "markdown",
   "id": "275f52eb",
   "metadata": {},
   "source": [
    "# get the collection name with the help database instance"
   ]
  },
  {
   "cell_type": "code",
   "execution_count": 7,
   "id": "1f105e50",
   "metadata": {},
   "outputs": [
    {
     "data": {
      "text/plain": [
       "['nestdata', 'admission']"
      ]
     },
     "execution_count": 7,
     "metadata": {},
     "output_type": "execute_result"
    }
   ],
   "source": [
    "mydb.list_collection_names()  # this are all my collection\n",
    "# we will use admission collection"
   ]
  },
  {
   "cell_type": "code",
   "execution_count": 8,
   "id": "95ca6780",
   "metadata": {},
   "outputs": [],
   "source": [
    "admision=mydb.admission"
   ]
  },
  {
   "cell_type": "code",
   "execution_count": 9,
   "id": "320484d8",
   "metadata": {},
   "outputs": [
    {
     "data": {
      "text/plain": [
       "{'_id': ObjectId('618a8b80e860454f552548d2'),\n",
       " 'name': 'Ranjit singh',\n",
       " 'father': 'Somkar Singh',\n",
       " 'branch': 'cse',\n",
       " 'roll_no': '19CSED68',\n",
       " 'city': 'Agra',\n",
       " 'marks': 124}"
      ]
     },
     "execution_count": 9,
     "metadata": {},
     "output_type": "execute_result"
    }
   ],
   "source": [
    "admision.find_one()\n",
    "# you can see now i has retrieved first document from the admission collection"
   ]
  },
  {
   "cell_type": "code",
   "execution_count": 10,
   "id": "2a48feae",
   "metadata": {},
   "outputs": [
    {
     "name": "stdout",
     "output_type": "stream",
     "text": [
      "{'_id': ObjectId('618a8b80e860454f552548d2'), 'name': 'Ranjit singh', 'father': 'Somkar Singh', 'branch': 'cse', 'roll_no': '19CSED68', 'city': 'Agra', 'marks': 124}\n",
      "{'_id': ObjectId('618a8ee0e860454f552548d3'), 'name': 'mohan ', 'father': 'suraj ', 'branch': 'cse', 'roll_no': 69, 'city': 'hathras', 'marks': 112}\n",
      "{'_id': ObjectId('618a8f17e860454f552548d4'), 'name': 'suraj', 'father': 'mohan', 'branch': 'IT', 'roll_no': 69, 'city': 'hathras', 'marks': 112}\n",
      "{'_id': ObjectId('618a8f3fe860454f552548d5'), 'name': 'kundan', 'father': 'amar singh', 'branch': 'civil', 'roll_no': 70, 'city': 'sadabad', 'marks': 141}\n",
      "{'_id': ObjectId('618a8f67e860454f552548d6'), 'name': 'raju', 'father': 'ramsahay', 'branch': 'machenical', 'roll_no': 45, 'city': 'arti', 'marks': 119}\n",
      "{'_id': ObjectId('618a8f95e860454f552548d7'), 'name': 'soma', 'father': 'ramsahay', 'branch': 'ECE', 'roll_no': 45, 'city': 'shahwajpur', 'marks': 156}\n",
      "{'_id': ObjectId('618a9dd5e860454f552548d8'), 'name': 'mohini', 'father': 'suraj', 'roll_no': 55, 'marks': 200}\n"
     ]
    }
   ],
   "source": [
    "for doc in admision.find({}):\n",
    "    print(doc)\n",
    "# all the documents present in my collection"
   ]
  },
  {
   "cell_type": "markdown",
   "id": "11586612",
   "metadata": {},
   "source": [
    "# replace_one"
   ]
  },
  {
   "cell_type": "code",
   "execution_count": 21,
   "id": "b1015126",
   "metadata": {},
   "outputs": [
    {
     "data": {
      "text/plain": [
       "<pymongo.results.UpdateResult at 0x1358bc8d100>"
      ]
     },
     "execution_count": 21,
     "metadata": {},
     "output_type": "execute_result"
    }
   ],
   "source": [
    "admision.replace_one({'father': 'Somkar Singh'},{'father': 'Somkar Singh','updated':[{'name':'Ranjit singh','Father':'Somkar singh','Branch':'CSE','Roll_no':'19CSED68','profile':'Software Engineer'}]})\n",
    "\n",
    "# i has replace one document"
   ]
  },
  {
   "cell_type": "code",
   "execution_count": 23,
   "id": "6910ee3f",
   "metadata": {},
   "outputs": [
    {
     "name": "stdout",
     "output_type": "stream",
     "text": [
      "{'_id': ObjectId('618a8b80e860454f552548d2'), 'father': 'Somkar Singh', 'updated': [{'name': 'Ranjit singh', 'Father': 'Somkar singh', 'Branch': 'CSE', 'Roll_no': '19CSED68', 'profile': 'Software Engineer'}]}\n",
      "{'_id': ObjectId('618a8ee0e860454f552548d3'), 'name': 'mohan ', 'father': 'suraj ', 'branch': 'cse', 'roll_no': 69, 'city': 'hathras', 'marks': 112}\n",
      "{'_id': ObjectId('618a8f17e860454f552548d4'), 'name': 'suraj', 'father': 'mohan', 'branch': 'IT', 'roll_no': 69, 'city': 'hathras', 'marks': 112}\n",
      "{'_id': ObjectId('618a8f3fe860454f552548d5'), 'name': 'kundan', 'father': 'amar singh', 'branch': 'civil', 'roll_no': 70, 'city': 'sadabad', 'marks': 141}\n",
      "{'_id': ObjectId('618a8f67e860454f552548d6'), 'name': 'raju', 'father': 'ramsahay', 'branch': 'machenical', 'roll_no': 45, 'city': 'arti', 'marks': 119}\n",
      "{'_id': ObjectId('618a8f95e860454f552548d7'), 'name': 'soma', 'father': 'ramsahay', 'branch': 'ECE', 'roll_no': 45, 'city': 'shahwajpur', 'marks': 156}\n",
      "{'_id': ObjectId('618a9dd5e860454f552548d8'), 'name': 'mohini', 'father': 'suraj', 'roll_no': 55, 'marks': 200}\n"
     ]
    }
   ],
   "source": [
    "for doc in admision.find():\n",
    "    print(doc)\n",
    "# you can see now my first document that i has replaced by using replace_one method"
   ]
  },
  {
   "cell_type": "markdown",
   "id": "2dff801d",
   "metadata": {},
   "source": [
    "# aggregate function\n",
    "<ul>\n",
    "    <li>Avg</li>\n",
    "    <li>sum</li>\n",
    "    <li>multiply</li>\n",
    "    <li>project</li>\n",
    "    </ul>\n",
    "    "
   ]
  },
  {
   "cell_type": "code",
   "execution_count": 26,
   "id": "1e62e9a0",
   "metadata": {},
   "outputs": [
    {
     "data": {
      "text/plain": [
       "['nestdata', 'admission']"
      ]
     },
     "execution_count": 26,
     "metadata": {},
     "output_type": "execute_result"
    }
   ],
   "source": [
    "mydb.list_collection_names()"
   ]
  },
  {
   "cell_type": "code",
   "execution_count": 31,
   "id": "e61c17a5",
   "metadata": {},
   "outputs": [
    {
     "data": {
      "text/plain": [
       "{'_id': ObjectId('618a8b80e860454f552548d2'),\n",
       " 'father': 'Somkar Singh',\n",
       " 'updated': [{'name': 'Ranjit singh',\n",
       "   'Father': 'Somkar singh',\n",
       "   'Branch': 'CSE',\n",
       "   'Roll_no': '19CSED68',\n",
       "   'profile': 'Software Engineer'}]}"
      ]
     },
     "execution_count": 31,
     "metadata": {},
     "output_type": "execute_result"
    }
   ],
   "source": [
    "admision.find_one()\n",
    "# this collection is not suitabl for agregate so , i will create a new collection with new document"
   ]
  },
  {
   "cell_type": "code",
   "execution_count": 32,
   "id": "777f4944",
   "metadata": {},
   "outputs": [],
   "source": [
    "fruit=mydb.fruit"
   ]
  },
  {
   "cell_type": "code",
   "execution_count": 37,
   "id": "4e128ecb",
   "metadata": {},
   "outputs": [],
   "source": [
    "data=[{'name':'mango','quality':'good','quantity':20,'rate':10,'weight':'2kg'},\n",
    "{'name':'banana','quality':'medium','quantity':15,'rate':8,'weight':'3kg'},\n",
    "{'name':'grapes','quality':'vgood','quantity':12,'rate':20,'weight':'5kg'},\n",
    "{'name':'papaya','quality':'typical good','quantity':28,'rate':10,'weight':'4kg'},\n",
    "{'name':'apple','quality':'good','quantity':22,'rate':80,'weight':'8kg'}]"
   ]
  },
  {
   "cell_type": "code",
   "execution_count": 40,
   "id": "b2efdf20",
   "metadata": {},
   "outputs": [
    {
     "data": {
      "text/plain": [
       "[{'name': 'mango',\n",
       "  'quality': 'good',\n",
       "  'quantity': 20,\n",
       "  'rate': 10,\n",
       "  'weight': '2kg'},\n",
       " {'name': 'banana',\n",
       "  'quality': 'medium',\n",
       "  'quantity': 15,\n",
       "  'rate': 8,\n",
       "  'weight': '3kg'},\n",
       " {'name': 'grapes',\n",
       "  'quality': 'vgood',\n",
       "  'quantity': 12,\n",
       "  'rate': 20,\n",
       "  'weight': '5kg'},\n",
       " {'name': 'papaya',\n",
       "  'quality': 'typical good',\n",
       "  'quantity': 28,\n",
       "  'rate': 10,\n",
       "  'weight': '4kg'},\n",
       " {'name': 'apple',\n",
       "  'quality': 'good',\n",
       "  'quantity': 22,\n",
       "  'rate': 80,\n",
       "  'weight': '8kg'}]"
      ]
     },
     "execution_count": 40,
     "metadata": {},
     "output_type": "execute_result"
    }
   ],
   "source": [
    "data"
   ]
  },
  {
   "cell_type": "code",
   "execution_count": 39,
   "id": "b7f519f0",
   "metadata": {},
   "outputs": [
    {
     "data": {
      "text/html": [
       "<div>\n",
       "<style scoped>\n",
       "    .dataframe tbody tr th:only-of-type {\n",
       "        vertical-align: middle;\n",
       "    }\n",
       "\n",
       "    .dataframe tbody tr th {\n",
       "        vertical-align: top;\n",
       "    }\n",
       "\n",
       "    .dataframe thead th {\n",
       "        text-align: right;\n",
       "    }\n",
       "</style>\n",
       "<table border=\"1\" class=\"dataframe\">\n",
       "  <thead>\n",
       "    <tr style=\"text-align: right;\">\n",
       "      <th></th>\n",
       "      <th>name</th>\n",
       "      <th>quality</th>\n",
       "      <th>quantity</th>\n",
       "      <th>rate</th>\n",
       "      <th>weight</th>\n",
       "    </tr>\n",
       "  </thead>\n",
       "  <tbody>\n",
       "    <tr>\n",
       "      <th>0</th>\n",
       "      <td>mango</td>\n",
       "      <td>good</td>\n",
       "      <td>20</td>\n",
       "      <td>10</td>\n",
       "      <td>2kg</td>\n",
       "    </tr>\n",
       "    <tr>\n",
       "      <th>1</th>\n",
       "      <td>banana</td>\n",
       "      <td>medium</td>\n",
       "      <td>15</td>\n",
       "      <td>8</td>\n",
       "      <td>3kg</td>\n",
       "    </tr>\n",
       "    <tr>\n",
       "      <th>2</th>\n",
       "      <td>grapes</td>\n",
       "      <td>vgood</td>\n",
       "      <td>12</td>\n",
       "      <td>20</td>\n",
       "      <td>5kg</td>\n",
       "    </tr>\n",
       "    <tr>\n",
       "      <th>3</th>\n",
       "      <td>papaya</td>\n",
       "      <td>typical good</td>\n",
       "      <td>28</td>\n",
       "      <td>10</td>\n",
       "      <td>4kg</td>\n",
       "    </tr>\n",
       "    <tr>\n",
       "      <th>4</th>\n",
       "      <td>apple</td>\n",
       "      <td>good</td>\n",
       "      <td>22</td>\n",
       "      <td>80</td>\n",
       "      <td>8kg</td>\n",
       "    </tr>\n",
       "  </tbody>\n",
       "</table>\n",
       "</div>"
      ],
      "text/plain": [
       "     name       quality  quantity  rate weight\n",
       "0   mango          good        20    10    2kg\n",
       "1  banana        medium        15     8    3kg\n",
       "2  grapes         vgood        12    20    5kg\n",
       "3  papaya  typical good        28    10    4kg\n",
       "4   apple          good        22    80    8kg"
      ]
     },
     "execution_count": 39,
     "metadata": {},
     "output_type": "execute_result"
    }
   ],
   "source": [
    "import pandas as pd\n",
    "pd.DataFrame(data)\n",
    "# you can see here my data in pandas Dataframe"
   ]
  },
  {
   "cell_type": "code",
   "execution_count": 41,
   "id": "7f9e6219",
   "metadata": {},
   "outputs": [
    {
     "data": {
      "text/plain": [
       "<pymongo.results.InsertManyResult at 0x13595872f00>"
      ]
     },
     "execution_count": 41,
     "metadata": {},
     "output_type": "execute_result"
    }
   ],
   "source": [
    "fruit.insert_many(data)\n",
    "# insert the data into fruit collection"
   ]
  },
  {
   "cell_type": "code",
   "execution_count": 42,
   "id": "16b2f274",
   "metadata": {},
   "outputs": [
    {
     "name": "stdout",
     "output_type": "stream",
     "text": [
      "{'_id': ObjectId('618d3853cf8cf8d792821e38'), 'name': 'mango', 'quality': 'good', 'quantity': 20, 'rate': 10, 'weight': '2kg'}\n",
      "{'_id': ObjectId('618d3853cf8cf8d792821e39'), 'name': 'banana', 'quality': 'medium', 'quantity': 15, 'rate': 8, 'weight': '3kg'}\n",
      "{'_id': ObjectId('618d3853cf8cf8d792821e3a'), 'name': 'grapes', 'quality': 'vgood', 'quantity': 12, 'rate': 20, 'weight': '5kg'}\n",
      "{'_id': ObjectId('618d3853cf8cf8d792821e3b'), 'name': 'papaya', 'quality': 'typical good', 'quantity': 28, 'rate': 10, 'weight': '4kg'}\n",
      "{'_id': ObjectId('618d3853cf8cf8d792821e3c'), 'name': 'apple', 'quality': 'good', 'quantity': 22, 'rate': 80, 'weight': '8kg'}\n"
     ]
    }
   ],
   "source": [
    "for doc in fruit.find():\n",
    "    print(doc)\n",
    "# my new data is ready for the agregate function"
   ]
  },
  {
   "cell_type": "markdown",
   "id": "361cf651",
   "metadata": {},
   "source": [
    "dic={'_id': ObjectId('618d3853cf8cf8d792821e38'), 'name': 'mango', 'quality': 'good', 'quantity': 20, 'rate': 10, 'weight': '2kg'}\n",
    "{'_id': ObjectId('618d3853cf8cf8d792821e39'), 'name': 'banana', 'quality': 'medium', 'quantity': 15, 'rate': 8, 'weight': '3kg'}\n",
    "{'_id': ObjectId('618d3853cf8cf8d792821e3a'), 'name': 'grapes', 'quality': 'vgood', 'quantity': 12, 'rate': 20, 'weight': '5kg'}\n",
    "{'_id': ObjectId('618d3853cf8cf8d792821e3b'), 'name': 'papaya', 'quality': 'typical good', 'quantity': 28, 'rate': 10, 'weight': '4kg'}\n",
    "{'_id': ObjectId('618d3853cf8cf8d792821e3c'), 'name': 'apple', 'quality': 'good', 'quantity': 22, 'rate': 80, 'weight': '8kg'}"
   ]
  },
  {
   "cell_type": "code",
   "execution_count": 43,
   "id": "97f2f698",
   "metadata": {},
   "outputs": [
    {
     "data": {
      "text/plain": [
       "<pymongo.results.InsertOneResult at 0x135958743c0>"
      ]
     },
     "execution_count": 43,
     "metadata": {},
     "output_type": "execute_result"
    }
   ],
   "source": [
    "fruit.insert_one({'name':'apple','quality':'good','quantity':14,'rate':70,'weight':'5kg'})\n",
    "# i am adding one another document in my fruit collection"
   ]
  },
  {
   "cell_type": "code",
   "execution_count": 44,
   "id": "6b73a83c",
   "metadata": {},
   "outputs": [
    {
     "name": "stdout",
     "output_type": "stream",
     "text": [
      "{'_id': ObjectId('618d3853cf8cf8d792821e38'), 'name': 'mango', 'quality': 'good', 'quantity': 20, 'rate': 10, 'weight': '2kg'}\n",
      "{'_id': ObjectId('618d3853cf8cf8d792821e39'), 'name': 'banana', 'quality': 'medium', 'quantity': 15, 'rate': 8, 'weight': '3kg'}\n",
      "{'_id': ObjectId('618d3853cf8cf8d792821e3a'), 'name': 'grapes', 'quality': 'vgood', 'quantity': 12, 'rate': 20, 'weight': '5kg'}\n",
      "{'_id': ObjectId('618d3853cf8cf8d792821e3b'), 'name': 'papaya', 'quality': 'typical good', 'quantity': 28, 'rate': 10, 'weight': '4kg'}\n",
      "{'_id': ObjectId('618d3853cf8cf8d792821e3c'), 'name': 'apple', 'quality': 'good', 'quantity': 22, 'rate': 80, 'weight': '8kg'}\n",
      "{'_id': ObjectId('618d3b38cf8cf8d792821e3d'), 'name': 'apple', 'quality': 'good', 'quantity': 14, 'rate': 70, 'weight': '5kg'}\n"
     ]
    }
   ],
   "source": [
    "for doc in fruit.find():\n",
    "    print(doc)"
   ]
  },
  {
   "cell_type": "code",
   "execution_count": 45,
   "id": "52bd3ee1",
   "metadata": {},
   "outputs": [],
   "source": [
    "result=fruit.aggregate([{'$group':{'_id':'$name','total_record':{'$sum':1}}}])   # here 1 represent 1st index number of my data is name\n",
    "# how many time exist same fruit name in my collection"
   ]
  },
  {
   "cell_type": "code",
   "execution_count": 47,
   "id": "75de422e",
   "metadata": {},
   "outputs": [
    {
     "name": "stdout",
     "output_type": "stream",
     "text": [
      "{'_id': 'banana', 'total_record': 1}\n",
      "{'_id': 'apple', 'total_record': 2}\n",
      "{'_id': 'mango', 'total_record': 1}\n",
      "{'_id': 'papaya', 'total_record': 1}\n",
      "{'_id': 'grapes', 'total_record': 1}\n"
     ]
    }
   ],
   "source": [
    "for i in result:\n",
    "    print(i)\n",
    "# you can see now apple 2 times exist"
   ]
  },
  {
   "cell_type": "code",
   "execution_count": 50,
   "id": "66388ce8",
   "metadata": {},
   "outputs": [],
   "source": [
    "total_sum=fruit.aggregate([\n",
    "    {'$group':{'_id':'$name','total_quantity':{'$sum':'$quantity'}}}\n",
    "])"
   ]
  },
  {
   "cell_type": "code",
   "execution_count": 51,
   "id": "04b04c60",
   "metadata": {},
   "outputs": [
    {
     "name": "stdout",
     "output_type": "stream",
     "text": [
      "{'_id': 'grapes', 'total_quantity': 12}\n",
      "{'_id': 'banana', 'total_quantity': 15}\n",
      "{'_id': 'apple', 'total_quantity': 36}\n",
      "{'_id': 'papaya', 'total_quantity': 28}\n",
      "{'_id': 'mango', 'total_quantity': 20}\n"
     ]
    }
   ],
   "source": [
    "for i in total_sum:\n",
    "    print(i)\n",
    "# you can see my apply quantity added"
   ]
  },
  {
   "cell_type": "markdown",
   "id": "318d044a",
   "metadata": {},
   "source": [
    "# avg aggregate method"
   ]
  },
  {
   "cell_type": "code",
   "execution_count": 52,
   "id": "4cccefb9",
   "metadata": {},
   "outputs": [],
   "source": [
    "output=fruit.aggregate(\n",
    "[\n",
    "    {'$group':{'_id':'$name','avg_rate':{'$avg':'$rate'}}\n",
    "        \n",
    "    }\n",
    "])"
   ]
  },
  {
   "cell_type": "code",
   "execution_count": 53,
   "id": "bf2a6b56",
   "metadata": {},
   "outputs": [
    {
     "name": "stdout",
     "output_type": "stream",
     "text": [
      "{'_id': 'banana', 'avg_rate': 8.0}\n",
      "{'_id': 'apple', 'avg_rate': 75.0}\n",
      "{'_id': 'mango', 'avg_rate': 10.0}\n",
      "{'_id': 'papaya', 'avg_rate': 10.0}\n",
      "{'_id': 'grapes', 'avg_rate': 20.0}\n"
     ]
    }
   ],
   "source": [
    "for i in output:\n",
    "    print(i)\n",
    "# you can see now my apple rate average value"
   ]
  },
  {
   "cell_type": "markdown",
   "id": "6072cef1",
   "metadata": {},
   "source": [
    "# $multiply method in mongodb "
   ]
  },
  {
   "cell_type": "code",
   "execution_count": 55,
   "id": "b78ef5b4",
   "metadata": {},
   "outputs": [],
   "source": [
    "out=fruit.aggregate(\n",
    "[\n",
    "    {\n",
    "        '$group':{'_id':'$name','total_avg_amout':{'$avg':{'$multiply':['$quantity','$rate']}},'average_rate':{'$avg':'$rate'}}\n",
    "    }\n",
    "])"
   ]
  },
  {
   "cell_type": "code",
   "execution_count": 56,
   "id": "7d6a12bf",
   "metadata": {},
   "outputs": [
    {
     "name": "stdout",
     "output_type": "stream",
     "text": [
      "{'_id': 'banana', 'total_avg_amout': 120.0, 'average_rate': 8.0}\n",
      "{'_id': 'apple', 'total_avg_amout': 1370.0, 'average_rate': 75.0}\n",
      "{'_id': 'mango', 'total_avg_amout': 200.0, 'average_rate': 10.0}\n",
      "{'_id': 'papaya', 'total_avg_amout': 280.0, 'average_rate': 10.0}\n",
      "{'_id': 'grapes', 'total_avg_amout': 240.0, 'average_rate': 20.0}\n"
     ]
    }
   ],
   "source": [
    "for i in out:\n",
    "    print(i)"
   ]
  },
  {
   "cell_type": "markdown",
   "id": "646d1b6b",
   "metadata": {},
   "source": [
    "# project is used like a select statement"
   ]
  },
  {
   "cell_type": "code",
   "execution_count": 57,
   "id": "e3c7ec2a",
   "metadata": {},
   "outputs": [
    {
     "data": {
      "text/plain": [
       "<pymongo.command_cursor.CommandCursor at 0x1359588f0d0>"
      ]
     },
     "execution_count": 57,
     "metadata": {},
     "output_type": "execute_result"
    }
   ],
   "source": [
    "fruit.aggregate([{'$project':{'name':1,'rate':1}}])          \n",
    "# it is returning multiple names and rate of fruit\n",
    "# so i have to use loop here for display all the document one by one"
   ]
  },
  {
   "cell_type": "code",
   "execution_count": 58,
   "id": "bee832d3",
   "metadata": {},
   "outputs": [
    {
     "name": "stdout",
     "output_type": "stream",
     "text": [
      "{'_id': ObjectId('618d3853cf8cf8d792821e38'), 'name': 'mango', 'rate': 10}\n",
      "{'_id': ObjectId('618d3853cf8cf8d792821e39'), 'name': 'banana', 'rate': 8}\n",
      "{'_id': ObjectId('618d3853cf8cf8d792821e3a'), 'name': 'grapes', 'rate': 20}\n",
      "{'_id': ObjectId('618d3853cf8cf8d792821e3b'), 'name': 'papaya', 'rate': 10}\n",
      "{'_id': ObjectId('618d3853cf8cf8d792821e3c'), 'name': 'apple', 'rate': 80}\n",
      "{'_id': ObjectId('618d3b38cf8cf8d792821e3d'), 'name': 'apple', 'rate': 70}\n"
     ]
    }
   ],
   "source": [
    "for docs in fruit.aggregate([{'$project':{'name':1,'rate':1}}]):\n",
    "    print(docs)"
   ]
  },
  {
   "cell_type": "code",
   "execution_count": 59,
   "id": "4c805d4e",
   "metadata": {},
   "outputs": [
    {
     "name": "stdout",
     "output_type": "stream",
     "text": [
      "{'_id': ObjectId('618d3853cf8cf8d792821e38'), 'name': 'mango', 'quantity': 20, 'rate': 10}\n",
      "{'_id': ObjectId('618d3853cf8cf8d792821e39'), 'name': 'banana', 'quantity': 15, 'rate': 8}\n",
      "{'_id': ObjectId('618d3853cf8cf8d792821e3a'), 'name': 'grapes', 'quantity': 12, 'rate': 20}\n",
      "{'_id': ObjectId('618d3853cf8cf8d792821e3b'), 'name': 'papaya', 'quantity': 28, 'rate': 10}\n",
      "{'_id': ObjectId('618d3853cf8cf8d792821e3c'), 'name': 'apple', 'quantity': 22, 'rate': 80}\n",
      "{'_id': ObjectId('618d3b38cf8cf8d792821e3d'), 'name': 'apple', 'quantity': 14, 'rate': 70}\n"
     ]
    }
   ],
   "source": [
    "for docs in fruit.aggregate([{'$project':{'name':1,'rate':1,'quantity':1}}]):\n",
    "    print(docs)\n",
    "# you can see now my quantity is also present there"
   ]
  },
  {
   "cell_type": "code",
   "execution_count": null,
   "id": "dfe3f9e0",
   "metadata": {},
   "outputs": [],
   "source": []
  },
  {
   "cell_type": "markdown",
   "id": "94e021ad",
   "metadata": {},
   "source": [
    "## it is prectise of mongodb database onthe realworld Bike Project\n",
    "<p> in this prectise i am collectiong all the document from my machine learning bike project !!</p>\n"
   ]
  },
  {
   "cell_type": "code",
   "execution_count": 4,
   "id": "32e25dcf",
   "metadata": {},
   "outputs": [],
   "source": [
    "myd=client['Bikeproject']     # you can existed database for the process"
   ]
  },
  {
   "cell_type": "code",
   "execution_count": 9,
   "id": "5309ba0d",
   "metadata": {},
   "outputs": [
    {
     "data": {
      "text/plain": [
       "['bike_data']"
      ]
     },
     "execution_count": 9,
     "metadata": {},
     "output_type": "execute_result"
    }
   ],
   "source": [
    "myd.list_collection_names()"
   ]
  },
  {
   "cell_type": "code",
   "execution_count": 13,
   "id": "d7d88e10",
   "metadata": {},
   "outputs": [
    {
     "name": "stdout",
     "output_type": "stream",
     "text": [
      "{'_id': ObjectId('618bee81389b836b5ae82d49'), 'bike': 'Royal Enfield', 'kilometeres': '6000', 'handed': '2', 'year': 2, 'power': 300}\n",
      "{'_id': ObjectId('618beed1389b836b5ae82d4a'), 'bike': 'Royal Enfield', 'kilometeres': '6000', 'handed': '2', 'year': 1, 'power': 300}\n",
      "{'_id': ObjectId('618bf18792567f0985a825f2'), 'bike': 'KTM', 'kilometeres': '5000', 'handed': '2', 'year': 1, 'power': 360, 'Price': 133006.83}\n",
      "{'_id': ObjectId('618bf1c692567f0985a825f3'), 'bike': 'Honda', 'kilometeres': '19500', 'handed': '1', 'year': 2, 'power': 100, 'Price': 45082.08}\n",
      "{'_id': ObjectId('618bf1eb92567f0985a825f4'), 'bike': 'Yamaha', 'kilometeres': '35000', 'handed': '3', 'year': 11, 'power': 98, 'Price': 20205.9}\n",
      "{'_id': ObjectId('618bf21c92567f0985a825f5'), 'bike': 'BMW', 'kilometeres': '14000', 'handed': '2', 'year': 4, 'power': 350, 'Price': 119022.0}\n",
      "{'_id': ObjectId('618bf23692567f0985a825f6'), 'bike': 'Suzuki', 'kilometeres': '5821', 'handed': '3', 'year': 4, 'power': 360, 'Price': 94606.0}\n",
      "{'_id': ObjectId('618bf42f65e6e82407bf68c6'), 'bike': 'Suzuki', 'kilometeres': '5821', 'handed': '3', 'year': 4, 'power': 360, 'Price': 94606.0}\n",
      "{'_id': ObjectId('618bf45c65e6e82407bf68c7'), 'bike': 'TVS', 'kilometeres': '45000', 'handed': '3', 'year': 2, 'power': 200, 'Price': 105117.0}\n",
      "{'_id': ObjectId('618bf49e65e6e82407bf68c8'), 'bike': 'Honda', 'kilometeres': '2', 'handed': '1', 'year': 2, 'power': 100, 'Price': 53925.0}\n"
     ]
    }
   ],
   "source": [
    "json=[]\n",
    "for i in myd.bike_data.find():\n",
    "\n",
    "    json.append(i)\n",
    "    print(i)"
   ]
  },
  {
   "cell_type": "code",
   "execution_count": 14,
   "id": "ca62d334",
   "metadata": {},
   "outputs": [
    {
     "data": {
      "text/plain": [
       "[{'_id': ObjectId('618bee81389b836b5ae82d49'),\n",
       "  'bike': 'Royal Enfield',\n",
       "  'kilometeres': '6000',\n",
       "  'handed': '2',\n",
       "  'year': 2,\n",
       "  'power': 300},\n",
       " {'_id': ObjectId('618beed1389b836b5ae82d4a'),\n",
       "  'bike': 'Royal Enfield',\n",
       "  'kilometeres': '6000',\n",
       "  'handed': '2',\n",
       "  'year': 1,\n",
       "  'power': 300},\n",
       " {'_id': ObjectId('618bf18792567f0985a825f2'),\n",
       "  'bike': 'KTM',\n",
       "  'kilometeres': '5000',\n",
       "  'handed': '2',\n",
       "  'year': 1,\n",
       "  'power': 360,\n",
       "  'Price': 133006.83},\n",
       " {'_id': ObjectId('618bf1c692567f0985a825f3'),\n",
       "  'bike': 'Honda',\n",
       "  'kilometeres': '19500',\n",
       "  'handed': '1',\n",
       "  'year': 2,\n",
       "  'power': 100,\n",
       "  'Price': 45082.08},\n",
       " {'_id': ObjectId('618bf1eb92567f0985a825f4'),\n",
       "  'bike': 'Yamaha',\n",
       "  'kilometeres': '35000',\n",
       "  'handed': '3',\n",
       "  'year': 11,\n",
       "  'power': 98,\n",
       "  'Price': 20205.9},\n",
       " {'_id': ObjectId('618bf21c92567f0985a825f5'),\n",
       "  'bike': 'BMW',\n",
       "  'kilometeres': '14000',\n",
       "  'handed': '2',\n",
       "  'year': 4,\n",
       "  'power': 350,\n",
       "  'Price': 119022.0},\n",
       " {'_id': ObjectId('618bf23692567f0985a825f6'),\n",
       "  'bike': 'Suzuki',\n",
       "  'kilometeres': '5821',\n",
       "  'handed': '3',\n",
       "  'year': 4,\n",
       "  'power': 360,\n",
       "  'Price': 94606.0},\n",
       " {'_id': ObjectId('618bf42f65e6e82407bf68c6'),\n",
       "  'bike': 'Suzuki',\n",
       "  'kilometeres': '5821',\n",
       "  'handed': '3',\n",
       "  'year': 4,\n",
       "  'power': 360,\n",
       "  'Price': 94606.0},\n",
       " {'_id': ObjectId('618bf45c65e6e82407bf68c7'),\n",
       "  'bike': 'TVS',\n",
       "  'kilometeres': '45000',\n",
       "  'handed': '3',\n",
       "  'year': 2,\n",
       "  'power': 200,\n",
       "  'Price': 105117.0},\n",
       " {'_id': ObjectId('618bf49e65e6e82407bf68c8'),\n",
       "  'bike': 'Honda',\n",
       "  'kilometeres': '2',\n",
       "  'handed': '1',\n",
       "  'year': 2,\n",
       "  'power': 100,\n",
       "  'Price': 53925.0}]"
      ]
     },
     "execution_count": 14,
     "metadata": {},
     "output_type": "execute_result"
    }
   ],
   "source": [
    "json"
   ]
  },
  {
   "cell_type": "markdown",
   "id": "5eea0f8f",
   "metadata": {},
   "source": [
    "## you can see now i got all the document in my pandas dataframe 😁😀😁😍🥰"
   ]
  },
  {
   "cell_type": "code",
   "execution_count": 28,
   "id": "ebdb4ded",
   "metadata": {},
   "outputs": [
    {
     "data": {
      "text/html": [
       "<div>\n",
       "<style scoped>\n",
       "    .dataframe tbody tr th:only-of-type {\n",
       "        vertical-align: middle;\n",
       "    }\n",
       "\n",
       "    .dataframe tbody tr th {\n",
       "        vertical-align: top;\n",
       "    }\n",
       "\n",
       "    .dataframe thead th {\n",
       "        text-align: right;\n",
       "    }\n",
       "</style>\n",
       "<table border=\"1\" class=\"dataframe\">\n",
       "  <thead>\n",
       "    <tr style=\"text-align: right;\">\n",
       "      <th></th>\n",
       "      <th>_id</th>\n",
       "      <th>bike</th>\n",
       "      <th>kilometeres</th>\n",
       "      <th>handed</th>\n",
       "      <th>year</th>\n",
       "      <th>power</th>\n",
       "      <th>Price</th>\n",
       "    </tr>\n",
       "  </thead>\n",
       "  <tbody>\n",
       "    <tr>\n",
       "      <th>0</th>\n",
       "      <td>618bee81389b836b5ae82d49</td>\n",
       "      <td>Royal Enfield</td>\n",
       "      <td>6000</td>\n",
       "      <td>2</td>\n",
       "      <td>2</td>\n",
       "      <td>300</td>\n",
       "      <td>NaN</td>\n",
       "    </tr>\n",
       "    <tr>\n",
       "      <th>1</th>\n",
       "      <td>618beed1389b836b5ae82d4a</td>\n",
       "      <td>Royal Enfield</td>\n",
       "      <td>6000</td>\n",
       "      <td>2</td>\n",
       "      <td>1</td>\n",
       "      <td>300</td>\n",
       "      <td>NaN</td>\n",
       "    </tr>\n",
       "    <tr>\n",
       "      <th>2</th>\n",
       "      <td>618bf18792567f0985a825f2</td>\n",
       "      <td>KTM</td>\n",
       "      <td>5000</td>\n",
       "      <td>2</td>\n",
       "      <td>1</td>\n",
       "      <td>360</td>\n",
       "      <td>133006.83</td>\n",
       "    </tr>\n",
       "    <tr>\n",
       "      <th>3</th>\n",
       "      <td>618bf1c692567f0985a825f3</td>\n",
       "      <td>Honda</td>\n",
       "      <td>19500</td>\n",
       "      <td>1</td>\n",
       "      <td>2</td>\n",
       "      <td>100</td>\n",
       "      <td>45082.08</td>\n",
       "    </tr>\n",
       "    <tr>\n",
       "      <th>4</th>\n",
       "      <td>618bf1eb92567f0985a825f4</td>\n",
       "      <td>Yamaha</td>\n",
       "      <td>35000</td>\n",
       "      <td>3</td>\n",
       "      <td>11</td>\n",
       "      <td>98</td>\n",
       "      <td>20205.90</td>\n",
       "    </tr>\n",
       "    <tr>\n",
       "      <th>5</th>\n",
       "      <td>618bf21c92567f0985a825f5</td>\n",
       "      <td>BMW</td>\n",
       "      <td>14000</td>\n",
       "      <td>2</td>\n",
       "      <td>4</td>\n",
       "      <td>350</td>\n",
       "      <td>119022.00</td>\n",
       "    </tr>\n",
       "    <tr>\n",
       "      <th>6</th>\n",
       "      <td>618bf23692567f0985a825f6</td>\n",
       "      <td>Suzuki</td>\n",
       "      <td>5821</td>\n",
       "      <td>3</td>\n",
       "      <td>4</td>\n",
       "      <td>360</td>\n",
       "      <td>94606.00</td>\n",
       "    </tr>\n",
       "    <tr>\n",
       "      <th>7</th>\n",
       "      <td>618bf42f65e6e82407bf68c6</td>\n",
       "      <td>Suzuki</td>\n",
       "      <td>5821</td>\n",
       "      <td>3</td>\n",
       "      <td>4</td>\n",
       "      <td>360</td>\n",
       "      <td>94606.00</td>\n",
       "    </tr>\n",
       "    <tr>\n",
       "      <th>8</th>\n",
       "      <td>618bf45c65e6e82407bf68c7</td>\n",
       "      <td>TVS</td>\n",
       "      <td>45000</td>\n",
       "      <td>3</td>\n",
       "      <td>2</td>\n",
       "      <td>200</td>\n",
       "      <td>105117.00</td>\n",
       "    </tr>\n",
       "    <tr>\n",
       "      <th>9</th>\n",
       "      <td>618bf49e65e6e82407bf68c8</td>\n",
       "      <td>Honda</td>\n",
       "      <td>2</td>\n",
       "      <td>1</td>\n",
       "      <td>2</td>\n",
       "      <td>100</td>\n",
       "      <td>53925.00</td>\n",
       "    </tr>\n",
       "  </tbody>\n",
       "</table>\n",
       "</div>"
      ],
      "text/plain": [
       "                        _id           bike kilometeres handed  year  power  \\\n",
       "0  618bee81389b836b5ae82d49  Royal Enfield        6000      2     2    300   \n",
       "1  618beed1389b836b5ae82d4a  Royal Enfield        6000      2     1    300   \n",
       "2  618bf18792567f0985a825f2            KTM        5000      2     1    360   \n",
       "3  618bf1c692567f0985a825f3          Honda       19500      1     2    100   \n",
       "4  618bf1eb92567f0985a825f4         Yamaha       35000      3    11     98   \n",
       "5  618bf21c92567f0985a825f5            BMW       14000      2     4    350   \n",
       "6  618bf23692567f0985a825f6         Suzuki        5821      3     4    360   \n",
       "7  618bf42f65e6e82407bf68c6         Suzuki        5821      3     4    360   \n",
       "8  618bf45c65e6e82407bf68c7            TVS       45000      3     2    200   \n",
       "9  618bf49e65e6e82407bf68c8          Honda           2      1     2    100   \n",
       "\n",
       "       Price  \n",
       "0        NaN  \n",
       "1        NaN  \n",
       "2  133006.83  \n",
       "3   45082.08  \n",
       "4   20205.90  \n",
       "5  119022.00  \n",
       "6   94606.00  \n",
       "7   94606.00  \n",
       "8  105117.00  \n",
       "9   53925.00  "
      ]
     },
     "execution_count": 28,
     "metadata": {},
     "output_type": "execute_result"
    }
   ],
   "source": [
    "pandas.DataFrame(json)"
   ]
  },
  {
   "cell_type": "markdown",
   "id": "e0506161",
   "metadata": {},
   "source": [
    "# revision"
   ]
  },
  {
   "cell_type": "code",
   "execution_count": 3,
   "id": "c07836aa",
   "metadata": {},
   "outputs": [],
   "source": [
    "import pymongo "
   ]
  },
  {
   "cell_type": "code",
   "execution_count": 2,
   "id": "b57a156e",
   "metadata": {},
   "outputs": [],
   "source": [
    "conn=pymongo.MongoClient('mongodb://127.0.0.1:27017/')"
   ]
  },
  {
   "cell_type": "code",
   "execution_count": 7,
   "id": "69656805",
   "metadata": {},
   "outputs": [
    {
     "data": {
      "text/plain": [
       "'localhost'"
      ]
     },
     "execution_count": 7,
     "metadata": {},
     "output_type": "execute_result"
    }
   ],
   "source": [
    "conn.HOST"
   ]
  },
  {
   "cell_type": "code",
   "execution_count": 11,
   "id": "edebcc2e",
   "metadata": {},
   "outputs": [],
   "source": [
    "mydb=conn['irisdb']"
   ]
  },
  {
   "cell_type": "code",
   "execution_count": 12,
   "id": "c8d667b7",
   "metadata": {},
   "outputs": [],
   "source": [
    "mycl=mydb['iriscollection']"
   ]
  },
  {
   "cell_type": "code",
   "execution_count": 3,
   "id": "080b22e9",
   "metadata": {},
   "outputs": [
    {
     "data": {
      "text/html": [
       "<div>\n",
       "<style scoped>\n",
       "    .dataframe tbody tr th:only-of-type {\n",
       "        vertical-align: middle;\n",
       "    }\n",
       "\n",
       "    .dataframe tbody tr th {\n",
       "        vertical-align: top;\n",
       "    }\n",
       "\n",
       "    .dataframe thead th {\n",
       "        text-align: right;\n",
       "    }\n",
       "</style>\n",
       "<table border=\"1\" class=\"dataframe\">\n",
       "  <thead>\n",
       "    <tr style=\"text-align: right;\">\n",
       "      <th></th>\n",
       "      <th>sepal_length</th>\n",
       "      <th>sepal_width</th>\n",
       "      <th>petal_length</th>\n",
       "      <th>petal_width</th>\n",
       "      <th>species</th>\n",
       "    </tr>\n",
       "  </thead>\n",
       "  <tbody>\n",
       "    <tr>\n",
       "      <th>0</th>\n",
       "      <td>5.1</td>\n",
       "      <td>3.5</td>\n",
       "      <td>1.4</td>\n",
       "      <td>0.2</td>\n",
       "      <td>setosa</td>\n",
       "    </tr>\n",
       "    <tr>\n",
       "      <th>1</th>\n",
       "      <td>4.9</td>\n",
       "      <td>3.0</td>\n",
       "      <td>1.4</td>\n",
       "      <td>0.2</td>\n",
       "      <td>setosa</td>\n",
       "    </tr>\n",
       "    <tr>\n",
       "      <th>2</th>\n",
       "      <td>4.7</td>\n",
       "      <td>3.2</td>\n",
       "      <td>1.3</td>\n",
       "      <td>0.2</td>\n",
       "      <td>setosa</td>\n",
       "    </tr>\n",
       "    <tr>\n",
       "      <th>3</th>\n",
       "      <td>4.6</td>\n",
       "      <td>3.1</td>\n",
       "      <td>1.5</td>\n",
       "      <td>0.2</td>\n",
       "      <td>setosa</td>\n",
       "    </tr>\n",
       "    <tr>\n",
       "      <th>4</th>\n",
       "      <td>5.0</td>\n",
       "      <td>3.6</td>\n",
       "      <td>1.4</td>\n",
       "      <td>0.2</td>\n",
       "      <td>setosa</td>\n",
       "    </tr>\n",
       "  </tbody>\n",
       "</table>\n",
       "</div>"
      ],
      "text/plain": [
       "   sepal_length  sepal_width  petal_length  petal_width species\n",
       "0           5.1          3.5           1.4          0.2  setosa\n",
       "1           4.9          3.0           1.4          0.2  setosa\n",
       "2           4.7          3.2           1.3          0.2  setosa\n",
       "3           4.6          3.1           1.5          0.2  setosa\n",
       "4           5.0          3.6           1.4          0.2  setosa"
      ]
     },
     "execution_count": 3,
     "metadata": {},
     "output_type": "execute_result"
    }
   ],
   "source": [
    "import seaborn as sns\n",
    "import pandas as pd\n",
    "data=sns.load_dataset('iris')\n",
    "data.head()"
   ]
  },
  {
   "cell_type": "code",
   "execution_count": 16,
   "id": "43c49bc6",
   "metadata": {},
   "outputs": [],
   "source": [
    "data.to_csv('iris.csv')"
   ]
  },
  {
   "cell_type": "code",
   "execution_count": 4,
   "id": "10543b8f",
   "metadata": {},
   "outputs": [
    {
     "data": {
      "text/html": [
       "<div>\n",
       "<style scoped>\n",
       "    .dataframe tbody tr th:only-of-type {\n",
       "        vertical-align: middle;\n",
       "    }\n",
       "\n",
       "    .dataframe tbody tr th {\n",
       "        vertical-align: top;\n",
       "    }\n",
       "\n",
       "    .dataframe thead th {\n",
       "        text-align: right;\n",
       "    }\n",
       "</style>\n",
       "<table border=\"1\" class=\"dataframe\">\n",
       "  <thead>\n",
       "    <tr style=\"text-align: right;\">\n",
       "      <th></th>\n",
       "      <th>Unnamed: 0</th>\n",
       "      <th>sepal_length</th>\n",
       "      <th>sepal_width</th>\n",
       "      <th>petal_length</th>\n",
       "      <th>petal_width</th>\n",
       "      <th>species</th>\n",
       "    </tr>\n",
       "  </thead>\n",
       "  <tbody>\n",
       "    <tr>\n",
       "      <th>0</th>\n",
       "      <td>0</td>\n",
       "      <td>5.1</td>\n",
       "      <td>3.5</td>\n",
       "      <td>1.4</td>\n",
       "      <td>0.2</td>\n",
       "      <td>setosa</td>\n",
       "    </tr>\n",
       "    <tr>\n",
       "      <th>1</th>\n",
       "      <td>1</td>\n",
       "      <td>4.9</td>\n",
       "      <td>3.0</td>\n",
       "      <td>1.4</td>\n",
       "      <td>0.2</td>\n",
       "      <td>setosa</td>\n",
       "    </tr>\n",
       "    <tr>\n",
       "      <th>2</th>\n",
       "      <td>2</td>\n",
       "      <td>4.7</td>\n",
       "      <td>3.2</td>\n",
       "      <td>1.3</td>\n",
       "      <td>0.2</td>\n",
       "      <td>setosa</td>\n",
       "    </tr>\n",
       "    <tr>\n",
       "      <th>3</th>\n",
       "      <td>3</td>\n",
       "      <td>4.6</td>\n",
       "      <td>3.1</td>\n",
       "      <td>1.5</td>\n",
       "      <td>0.2</td>\n",
       "      <td>setosa</td>\n",
       "    </tr>\n",
       "    <tr>\n",
       "      <th>4</th>\n",
       "      <td>4</td>\n",
       "      <td>5.0</td>\n",
       "      <td>3.6</td>\n",
       "      <td>1.4</td>\n",
       "      <td>0.2</td>\n",
       "      <td>setosa</td>\n",
       "    </tr>\n",
       "  </tbody>\n",
       "</table>\n",
       "</div>"
      ],
      "text/plain": [
       "   Unnamed: 0  sepal_length  sepal_width  petal_length  petal_width species\n",
       "0           0           5.1          3.5           1.4          0.2  setosa\n",
       "1           1           4.9          3.0           1.4          0.2  setosa\n",
       "2           2           4.7          3.2           1.3          0.2  setosa\n",
       "3           3           4.6          3.1           1.5          0.2  setosa\n",
       "4           4           5.0          3.6           1.4          0.2  setosa"
      ]
     },
     "execution_count": 4,
     "metadata": {},
     "output_type": "execute_result"
    }
   ],
   "source": [
    "df=pd.read_csv('iris.csv')\n",
    "df.head()"
   ]
  },
  {
   "cell_type": "code",
   "execution_count": 5,
   "id": "891f8dfd",
   "metadata": {},
   "outputs": [
    {
     "data": {
      "text/html": [
       "<div>\n",
       "<style scoped>\n",
       "    .dataframe tbody tr th:only-of-type {\n",
       "        vertical-align: middle;\n",
       "    }\n",
       "\n",
       "    .dataframe tbody tr th {\n",
       "        vertical-align: top;\n",
       "    }\n",
       "\n",
       "    .dataframe thead th {\n",
       "        text-align: right;\n",
       "    }\n",
       "</style>\n",
       "<table border=\"1\" class=\"dataframe\">\n",
       "  <thead>\n",
       "    <tr style=\"text-align: right;\">\n",
       "      <th></th>\n",
       "      <th>sepal_length</th>\n",
       "      <th>sepal_width</th>\n",
       "      <th>petal_length</th>\n",
       "      <th>petal_width</th>\n",
       "      <th>species</th>\n",
       "    </tr>\n",
       "  </thead>\n",
       "  <tbody>\n",
       "    <tr>\n",
       "      <th>0</th>\n",
       "      <td>5.1</td>\n",
       "      <td>3.5</td>\n",
       "      <td>1.4</td>\n",
       "      <td>0.2</td>\n",
       "      <td>setosa</td>\n",
       "    </tr>\n",
       "    <tr>\n",
       "      <th>1</th>\n",
       "      <td>4.9</td>\n",
       "      <td>3.0</td>\n",
       "      <td>1.4</td>\n",
       "      <td>0.2</td>\n",
       "      <td>setosa</td>\n",
       "    </tr>\n",
       "    <tr>\n",
       "      <th>2</th>\n",
       "      <td>4.7</td>\n",
       "      <td>3.2</td>\n",
       "      <td>1.3</td>\n",
       "      <td>0.2</td>\n",
       "      <td>setosa</td>\n",
       "    </tr>\n",
       "    <tr>\n",
       "      <th>3</th>\n",
       "      <td>4.6</td>\n",
       "      <td>3.1</td>\n",
       "      <td>1.5</td>\n",
       "      <td>0.2</td>\n",
       "      <td>setosa</td>\n",
       "    </tr>\n",
       "    <tr>\n",
       "      <th>4</th>\n",
       "      <td>5.0</td>\n",
       "      <td>3.6</td>\n",
       "      <td>1.4</td>\n",
       "      <td>0.2</td>\n",
       "      <td>setosa</td>\n",
       "    </tr>\n",
       "  </tbody>\n",
       "</table>\n",
       "</div>"
      ],
      "text/plain": [
       "   sepal_length  sepal_width  petal_length  petal_width species\n",
       "0           5.1          3.5           1.4          0.2  setosa\n",
       "1           4.9          3.0           1.4          0.2  setosa\n",
       "2           4.7          3.2           1.3          0.2  setosa\n",
       "3           4.6          3.1           1.5          0.2  setosa\n",
       "4           5.0          3.6           1.4          0.2  setosa"
      ]
     },
     "execution_count": 5,
     "metadata": {},
     "output_type": "execute_result"
    }
   ],
   "source": [
    "df=df.drop('Unnamed: 0',axis='columns')\n",
    "df.head()"
   ]
  },
  {
   "cell_type": "code",
   "execution_count": 21,
   "id": "d67ccdba",
   "metadata": {},
   "outputs": [
    {
     "data": {
      "text/plain": [
       "<pymongo.results.InsertOneResult at 0x241240c3cd0>"
      ]
     },
     "execution_count": 21,
     "metadata": {},
     "output_type": "execute_result"
    }
   ],
   "source": [
    "mycl.insert_one({'sepal_length':5.1,'sepal_width':3.5,'petal_length':1.4,'petal_width':0.2,'species':'setosa'})"
   ]
  },
  {
   "cell_type": "code",
   "execution_count": 24,
   "id": "0cd2be11",
   "metadata": {},
   "outputs": [
    {
     "data": {
      "text/plain": [
       "<generator object DataFrame.iterrows at 0x0000024123226960>"
      ]
     },
     "execution_count": 24,
     "metadata": {},
     "output_type": "execute_result"
    }
   ],
   "source": [
    "df.iterrows()"
   ]
  },
  {
   "cell_type": "code",
   "execution_count": 37,
   "id": "c8b3e459",
   "metadata": {},
   "outputs": [
    {
     "data": {
      "text/plain": [
       "{'a': [5, 3], 'b': [3, 4]}"
      ]
     },
     "execution_count": 37,
     "metadata": {},
     "output_type": "execute_result"
    }
   ],
   "source": [
    "dict(a=[5,3],b=[3,4])"
   ]
  },
  {
   "cell_type": "code",
   "execution_count": 47,
   "id": "c3ab904d",
   "metadata": {},
   "outputs": [],
   "source": [
    "for i , row in  df.iterrows():\n",
    "    \n",
    "    record=dict(sepal_length = row.sepal_length,sepal_width=row.sepal_width,petal_length=row.petal_length,petal_width=row.petal_width,species=row.species)\n",
    "    mycl.insert_one(record)\n",
    "    \n",
    "    \n",
    "# dump data into mongodb "
   ]
  },
  {
   "cell_type": "code",
   "execution_count": 60,
   "id": "d420a67e",
   "metadata": {},
   "outputs": [],
   "source": [
    "b=[]\n",
    "for i in mycl.find():\n",
    "    b.append(i)\n",
    "# load from database"
   ]
  },
  {
   "cell_type": "code",
   "execution_count": 62,
   "id": "1dc07d11",
   "metadata": {},
   "outputs": [
    {
     "data": {
      "text/html": [
       "<div>\n",
       "<style scoped>\n",
       "    .dataframe tbody tr th:only-of-type {\n",
       "        vertical-align: middle;\n",
       "    }\n",
       "\n",
       "    .dataframe tbody tr th {\n",
       "        vertical-align: top;\n",
       "    }\n",
       "\n",
       "    .dataframe thead th {\n",
       "        text-align: right;\n",
       "    }\n",
       "</style>\n",
       "<table border=\"1\" class=\"dataframe\">\n",
       "  <thead>\n",
       "    <tr style=\"text-align: right;\">\n",
       "      <th></th>\n",
       "      <th>_id</th>\n",
       "      <th>sepal_length</th>\n",
       "      <th>sepal_width</th>\n",
       "      <th>petal_length</th>\n",
       "      <th>petal_width</th>\n",
       "      <th>species</th>\n",
       "    </tr>\n",
       "  </thead>\n",
       "  <tbody>\n",
       "    <tr>\n",
       "      <th>0</th>\n",
       "      <td>62f0c79954dded26d864af0f</td>\n",
       "      <td>5.1</td>\n",
       "      <td>3.5</td>\n",
       "      <td>1.4</td>\n",
       "      <td>0.2</td>\n",
       "      <td>setosa</td>\n",
       "    </tr>\n",
       "    <tr>\n",
       "      <th>1</th>\n",
       "      <td>62f0cb8554dded26d864af10</td>\n",
       "      <td>5.1</td>\n",
       "      <td>3.5</td>\n",
       "      <td>1.4</td>\n",
       "      <td>0.2</td>\n",
       "      <td>setosa</td>\n",
       "    </tr>\n",
       "    <tr>\n",
       "      <th>2</th>\n",
       "      <td>62f0cb8554dded26d864af11</td>\n",
       "      <td>4.9</td>\n",
       "      <td>3.0</td>\n",
       "      <td>1.4</td>\n",
       "      <td>0.2</td>\n",
       "      <td>setosa</td>\n",
       "    </tr>\n",
       "    <tr>\n",
       "      <th>3</th>\n",
       "      <td>62f0cb8554dded26d864af12</td>\n",
       "      <td>4.7</td>\n",
       "      <td>3.2</td>\n",
       "      <td>1.3</td>\n",
       "      <td>0.2</td>\n",
       "      <td>setosa</td>\n",
       "    </tr>\n",
       "    <tr>\n",
       "      <th>4</th>\n",
       "      <td>62f0cb8554dded26d864af13</td>\n",
       "      <td>4.6</td>\n",
       "      <td>3.1</td>\n",
       "      <td>1.5</td>\n",
       "      <td>0.2</td>\n",
       "      <td>setosa</td>\n",
       "    </tr>\n",
       "    <tr>\n",
       "      <th>...</th>\n",
       "      <td>...</td>\n",
       "      <td>...</td>\n",
       "      <td>...</td>\n",
       "      <td>...</td>\n",
       "      <td>...</td>\n",
       "      <td>...</td>\n",
       "    </tr>\n",
       "    <tr>\n",
       "      <th>157</th>\n",
       "      <td>62f0cbb254dded26d864afac</td>\n",
       "      <td>6.7</td>\n",
       "      <td>3.0</td>\n",
       "      <td>5.2</td>\n",
       "      <td>2.3</td>\n",
       "      <td>virginica</td>\n",
       "    </tr>\n",
       "    <tr>\n",
       "      <th>158</th>\n",
       "      <td>62f0cbb254dded26d864afad</td>\n",
       "      <td>6.3</td>\n",
       "      <td>2.5</td>\n",
       "      <td>5.0</td>\n",
       "      <td>1.9</td>\n",
       "      <td>virginica</td>\n",
       "    </tr>\n",
       "    <tr>\n",
       "      <th>159</th>\n",
       "      <td>62f0cbb254dded26d864afae</td>\n",
       "      <td>6.5</td>\n",
       "      <td>3.0</td>\n",
       "      <td>5.2</td>\n",
       "      <td>2.0</td>\n",
       "      <td>virginica</td>\n",
       "    </tr>\n",
       "    <tr>\n",
       "      <th>160</th>\n",
       "      <td>62f0cbb254dded26d864afaf</td>\n",
       "      <td>6.2</td>\n",
       "      <td>3.4</td>\n",
       "      <td>5.4</td>\n",
       "      <td>2.3</td>\n",
       "      <td>virginica</td>\n",
       "    </tr>\n",
       "    <tr>\n",
       "      <th>161</th>\n",
       "      <td>62f0cbb254dded26d864afb0</td>\n",
       "      <td>5.9</td>\n",
       "      <td>3.0</td>\n",
       "      <td>5.1</td>\n",
       "      <td>1.8</td>\n",
       "      <td>virginica</td>\n",
       "    </tr>\n",
       "  </tbody>\n",
       "</table>\n",
       "<p>162 rows × 6 columns</p>\n",
       "</div>"
      ],
      "text/plain": [
       "                          _id  sepal_length  sepal_width  petal_length  \\\n",
       "0    62f0c79954dded26d864af0f           5.1          3.5           1.4   \n",
       "1    62f0cb8554dded26d864af10           5.1          3.5           1.4   \n",
       "2    62f0cb8554dded26d864af11           4.9          3.0           1.4   \n",
       "3    62f0cb8554dded26d864af12           4.7          3.2           1.3   \n",
       "4    62f0cb8554dded26d864af13           4.6          3.1           1.5   \n",
       "..                        ...           ...          ...           ...   \n",
       "157  62f0cbb254dded26d864afac           6.7          3.0           5.2   \n",
       "158  62f0cbb254dded26d864afad           6.3          2.5           5.0   \n",
       "159  62f0cbb254dded26d864afae           6.5          3.0           5.2   \n",
       "160  62f0cbb254dded26d864afaf           6.2          3.4           5.4   \n",
       "161  62f0cbb254dded26d864afb0           5.9          3.0           5.1   \n",
       "\n",
       "     petal_width    species  \n",
       "0            0.2     setosa  \n",
       "1            0.2     setosa  \n",
       "2            0.2     setosa  \n",
       "3            0.2     setosa  \n",
       "4            0.2     setosa  \n",
       "..           ...        ...  \n",
       "157          2.3  virginica  \n",
       "158          1.9  virginica  \n",
       "159          2.0  virginica  \n",
       "160          2.3  virginica  \n",
       "161          1.8  virginica  \n",
       "\n",
       "[162 rows x 6 columns]"
      ]
     },
     "execution_count": 62,
     "metadata": {},
     "output_type": "execute_result"
    }
   ],
   "source": [
    "pd.DataFrame(b)"
   ]
  },
  {
   "cell_type": "code",
   "execution_count": 9,
   "id": "cc70fee5",
   "metadata": {},
   "outputs": [
    {
     "data": {
      "text/plain": [
       "Database(MongoClient(host=['127.0.0.1:27017'], document_class=dict, tz_aware=False, connect=True), 'full_name')"
      ]
     },
     "execution_count": 9,
     "metadata": {},
     "output_type": "execute_result"
    }
   ],
   "source": [
    "client.full_name"
   ]
  },
  {
   "cell_type": "code",
   "execution_count": 13,
   "id": "96cc66c9",
   "metadata": {},
   "outputs": [
    {
     "data": {
      "text/plain": [
       "<bound method MongoClient.get_database of MongoClient(host=['127.0.0.1:27017'], document_class=dict, tz_aware=False, connect=True)>"
      ]
     },
     "execution_count": 13,
     "metadata": {},
     "output_type": "execute_result"
    }
   ],
   "source": [
    "client.get_database\n"
   ]
  },
  {
   "cell_type": "code",
   "execution_count": 16,
   "id": "f460ed85",
   "metadata": {},
   "outputs": [
    {
     "name": "stdout",
     "output_type": "stream",
     "text": [
      "admin\n",
      "config\n",
      "irisdb\n",
      "local\n",
      "student\n"
     ]
    }
   ],
   "source": [
    "for i in client.list_database_names():\n",
    "    print(i)\n",
    "\n",
    "# for show the database in current db"
   ]
  },
  {
   "cell_type": "code",
   "execution_count": 17,
   "id": "2d8dfb50",
   "metadata": {},
   "outputs": [
    {
     "data": {
      "text/plain": [
       "['iriscollection']"
      ]
     },
     "execution_count": 17,
     "metadata": {},
     "output_type": "execute_result"
    }
   ],
   "source": [
    "client['irisdb'].list_collection_names()\n",
    "\n",
    "# get the collection name"
   ]
  },
  {
   "cell_type": "code",
   "execution_count": 18,
   "id": "fa70cb22",
   "metadata": {},
   "outputs": [
    {
     "name": "stdout",
     "output_type": "stream",
     "text": [
      "{'_id': ObjectId('62f0c79954dded26d864af0f'), 'sepal_length': 5.1, 'sepal_width': 3.5, 'petal_length': 1.4, 'petal_width': 0.2, 'species': 'setosa'}\n",
      "{'_id': ObjectId('62f0cb8554dded26d864af10'), 'sepal_length': 5.1, 'sepal_width': 3.5, 'petal_length': 1.4, 'petal_width': 0.2, 'species': 'setosa'}\n",
      "{'_id': ObjectId('62f0cb8554dded26d864af11'), 'sepal_length': 4.9, 'sepal_width': 3.0, 'petal_length': 1.4, 'petal_width': 0.2, 'species': 'setosa'}\n",
      "{'_id': ObjectId('62f0cb8554dded26d864af12'), 'sepal_length': 4.7, 'sepal_width': 3.2, 'petal_length': 1.3, 'petal_width': 0.2, 'species': 'setosa'}\n",
      "{'_id': ObjectId('62f0cb8554dded26d864af13'), 'sepal_length': 4.6, 'sepal_width': 3.1, 'petal_length': 1.5, 'petal_width': 0.2, 'species': 'setosa'}\n",
      "{'_id': ObjectId('62f0cb8554dded26d864af14'), 'sepal_length': 5.0, 'sepal_width': 3.6, 'petal_length': 1.4, 'petal_width': 0.2, 'species': 'setosa'}\n",
      "{'_id': ObjectId('62f0cb8554dded26d864af15'), 'sepal_length': 5.4, 'sepal_width': 3.9, 'petal_length': 1.7, 'petal_width': 0.4, 'species': 'setosa'}\n",
      "{'_id': ObjectId('62f0cb8554dded26d864af16'), 'sepal_length': 4.6, 'sepal_width': 3.4, 'petal_length': 1.4, 'petal_width': 0.3, 'species': 'setosa'}\n",
      "{'_id': ObjectId('62f0cb8554dded26d864af17'), 'sepal_length': 5.0, 'sepal_width': 3.4, 'petal_length': 1.5, 'petal_width': 0.2, 'species': 'setosa'}\n",
      "{'_id': ObjectId('62f0cb8554dded26d864af18'), 'sepal_length': 4.4, 'sepal_width': 2.9, 'petal_length': 1.4, 'petal_width': 0.2, 'species': 'setosa'}\n",
      "{'_id': ObjectId('62f0cb8554dded26d864af19'), 'sepal_length': 4.9, 'sepal_width': 3.1, 'petal_length': 1.5, 'petal_width': 0.1, 'species': 'setosa'}\n",
      "{'_id': ObjectId('62f0cb8554dded26d864af1a'), 'sepal_length': 5.4, 'sepal_width': 3.7, 'petal_length': 1.5, 'petal_width': 0.2, 'species': 'setosa'}\n",
      "{'_id': ObjectId('62f0cbb254dded26d864af1b'), 'sepal_length': 5.1, 'sepal_width': 3.5, 'petal_length': 1.4, 'petal_width': 0.2, 'species': 'setosa'}\n",
      "{'_id': ObjectId('62f0cbb254dded26d864af1c'), 'sepal_length': 4.9, 'sepal_width': 3.0, 'petal_length': 1.4, 'petal_width': 0.2, 'species': 'setosa'}\n",
      "{'_id': ObjectId('62f0cbb254dded26d864af1d'), 'sepal_length': 4.7, 'sepal_width': 3.2, 'petal_length': 1.3, 'petal_width': 0.2, 'species': 'setosa'}\n",
      "{'_id': ObjectId('62f0cbb254dded26d864af1e'), 'sepal_length': 4.6, 'sepal_width': 3.1, 'petal_length': 1.5, 'petal_width': 0.2, 'species': 'setosa'}\n",
      "{'_id': ObjectId('62f0cbb254dded26d864af1f'), 'sepal_length': 5.0, 'sepal_width': 3.6, 'petal_length': 1.4, 'petal_width': 0.2, 'species': 'setosa'}\n",
      "{'_id': ObjectId('62f0cbb254dded26d864af20'), 'sepal_length': 5.4, 'sepal_width': 3.9, 'petal_length': 1.7, 'petal_width': 0.4, 'species': 'setosa'}\n",
      "{'_id': ObjectId('62f0cbb254dded26d864af21'), 'sepal_length': 4.6, 'sepal_width': 3.4, 'petal_length': 1.4, 'petal_width': 0.3, 'species': 'setosa'}\n",
      "{'_id': ObjectId('62f0cbb254dded26d864af22'), 'sepal_length': 5.0, 'sepal_width': 3.4, 'petal_length': 1.5, 'petal_width': 0.2, 'species': 'setosa'}\n",
      "{'_id': ObjectId('62f0cbb254dded26d864af23'), 'sepal_length': 4.4, 'sepal_width': 2.9, 'petal_length': 1.4, 'petal_width': 0.2, 'species': 'setosa'}\n",
      "{'_id': ObjectId('62f0cbb254dded26d864af24'), 'sepal_length': 4.9, 'sepal_width': 3.1, 'petal_length': 1.5, 'petal_width': 0.1, 'species': 'setosa'}\n",
      "{'_id': ObjectId('62f0cbb254dded26d864af25'), 'sepal_length': 5.4, 'sepal_width': 3.7, 'petal_length': 1.5, 'petal_width': 0.2, 'species': 'setosa'}\n",
      "{'_id': ObjectId('62f0cbb254dded26d864af26'), 'sepal_length': 4.8, 'sepal_width': 3.4, 'petal_length': 1.6, 'petal_width': 0.2, 'species': 'setosa'}\n",
      "{'_id': ObjectId('62f0cbb254dded26d864af27'), 'sepal_length': 4.8, 'sepal_width': 3.0, 'petal_length': 1.4, 'petal_width': 0.1, 'species': 'setosa'}\n",
      "{'_id': ObjectId('62f0cbb254dded26d864af28'), 'sepal_length': 4.3, 'sepal_width': 3.0, 'petal_length': 1.1, 'petal_width': 0.1, 'species': 'setosa'}\n",
      "{'_id': ObjectId('62f0cbb254dded26d864af29'), 'sepal_length': 5.8, 'sepal_width': 4.0, 'petal_length': 1.2, 'petal_width': 0.2, 'species': 'setosa'}\n",
      "{'_id': ObjectId('62f0cbb254dded26d864af2a'), 'sepal_length': 5.7, 'sepal_width': 4.4, 'petal_length': 1.5, 'petal_width': 0.4, 'species': 'setosa'}\n",
      "{'_id': ObjectId('62f0cbb254dded26d864af2b'), 'sepal_length': 5.4, 'sepal_width': 3.9, 'petal_length': 1.3, 'petal_width': 0.4, 'species': 'setosa'}\n",
      "{'_id': ObjectId('62f0cbb254dded26d864af2c'), 'sepal_length': 5.1, 'sepal_width': 3.5, 'petal_length': 1.4, 'petal_width': 0.3, 'species': 'setosa'}\n",
      "{'_id': ObjectId('62f0cbb254dded26d864af2d'), 'sepal_length': 5.7, 'sepal_width': 3.8, 'petal_length': 1.7, 'petal_width': 0.3, 'species': 'setosa'}\n",
      "{'_id': ObjectId('62f0cbb254dded26d864af2e'), 'sepal_length': 5.1, 'sepal_width': 3.8, 'petal_length': 1.5, 'petal_width': 0.3, 'species': 'setosa'}\n",
      "{'_id': ObjectId('62f0cbb254dded26d864af2f'), 'sepal_length': 5.4, 'sepal_width': 3.4, 'petal_length': 1.7, 'petal_width': 0.2, 'species': 'setosa'}\n",
      "{'_id': ObjectId('62f0cbb254dded26d864af30'), 'sepal_length': 5.1, 'sepal_width': 3.7, 'petal_length': 1.5, 'petal_width': 0.4, 'species': 'setosa'}\n",
      "{'_id': ObjectId('62f0cbb254dded26d864af31'), 'sepal_length': 4.6, 'sepal_width': 3.6, 'petal_length': 1.0, 'petal_width': 0.2, 'species': 'setosa'}\n",
      "{'_id': ObjectId('62f0cbb254dded26d864af32'), 'sepal_length': 5.1, 'sepal_width': 3.3, 'petal_length': 1.7, 'petal_width': 0.5, 'species': 'setosa'}\n",
      "{'_id': ObjectId('62f0cbb254dded26d864af33'), 'sepal_length': 4.8, 'sepal_width': 3.4, 'petal_length': 1.9, 'petal_width': 0.2, 'species': 'setosa'}\n",
      "{'_id': ObjectId('62f0cbb254dded26d864af34'), 'sepal_length': 5.0, 'sepal_width': 3.0, 'petal_length': 1.6, 'petal_width': 0.2, 'species': 'setosa'}\n",
      "{'_id': ObjectId('62f0cbb254dded26d864af35'), 'sepal_length': 5.0, 'sepal_width': 3.4, 'petal_length': 1.6, 'petal_width': 0.4, 'species': 'setosa'}\n",
      "{'_id': ObjectId('62f0cbb254dded26d864af36'), 'sepal_length': 5.2, 'sepal_width': 3.5, 'petal_length': 1.5, 'petal_width': 0.2, 'species': 'setosa'}\n",
      "{'_id': ObjectId('62f0cbb254dded26d864af37'), 'sepal_length': 5.2, 'sepal_width': 3.4, 'petal_length': 1.4, 'petal_width': 0.2, 'species': 'setosa'}\n",
      "{'_id': ObjectId('62f0cbb254dded26d864af38'), 'sepal_length': 4.7, 'sepal_width': 3.2, 'petal_length': 1.6, 'petal_width': 0.2, 'species': 'setosa'}\n",
      "{'_id': ObjectId('62f0cbb254dded26d864af39'), 'sepal_length': 4.8, 'sepal_width': 3.1, 'petal_length': 1.6, 'petal_width': 0.2, 'species': 'setosa'}\n",
      "{'_id': ObjectId('62f0cbb254dded26d864af3a'), 'sepal_length': 5.4, 'sepal_width': 3.4, 'petal_length': 1.5, 'petal_width': 0.4, 'species': 'setosa'}\n",
      "{'_id': ObjectId('62f0cbb254dded26d864af3b'), 'sepal_length': 5.2, 'sepal_width': 4.1, 'petal_length': 1.5, 'petal_width': 0.1, 'species': 'setosa'}\n",
      "{'_id': ObjectId('62f0cbb254dded26d864af3c'), 'sepal_length': 5.5, 'sepal_width': 4.2, 'petal_length': 1.4, 'petal_width': 0.2, 'species': 'setosa'}\n",
      "{'_id': ObjectId('62f0cbb254dded26d864af3d'), 'sepal_length': 4.9, 'sepal_width': 3.1, 'petal_length': 1.5, 'petal_width': 0.2, 'species': 'setosa'}\n",
      "{'_id': ObjectId('62f0cbb254dded26d864af3e'), 'sepal_length': 5.0, 'sepal_width': 3.2, 'petal_length': 1.2, 'petal_width': 0.2, 'species': 'setosa'}\n",
      "{'_id': ObjectId('62f0cbb254dded26d864af3f'), 'sepal_length': 5.5, 'sepal_width': 3.5, 'petal_length': 1.3, 'petal_width': 0.2, 'species': 'setosa'}\n",
      "{'_id': ObjectId('62f0cbb254dded26d864af40'), 'sepal_length': 4.9, 'sepal_width': 3.6, 'petal_length': 1.4, 'petal_width': 0.1, 'species': 'setosa'}\n",
      "{'_id': ObjectId('62f0cbb254dded26d864af41'), 'sepal_length': 4.4, 'sepal_width': 3.0, 'petal_length': 1.3, 'petal_width': 0.2, 'species': 'setosa'}\n",
      "{'_id': ObjectId('62f0cbb254dded26d864af42'), 'sepal_length': 5.1, 'sepal_width': 3.4, 'petal_length': 1.5, 'petal_width': 0.2, 'species': 'setosa'}\n",
      "{'_id': ObjectId('62f0cbb254dded26d864af43'), 'sepal_length': 5.0, 'sepal_width': 3.5, 'petal_length': 1.3, 'petal_width': 0.3, 'species': 'setosa'}\n",
      "{'_id': ObjectId('62f0cbb254dded26d864af44'), 'sepal_length': 4.5, 'sepal_width': 2.3, 'petal_length': 1.3, 'petal_width': 0.3, 'species': 'setosa'}\n",
      "{'_id': ObjectId('62f0cbb254dded26d864af45'), 'sepal_length': 4.4, 'sepal_width': 3.2, 'petal_length': 1.3, 'petal_width': 0.2, 'species': 'setosa'}\n",
      "{'_id': ObjectId('62f0cbb254dded26d864af46'), 'sepal_length': 5.0, 'sepal_width': 3.5, 'petal_length': 1.6, 'petal_width': 0.6, 'species': 'setosa'}\n",
      "{'_id': ObjectId('62f0cbb254dded26d864af47'), 'sepal_length': 5.1, 'sepal_width': 3.8, 'petal_length': 1.9, 'petal_width': 0.4, 'species': 'setosa'}\n",
      "{'_id': ObjectId('62f0cbb254dded26d864af48'), 'sepal_length': 4.8, 'sepal_width': 3.0, 'petal_length': 1.4, 'petal_width': 0.3, 'species': 'setosa'}\n",
      "{'_id': ObjectId('62f0cbb254dded26d864af49'), 'sepal_length': 5.1, 'sepal_width': 3.8, 'petal_length': 1.6, 'petal_width': 0.2, 'species': 'setosa'}\n",
      "{'_id': ObjectId('62f0cbb254dded26d864af4a'), 'sepal_length': 4.6, 'sepal_width': 3.2, 'petal_length': 1.4, 'petal_width': 0.2, 'species': 'setosa'}\n",
      "{'_id': ObjectId('62f0cbb254dded26d864af4b'), 'sepal_length': 5.3, 'sepal_width': 3.7, 'petal_length': 1.5, 'petal_width': 0.2, 'species': 'setosa'}\n",
      "{'_id': ObjectId('62f0cbb254dded26d864af4c'), 'sepal_length': 5.0, 'sepal_width': 3.3, 'petal_length': 1.4, 'petal_width': 0.2, 'species': 'setosa'}\n",
      "{'_id': ObjectId('62f0cbb254dded26d864af4d'), 'sepal_length': 7.0, 'sepal_width': 3.2, 'petal_length': 4.7, 'petal_width': 1.4, 'species': 'versicolor'}\n",
      "{'_id': ObjectId('62f0cbb254dded26d864af4e'), 'sepal_length': 6.4, 'sepal_width': 3.2, 'petal_length': 4.5, 'petal_width': 1.5, 'species': 'versicolor'}\n",
      "{'_id': ObjectId('62f0cbb254dded26d864af4f'), 'sepal_length': 6.9, 'sepal_width': 3.1, 'petal_length': 4.9, 'petal_width': 1.5, 'species': 'versicolor'}\n",
      "{'_id': ObjectId('62f0cbb254dded26d864af50'), 'sepal_length': 5.5, 'sepal_width': 2.3, 'petal_length': 4.0, 'petal_width': 1.3, 'species': 'versicolor'}\n",
      "{'_id': ObjectId('62f0cbb254dded26d864af51'), 'sepal_length': 6.5, 'sepal_width': 2.8, 'petal_length': 4.6, 'petal_width': 1.5, 'species': 'versicolor'}\n",
      "{'_id': ObjectId('62f0cbb254dded26d864af52'), 'sepal_length': 5.7, 'sepal_width': 2.8, 'petal_length': 4.5, 'petal_width': 1.3, 'species': 'versicolor'}\n",
      "{'_id': ObjectId('62f0cbb254dded26d864af53'), 'sepal_length': 6.3, 'sepal_width': 3.3, 'petal_length': 4.7, 'petal_width': 1.6, 'species': 'versicolor'}\n",
      "{'_id': ObjectId('62f0cbb254dded26d864af54'), 'sepal_length': 4.9, 'sepal_width': 2.4, 'petal_length': 3.3, 'petal_width': 1.0, 'species': 'versicolor'}\n",
      "{'_id': ObjectId('62f0cbb254dded26d864af55'), 'sepal_length': 6.6, 'sepal_width': 2.9, 'petal_length': 4.6, 'petal_width': 1.3, 'species': 'versicolor'}\n",
      "{'_id': ObjectId('62f0cbb254dded26d864af56'), 'sepal_length': 5.2, 'sepal_width': 2.7, 'petal_length': 3.9, 'petal_width': 1.4, 'species': 'versicolor'}\n",
      "{'_id': ObjectId('62f0cbb254dded26d864af57'), 'sepal_length': 5.0, 'sepal_width': 2.0, 'petal_length': 3.5, 'petal_width': 1.0, 'species': 'versicolor'}\n",
      "{'_id': ObjectId('62f0cbb254dded26d864af58'), 'sepal_length': 5.9, 'sepal_width': 3.0, 'petal_length': 4.2, 'petal_width': 1.5, 'species': 'versicolor'}\n",
      "{'_id': ObjectId('62f0cbb254dded26d864af59'), 'sepal_length': 6.0, 'sepal_width': 2.2, 'petal_length': 4.0, 'petal_width': 1.0, 'species': 'versicolor'}\n",
      "{'_id': ObjectId('62f0cbb254dded26d864af5a'), 'sepal_length': 6.1, 'sepal_width': 2.9, 'petal_length': 4.7, 'petal_width': 1.4, 'species': 'versicolor'}\n",
      "{'_id': ObjectId('62f0cbb254dded26d864af5b'), 'sepal_length': 5.6, 'sepal_width': 2.9, 'petal_length': 3.6, 'petal_width': 1.3, 'species': 'versicolor'}\n",
      "{'_id': ObjectId('62f0cbb254dded26d864af5c'), 'sepal_length': 6.7, 'sepal_width': 3.1, 'petal_length': 4.4, 'petal_width': 1.4, 'species': 'versicolor'}\n",
      "{'_id': ObjectId('62f0cbb254dded26d864af5d'), 'sepal_length': 5.6, 'sepal_width': 3.0, 'petal_length': 4.5, 'petal_width': 1.5, 'species': 'versicolor'}\n",
      "{'_id': ObjectId('62f0cbb254dded26d864af5e'), 'sepal_length': 5.8, 'sepal_width': 2.7, 'petal_length': 4.1, 'petal_width': 1.0, 'species': 'versicolor'}\n",
      "{'_id': ObjectId('62f0cbb254dded26d864af5f'), 'sepal_length': 6.2, 'sepal_width': 2.2, 'petal_length': 4.5, 'petal_width': 1.5, 'species': 'versicolor'}\n",
      "{'_id': ObjectId('62f0cbb254dded26d864af60'), 'sepal_length': 5.6, 'sepal_width': 2.5, 'petal_length': 3.9, 'petal_width': 1.1, 'species': 'versicolor'}\n",
      "{'_id': ObjectId('62f0cbb254dded26d864af61'), 'sepal_length': 5.9, 'sepal_width': 3.2, 'petal_length': 4.8, 'petal_width': 1.8, 'species': 'versicolor'}\n",
      "{'_id': ObjectId('62f0cbb254dded26d864af62'), 'sepal_length': 6.1, 'sepal_width': 2.8, 'petal_length': 4.0, 'petal_width': 1.3, 'species': 'versicolor'}\n",
      "{'_id': ObjectId('62f0cbb254dded26d864af63'), 'sepal_length': 6.3, 'sepal_width': 2.5, 'petal_length': 4.9, 'petal_width': 1.5, 'species': 'versicolor'}\n",
      "{'_id': ObjectId('62f0cbb254dded26d864af64'), 'sepal_length': 6.1, 'sepal_width': 2.8, 'petal_length': 4.7, 'petal_width': 1.2, 'species': 'versicolor'}\n",
      "{'_id': ObjectId('62f0cbb254dded26d864af65'), 'sepal_length': 6.4, 'sepal_width': 2.9, 'petal_length': 4.3, 'petal_width': 1.3, 'species': 'versicolor'}\n",
      "{'_id': ObjectId('62f0cbb254dded26d864af66'), 'sepal_length': 6.6, 'sepal_width': 3.0, 'petal_length': 4.4, 'petal_width': 1.4, 'species': 'versicolor'}\n",
      "{'_id': ObjectId('62f0cbb254dded26d864af67'), 'sepal_length': 6.8, 'sepal_width': 2.8, 'petal_length': 4.8, 'petal_width': 1.4, 'species': 'versicolor'}\n",
      "{'_id': ObjectId('62f0cbb254dded26d864af68'), 'sepal_length': 6.7, 'sepal_width': 3.0, 'petal_length': 5.0, 'petal_width': 1.7, 'species': 'versicolor'}\n",
      "{'_id': ObjectId('62f0cbb254dded26d864af69'), 'sepal_length': 6.0, 'sepal_width': 2.9, 'petal_length': 4.5, 'petal_width': 1.5, 'species': 'versicolor'}\n",
      "{'_id': ObjectId('62f0cbb254dded26d864af6a'), 'sepal_length': 5.7, 'sepal_width': 2.6, 'petal_length': 3.5, 'petal_width': 1.0, 'species': 'versicolor'}\n",
      "{'_id': ObjectId('62f0cbb254dded26d864af6b'), 'sepal_length': 5.5, 'sepal_width': 2.4, 'petal_length': 3.8, 'petal_width': 1.1, 'species': 'versicolor'}\n",
      "{'_id': ObjectId('62f0cbb254dded26d864af6c'), 'sepal_length': 5.5, 'sepal_width': 2.4, 'petal_length': 3.7, 'petal_width': 1.0, 'species': 'versicolor'}\n",
      "{'_id': ObjectId('62f0cbb254dded26d864af6d'), 'sepal_length': 5.8, 'sepal_width': 2.7, 'petal_length': 3.9, 'petal_width': 1.2, 'species': 'versicolor'}\n",
      "{'_id': ObjectId('62f0cbb254dded26d864af6e'), 'sepal_length': 6.0, 'sepal_width': 2.7, 'petal_length': 5.1, 'petal_width': 1.6, 'species': 'versicolor'}\n",
      "{'_id': ObjectId('62f0cbb254dded26d864af6f'), 'sepal_length': 5.4, 'sepal_width': 3.0, 'petal_length': 4.5, 'petal_width': 1.5, 'species': 'versicolor'}\n",
      "{'_id': ObjectId('62f0cbb254dded26d864af70'), 'sepal_length': 6.0, 'sepal_width': 3.4, 'petal_length': 4.5, 'petal_width': 1.6, 'species': 'versicolor'}\n",
      "{'_id': ObjectId('62f0cbb254dded26d864af71'), 'sepal_length': 6.7, 'sepal_width': 3.1, 'petal_length': 4.7, 'petal_width': 1.5, 'species': 'versicolor'}\n",
      "{'_id': ObjectId('62f0cbb254dded26d864af72'), 'sepal_length': 6.3, 'sepal_width': 2.3, 'petal_length': 4.4, 'petal_width': 1.3, 'species': 'versicolor'}\n",
      "{'_id': ObjectId('62f0cbb254dded26d864af73'), 'sepal_length': 5.6, 'sepal_width': 3.0, 'petal_length': 4.1, 'petal_width': 1.3, 'species': 'versicolor'}\n",
      "{'_id': ObjectId('62f0cbb254dded26d864af74'), 'sepal_length': 5.5, 'sepal_width': 2.5, 'petal_length': 4.0, 'petal_width': 1.3, 'species': 'versicolor'}\n",
      "{'_id': ObjectId('62f0cbb254dded26d864af75'), 'sepal_length': 5.5, 'sepal_width': 2.6, 'petal_length': 4.4, 'petal_width': 1.2, 'species': 'versicolor'}\n",
      "{'_id': ObjectId('62f0cbb254dded26d864af76'), 'sepal_length': 6.1, 'sepal_width': 3.0, 'petal_length': 4.6, 'petal_width': 1.4, 'species': 'versicolor'}\n",
      "{'_id': ObjectId('62f0cbb254dded26d864af77'), 'sepal_length': 5.8, 'sepal_width': 2.6, 'petal_length': 4.0, 'petal_width': 1.2, 'species': 'versicolor'}\n",
      "{'_id': ObjectId('62f0cbb254dded26d864af78'), 'sepal_length': 5.0, 'sepal_width': 2.3, 'petal_length': 3.3, 'petal_width': 1.0, 'species': 'versicolor'}\n",
      "{'_id': ObjectId('62f0cbb254dded26d864af79'), 'sepal_length': 5.6, 'sepal_width': 2.7, 'petal_length': 4.2, 'petal_width': 1.3, 'species': 'versicolor'}\n",
      "{'_id': ObjectId('62f0cbb254dded26d864af7a'), 'sepal_length': 5.7, 'sepal_width': 3.0, 'petal_length': 4.2, 'petal_width': 1.2, 'species': 'versicolor'}\n",
      "{'_id': ObjectId('62f0cbb254dded26d864af7b'), 'sepal_length': 5.7, 'sepal_width': 2.9, 'petal_length': 4.2, 'petal_width': 1.3, 'species': 'versicolor'}\n",
      "{'_id': ObjectId('62f0cbb254dded26d864af7c'), 'sepal_length': 6.2, 'sepal_width': 2.9, 'petal_length': 4.3, 'petal_width': 1.3, 'species': 'versicolor'}\n",
      "{'_id': ObjectId('62f0cbb254dded26d864af7d'), 'sepal_length': 5.1, 'sepal_width': 2.5, 'petal_length': 3.0, 'petal_width': 1.1, 'species': 'versicolor'}\n",
      "{'_id': ObjectId('62f0cbb254dded26d864af7e'), 'sepal_length': 5.7, 'sepal_width': 2.8, 'petal_length': 4.1, 'petal_width': 1.3, 'species': 'versicolor'}\n",
      "{'_id': ObjectId('62f0cbb254dded26d864af7f'), 'sepal_length': 6.3, 'sepal_width': 3.3, 'petal_length': 6.0, 'petal_width': 2.5, 'species': 'virginica'}\n",
      "{'_id': ObjectId('62f0cbb254dded26d864af80'), 'sepal_length': 5.8, 'sepal_width': 2.7, 'petal_length': 5.1, 'petal_width': 1.9, 'species': 'virginica'}\n",
      "{'_id': ObjectId('62f0cbb254dded26d864af81'), 'sepal_length': 7.1, 'sepal_width': 3.0, 'petal_length': 5.9, 'petal_width': 2.1, 'species': 'virginica'}\n",
      "{'_id': ObjectId('62f0cbb254dded26d864af82'), 'sepal_length': 6.3, 'sepal_width': 2.9, 'petal_length': 5.6, 'petal_width': 1.8, 'species': 'virginica'}\n",
      "{'_id': ObjectId('62f0cbb254dded26d864af83'), 'sepal_length': 6.5, 'sepal_width': 3.0, 'petal_length': 5.8, 'petal_width': 2.2, 'species': 'virginica'}\n",
      "{'_id': ObjectId('62f0cbb254dded26d864af84'), 'sepal_length': 7.6, 'sepal_width': 3.0, 'petal_length': 6.6, 'petal_width': 2.1, 'species': 'virginica'}\n",
      "{'_id': ObjectId('62f0cbb254dded26d864af85'), 'sepal_length': 4.9, 'sepal_width': 2.5, 'petal_length': 4.5, 'petal_width': 1.7, 'species': 'virginica'}\n",
      "{'_id': ObjectId('62f0cbb254dded26d864af86'), 'sepal_length': 7.3, 'sepal_width': 2.9, 'petal_length': 6.3, 'petal_width': 1.8, 'species': 'virginica'}\n",
      "{'_id': ObjectId('62f0cbb254dded26d864af87'), 'sepal_length': 6.7, 'sepal_width': 2.5, 'petal_length': 5.8, 'petal_width': 1.8, 'species': 'virginica'}\n",
      "{'_id': ObjectId('62f0cbb254dded26d864af88'), 'sepal_length': 7.2, 'sepal_width': 3.6, 'petal_length': 6.1, 'petal_width': 2.5, 'species': 'virginica'}\n",
      "{'_id': ObjectId('62f0cbb254dded26d864af89'), 'sepal_length': 6.5, 'sepal_width': 3.2, 'petal_length': 5.1, 'petal_width': 2.0, 'species': 'virginica'}\n",
      "{'_id': ObjectId('62f0cbb254dded26d864af8a'), 'sepal_length': 6.4, 'sepal_width': 2.7, 'petal_length': 5.3, 'petal_width': 1.9, 'species': 'virginica'}\n",
      "{'_id': ObjectId('62f0cbb254dded26d864af8b'), 'sepal_length': 6.8, 'sepal_width': 3.0, 'petal_length': 5.5, 'petal_width': 2.1, 'species': 'virginica'}\n",
      "{'_id': ObjectId('62f0cbb254dded26d864af8c'), 'sepal_length': 5.7, 'sepal_width': 2.5, 'petal_length': 5.0, 'petal_width': 2.0, 'species': 'virginica'}\n",
      "{'_id': ObjectId('62f0cbb254dded26d864af8d'), 'sepal_length': 5.8, 'sepal_width': 2.8, 'petal_length': 5.1, 'petal_width': 2.4, 'species': 'virginica'}\n",
      "{'_id': ObjectId('62f0cbb254dded26d864af8e'), 'sepal_length': 6.4, 'sepal_width': 3.2, 'petal_length': 5.3, 'petal_width': 2.3, 'species': 'virginica'}\n",
      "{'_id': ObjectId('62f0cbb254dded26d864af8f'), 'sepal_length': 6.5, 'sepal_width': 3.0, 'petal_length': 5.5, 'petal_width': 1.8, 'species': 'virginica'}\n",
      "{'_id': ObjectId('62f0cbb254dded26d864af90'), 'sepal_length': 7.7, 'sepal_width': 3.8, 'petal_length': 6.7, 'petal_width': 2.2, 'species': 'virginica'}\n",
      "{'_id': ObjectId('62f0cbb254dded26d864af91'), 'sepal_length': 7.7, 'sepal_width': 2.6, 'petal_length': 6.9, 'petal_width': 2.3, 'species': 'virginica'}\n",
      "{'_id': ObjectId('62f0cbb254dded26d864af92'), 'sepal_length': 6.0, 'sepal_width': 2.2, 'petal_length': 5.0, 'petal_width': 1.5, 'species': 'virginica'}\n",
      "{'_id': ObjectId('62f0cbb254dded26d864af93'), 'sepal_length': 6.9, 'sepal_width': 3.2, 'petal_length': 5.7, 'petal_width': 2.3, 'species': 'virginica'}\n",
      "{'_id': ObjectId('62f0cbb254dded26d864af94'), 'sepal_length': 5.6, 'sepal_width': 2.8, 'petal_length': 4.9, 'petal_width': 2.0, 'species': 'virginica'}\n",
      "{'_id': ObjectId('62f0cbb254dded26d864af95'), 'sepal_length': 7.7, 'sepal_width': 2.8, 'petal_length': 6.7, 'petal_width': 2.0, 'species': 'virginica'}\n",
      "{'_id': ObjectId('62f0cbb254dded26d864af96'), 'sepal_length': 6.3, 'sepal_width': 2.7, 'petal_length': 4.9, 'petal_width': 1.8, 'species': 'virginica'}\n",
      "{'_id': ObjectId('62f0cbb254dded26d864af97'), 'sepal_length': 6.7, 'sepal_width': 3.3, 'petal_length': 5.7, 'petal_width': 2.1, 'species': 'virginica'}\n",
      "{'_id': ObjectId('62f0cbb254dded26d864af98'), 'sepal_length': 7.2, 'sepal_width': 3.2, 'petal_length': 6.0, 'petal_width': 1.8, 'species': 'virginica'}\n",
      "{'_id': ObjectId('62f0cbb254dded26d864af99'), 'sepal_length': 6.2, 'sepal_width': 2.8, 'petal_length': 4.8, 'petal_width': 1.8, 'species': 'virginica'}\n",
      "{'_id': ObjectId('62f0cbb254dded26d864af9a'), 'sepal_length': 6.1, 'sepal_width': 3.0, 'petal_length': 4.9, 'petal_width': 1.8, 'species': 'virginica'}\n",
      "{'_id': ObjectId('62f0cbb254dded26d864af9b'), 'sepal_length': 6.4, 'sepal_width': 2.8, 'petal_length': 5.6, 'petal_width': 2.1, 'species': 'virginica'}\n",
      "{'_id': ObjectId('62f0cbb254dded26d864af9c'), 'sepal_length': 7.2, 'sepal_width': 3.0, 'petal_length': 5.8, 'petal_width': 1.6, 'species': 'virginica'}\n",
      "{'_id': ObjectId('62f0cbb254dded26d864af9d'), 'sepal_length': 7.4, 'sepal_width': 2.8, 'petal_length': 6.1, 'petal_width': 1.9, 'species': 'virginica'}\n",
      "{'_id': ObjectId('62f0cbb254dded26d864af9e'), 'sepal_length': 7.9, 'sepal_width': 3.8, 'petal_length': 6.4, 'petal_width': 2.0, 'species': 'virginica'}\n",
      "{'_id': ObjectId('62f0cbb254dded26d864af9f'), 'sepal_length': 6.4, 'sepal_width': 2.8, 'petal_length': 5.6, 'petal_width': 2.2, 'species': 'virginica'}\n",
      "{'_id': ObjectId('62f0cbb254dded26d864afa0'), 'sepal_length': 6.3, 'sepal_width': 2.8, 'petal_length': 5.1, 'petal_width': 1.5, 'species': 'virginica'}\n",
      "{'_id': ObjectId('62f0cbb254dded26d864afa1'), 'sepal_length': 6.1, 'sepal_width': 2.6, 'petal_length': 5.6, 'petal_width': 1.4, 'species': 'virginica'}\n",
      "{'_id': ObjectId('62f0cbb254dded26d864afa2'), 'sepal_length': 7.7, 'sepal_width': 3.0, 'petal_length': 6.1, 'petal_width': 2.3, 'species': 'virginica'}\n",
      "{'_id': ObjectId('62f0cbb254dded26d864afa3'), 'sepal_length': 6.3, 'sepal_width': 3.4, 'petal_length': 5.6, 'petal_width': 2.4, 'species': 'virginica'}\n",
      "{'_id': ObjectId('62f0cbb254dded26d864afa4'), 'sepal_length': 6.4, 'sepal_width': 3.1, 'petal_length': 5.5, 'petal_width': 1.8, 'species': 'virginica'}\n",
      "{'_id': ObjectId('62f0cbb254dded26d864afa5'), 'sepal_length': 6.0, 'sepal_width': 3.0, 'petal_length': 4.8, 'petal_width': 1.8, 'species': 'virginica'}\n",
      "{'_id': ObjectId('62f0cbb254dded26d864afa6'), 'sepal_length': 6.9, 'sepal_width': 3.1, 'petal_length': 5.4, 'petal_width': 2.1, 'species': 'virginica'}\n",
      "{'_id': ObjectId('62f0cbb254dded26d864afa7'), 'sepal_length': 6.7, 'sepal_width': 3.1, 'petal_length': 5.6, 'petal_width': 2.4, 'species': 'virginica'}\n",
      "{'_id': ObjectId('62f0cbb254dded26d864afa8'), 'sepal_length': 6.9, 'sepal_width': 3.1, 'petal_length': 5.1, 'petal_width': 2.3, 'species': 'virginica'}\n",
      "{'_id': ObjectId('62f0cbb254dded26d864afa9'), 'sepal_length': 5.8, 'sepal_width': 2.7, 'petal_length': 5.1, 'petal_width': 1.9, 'species': 'virginica'}\n",
      "{'_id': ObjectId('62f0cbb254dded26d864afaa'), 'sepal_length': 6.8, 'sepal_width': 3.2, 'petal_length': 5.9, 'petal_width': 2.3, 'species': 'virginica'}\n",
      "{'_id': ObjectId('62f0cbb254dded26d864afab'), 'sepal_length': 6.7, 'sepal_width': 3.3, 'petal_length': 5.7, 'petal_width': 2.5, 'species': 'virginica'}\n",
      "{'_id': ObjectId('62f0cbb254dded26d864afac'), 'sepal_length': 6.7, 'sepal_width': 3.0, 'petal_length': 5.2, 'petal_width': 2.3, 'species': 'virginica'}\n",
      "{'_id': ObjectId('62f0cbb254dded26d864afad'), 'sepal_length': 6.3, 'sepal_width': 2.5, 'petal_length': 5.0, 'petal_width': 1.9, 'species': 'virginica'}\n",
      "{'_id': ObjectId('62f0cbb254dded26d864afae'), 'sepal_length': 6.5, 'sepal_width': 3.0, 'petal_length': 5.2, 'petal_width': 2.0, 'species': 'virginica'}\n",
      "{'_id': ObjectId('62f0cbb254dded26d864afaf'), 'sepal_length': 6.2, 'sepal_width': 3.4, 'petal_length': 5.4, 'petal_width': 2.3, 'species': 'virginica'}\n",
      "{'_id': ObjectId('62f0cbb254dded26d864afb0'), 'sepal_length': 5.9, 'sepal_width': 3.0, 'petal_length': 5.1, 'petal_width': 1.8, 'species': 'virginica'}\n"
     ]
    }
   ],
   "source": [
    "for i in client['irisdb']['iriscollection'].find():\n",
    "    print(i)\n",
    "\n",
    "# for get the data from a particular collection"
   ]
  },
  {
   "cell_type": "code",
   "execution_count": 20,
   "id": "a76cc33f",
   "metadata": {},
   "outputs": [
    {
     "name": "stdout",
     "output_type": "stream",
     "text": [
      "{'name': 'admin', 'sizeOnDisk': 40960, 'empty': False}\n",
      "{'name': 'config', 'sizeOnDisk': 110592, 'empty': False}\n",
      "{'name': 'irisdb', 'sizeOnDisk': 77824, 'empty': False}\n",
      "{'name': 'local', 'sizeOnDisk': 73728, 'empty': False}\n",
      "{'name': 'student', 'sizeOnDisk': 73728, 'empty': False}\n"
     ]
    }
   ],
   "source": [
    "for i in client.list_databases():\n",
    "    print(i)\n",
    "\n",
    "    # get the databases knowledge"
   ]
  },
  {
   "cell_type": "code",
   "execution_count": 21,
   "id": "58619963",
   "metadata": {},
   "outputs": [
    {
     "name": "stdout",
     "output_type": "stream",
     "text": [
      "SON([('v', 2), ('key', SON([('_id', 1)])), ('name', '_id_')])\n"
     ]
    }
   ],
   "source": [
    "for i in client['irisdb']['iriscollection'].list_indexes():\n",
    "    print(i)"
   ]
  },
  {
   "cell_type": "code",
   "execution_count": 24,
   "id": "f3803d68",
   "metadata": {},
   "outputs": [
    {
     "name": "stdout",
     "output_type": "stream",
     "text": [
      "{'name': 'iriscollection', 'type': 'collection', 'options': {}, 'info': {'readOnly': False, 'uuid': Binary(b'\\x19\\x921\\x994\\xafN4\\xba\\x05\\x04\\xdc\\xde\\xdf\\x8b\\xb3', 4)}, 'idIndex': {'v': 2, 'key': {'_id': 1}, 'name': '_id_'}}\n"
     ]
    }
   ],
   "source": [
    "for i in client['irisdb'].list_collections():\n",
    "    print(i)"
   ]
  },
  {
   "cell_type": "code",
   "execution_count": 25,
   "id": "e9ccddff",
   "metadata": {},
   "outputs": [
    {
     "data": {
      "text/plain": [
       "{'_id': ObjectId('62f0c79954dded26d864af0f'),\n",
       " 'sepal_length': 5.1,\n",
       " 'sepal_width': 3.5,\n",
       " 'petal_length': 1.4,\n",
       " 'petal_width': 0.2,\n",
       " 'species': 'setosa'}"
      ]
     },
     "execution_count": 25,
     "metadata": {},
     "output_type": "execute_result"
    }
   ],
   "source": [
    "client['irisdb']['iriscollection'].find_one()\n",
    "\n",
    "# get the first document from a particular collection"
   ]
  },
  {
   "cell_type": "code",
   "execution_count": 28,
   "id": "d1cb501b",
   "metadata": {},
   "outputs": [
    {
     "data": {
      "text/plain": [
       "{'_id': ObjectId('62f0c79954dded26d864af0f'),\n",
       " 'sepal_length': 5.1,\n",
       " 'sepal_width': 3.5,\n",
       " 'petal_length': 1.4,\n",
       " 'petal_width': 0.2,\n",
       " 'species': 'setosa'}"
      ]
     },
     "execution_count": 28,
     "metadata": {},
     "output_type": "execute_result"
    }
   ],
   "source": [
    "client['irisdb']['iriscollection'].find_one({'species':'setosa'})\n",
    "\n",
    "# get the first document which has species satosa\n",
    "# and it will return only first document"
   ]
  },
  {
   "cell_type": "code",
   "execution_count": 26,
   "id": "bfc11694",
   "metadata": {},
   "outputs": [
    {
     "data": {
      "text/plain": [
       "'irisdb.iriscollection'"
      ]
     },
     "execution_count": 26,
     "metadata": {},
     "output_type": "execute_result"
    }
   ],
   "source": [
    "client['irisdb']['iriscollection'].full_name\n",
    "# get the full name"
   ]
  },
  {
   "cell_type": "code",
   "execution_count": 27,
   "id": "f9f98430",
   "metadata": {},
   "outputs": [
    {
     "data": {
      "text/plain": [
       "'irisdb.iriscollection'"
      ]
     },
     "execution_count": 27,
     "metadata": {},
     "output_type": "execute_result"
    }
   ],
   "source": [
    "client.irisdb.iriscollection.full_name\n",
    "\n",
    "# by using full name"
   ]
  },
  {
   "cell_type": "code",
   "execution_count": 29,
   "id": "1a6259ef",
   "metadata": {},
   "outputs": [
    {
     "data": {
      "text/plain": [
       "<pymongo.cursor.Cursor at 0x228a05ebd60>"
      ]
     },
     "execution_count": 29,
     "metadata": {},
     "output_type": "execute_result"
    }
   ],
   "source": [
    "client['irisdb']['iriscollection'].find({'species':'satosa'})\n",
    "\n",
    "# it is returning more than one"
   ]
  },
  {
   "cell_type": "code",
   "execution_count": 32,
   "id": "122e3acc",
   "metadata": {},
   "outputs": [],
   "source": [
    "setosa=[]\n",
    "for doc in client['irisdb']['iriscollection'].find({'species':'setosa'}):\n",
    "    setosa.append(doc)\n",
    "\n",
    "    # always remember if you passed a wrong value it will return nothing"
   ]
  },
  {
   "cell_type": "code",
   "execution_count": 35,
   "id": "48ffe874",
   "metadata": {},
   "outputs": [
    {
     "data": {
      "text/plain": [
       "5.1"
      ]
     },
     "execution_count": 35,
     "metadata": {},
     "output_type": "execute_result"
    }
   ],
   "source": [
    "setosa[0]['sepal_length']"
   ]
  },
  {
   "cell_type": "code",
   "execution_count": 37,
   "id": "e5182c4e",
   "metadata": {},
   "outputs": [
    {
     "data": {
      "text/html": [
       "<div>\n",
       "<style scoped>\n",
       "    .dataframe tbody tr th:only-of-type {\n",
       "        vertical-align: middle;\n",
       "    }\n",
       "\n",
       "    .dataframe tbody tr th {\n",
       "        vertical-align: top;\n",
       "    }\n",
       "\n",
       "    .dataframe thead th {\n",
       "        text-align: right;\n",
       "    }\n",
       "</style>\n",
       "<table border=\"1\" class=\"dataframe\">\n",
       "  <thead>\n",
       "    <tr style=\"text-align: right;\">\n",
       "      <th></th>\n",
       "      <th>_id</th>\n",
       "      <th>sepal_length</th>\n",
       "      <th>sepal_width</th>\n",
       "      <th>petal_length</th>\n",
       "      <th>petal_width</th>\n",
       "      <th>species</th>\n",
       "    </tr>\n",
       "  </thead>\n",
       "  <tbody>\n",
       "    <tr>\n",
       "      <th>0</th>\n",
       "      <td>62f0c79954dded26d864af0f</td>\n",
       "      <td>5.1</td>\n",
       "      <td>3.5</td>\n",
       "      <td>1.4</td>\n",
       "      <td>0.2</td>\n",
       "      <td>setosa</td>\n",
       "    </tr>\n",
       "    <tr>\n",
       "      <th>1</th>\n",
       "      <td>62f0cb8554dded26d864af10</td>\n",
       "      <td>5.1</td>\n",
       "      <td>3.5</td>\n",
       "      <td>1.4</td>\n",
       "      <td>0.2</td>\n",
       "      <td>setosa</td>\n",
       "    </tr>\n",
       "    <tr>\n",
       "      <th>2</th>\n",
       "      <td>62f0cb8554dded26d864af11</td>\n",
       "      <td>4.9</td>\n",
       "      <td>3.0</td>\n",
       "      <td>1.4</td>\n",
       "      <td>0.2</td>\n",
       "      <td>setosa</td>\n",
       "    </tr>\n",
       "    <tr>\n",
       "      <th>3</th>\n",
       "      <td>62f0cb8554dded26d864af12</td>\n",
       "      <td>4.7</td>\n",
       "      <td>3.2</td>\n",
       "      <td>1.3</td>\n",
       "      <td>0.2</td>\n",
       "      <td>setosa</td>\n",
       "    </tr>\n",
       "    <tr>\n",
       "      <th>4</th>\n",
       "      <td>62f0cb8554dded26d864af13</td>\n",
       "      <td>4.6</td>\n",
       "      <td>3.1</td>\n",
       "      <td>1.5</td>\n",
       "      <td>0.2</td>\n",
       "      <td>setosa</td>\n",
       "    </tr>\n",
       "  </tbody>\n",
       "</table>\n",
       "</div>"
      ],
      "text/plain": [
       "                        _id  sepal_length  sepal_width  petal_length  \\\n",
       "0  62f0c79954dded26d864af0f           5.1          3.5           1.4   \n",
       "1  62f0cb8554dded26d864af10           5.1          3.5           1.4   \n",
       "2  62f0cb8554dded26d864af11           4.9          3.0           1.4   \n",
       "3  62f0cb8554dded26d864af12           4.7          3.2           1.3   \n",
       "4  62f0cb8554dded26d864af13           4.6          3.1           1.5   \n",
       "\n",
       "   petal_width species  \n",
       "0          0.2  setosa  \n",
       "1          0.2  setosa  \n",
       "2          0.2  setosa  \n",
       "3          0.2  setosa  \n",
       "4          0.2  setosa  "
      ]
     },
     "execution_count": 37,
     "metadata": {},
     "output_type": "execute_result"
    }
   ],
   "source": [
    "setosa=pd.DataFrame(setosa)\n",
    "setosa.head()"
   ]
  },
  {
   "cell_type": "code",
   "execution_count": 39,
   "id": "e7498876",
   "metadata": {},
   "outputs": [
    {
     "data": {
      "text/plain": [
       "setosa        50\n",
       "versicolor    50\n",
       "virginica     50\n",
       "Name: species, dtype: int64"
      ]
     },
     "execution_count": 39,
     "metadata": {},
     "output_type": "execute_result"
    }
   ],
   "source": [
    "df['species'].value_counts()"
   ]
  },
  {
   "cell_type": "code",
   "execution_count": 40,
   "id": "0359478f",
   "metadata": {},
   "outputs": [],
   "source": [
    "versicolor=[]\n",
    "for i in client.irisdb.iriscollection.find({'species':'versicolor'}):\n",
    "    versicolor.append(i)"
   ]
  },
  {
   "cell_type": "code",
   "execution_count": 41,
   "id": "233d3de8",
   "metadata": {},
   "outputs": [
    {
     "data": {
      "text/html": [
       "<div>\n",
       "<style scoped>\n",
       "    .dataframe tbody tr th:only-of-type {\n",
       "        vertical-align: middle;\n",
       "    }\n",
       "\n",
       "    .dataframe tbody tr th {\n",
       "        vertical-align: top;\n",
       "    }\n",
       "\n",
       "    .dataframe thead th {\n",
       "        text-align: right;\n",
       "    }\n",
       "</style>\n",
       "<table border=\"1\" class=\"dataframe\">\n",
       "  <thead>\n",
       "    <tr style=\"text-align: right;\">\n",
       "      <th></th>\n",
       "      <th>_id</th>\n",
       "      <th>sepal_length</th>\n",
       "      <th>sepal_width</th>\n",
       "      <th>petal_length</th>\n",
       "      <th>petal_width</th>\n",
       "      <th>species</th>\n",
       "    </tr>\n",
       "  </thead>\n",
       "  <tbody>\n",
       "    <tr>\n",
       "      <th>0</th>\n",
       "      <td>62f0cbb254dded26d864af4d</td>\n",
       "      <td>7.0</td>\n",
       "      <td>3.2</td>\n",
       "      <td>4.7</td>\n",
       "      <td>1.4</td>\n",
       "      <td>versicolor</td>\n",
       "    </tr>\n",
       "    <tr>\n",
       "      <th>1</th>\n",
       "      <td>62f0cbb254dded26d864af4e</td>\n",
       "      <td>6.4</td>\n",
       "      <td>3.2</td>\n",
       "      <td>4.5</td>\n",
       "      <td>1.5</td>\n",
       "      <td>versicolor</td>\n",
       "    </tr>\n",
       "    <tr>\n",
       "      <th>2</th>\n",
       "      <td>62f0cbb254dded26d864af4f</td>\n",
       "      <td>6.9</td>\n",
       "      <td>3.1</td>\n",
       "      <td>4.9</td>\n",
       "      <td>1.5</td>\n",
       "      <td>versicolor</td>\n",
       "    </tr>\n",
       "    <tr>\n",
       "      <th>3</th>\n",
       "      <td>62f0cbb254dded26d864af50</td>\n",
       "      <td>5.5</td>\n",
       "      <td>2.3</td>\n",
       "      <td>4.0</td>\n",
       "      <td>1.3</td>\n",
       "      <td>versicolor</td>\n",
       "    </tr>\n",
       "    <tr>\n",
       "      <th>4</th>\n",
       "      <td>62f0cbb254dded26d864af51</td>\n",
       "      <td>6.5</td>\n",
       "      <td>2.8</td>\n",
       "      <td>4.6</td>\n",
       "      <td>1.5</td>\n",
       "      <td>versicolor</td>\n",
       "    </tr>\n",
       "  </tbody>\n",
       "</table>\n",
       "</div>"
      ],
      "text/plain": [
       "                        _id  sepal_length  sepal_width  petal_length  \\\n",
       "0  62f0cbb254dded26d864af4d           7.0          3.2           4.7   \n",
       "1  62f0cbb254dded26d864af4e           6.4          3.2           4.5   \n",
       "2  62f0cbb254dded26d864af4f           6.9          3.1           4.9   \n",
       "3  62f0cbb254dded26d864af50           5.5          2.3           4.0   \n",
       "4  62f0cbb254dded26d864af51           6.5          2.8           4.6   \n",
       "\n",
       "   petal_width     species  \n",
       "0          1.4  versicolor  \n",
       "1          1.5  versicolor  \n",
       "2          1.5  versicolor  \n",
       "3          1.3  versicolor  \n",
       "4          1.5  versicolor  "
      ]
     },
     "execution_count": 41,
     "metadata": {},
     "output_type": "execute_result"
    }
   ],
   "source": [
    "versicolor=pd.DataFrame(versicolor)\n",
    "versicolor.head()"
   ]
  },
  {
   "cell_type": "code",
   "execution_count": 42,
   "id": "05f03f32",
   "metadata": {},
   "outputs": [],
   "source": [
    "virginica=[]\n",
    "for i in client.irisdb.iriscollection.find({'species':'virginica'}):\n",
    "    virginica.append(i)"
   ]
  },
  {
   "cell_type": "code",
   "execution_count": 43,
   "id": "da2cc2ae",
   "metadata": {},
   "outputs": [
    {
     "data": {
      "text/html": [
       "<div>\n",
       "<style scoped>\n",
       "    .dataframe tbody tr th:only-of-type {\n",
       "        vertical-align: middle;\n",
       "    }\n",
       "\n",
       "    .dataframe tbody tr th {\n",
       "        vertical-align: top;\n",
       "    }\n",
       "\n",
       "    .dataframe thead th {\n",
       "        text-align: right;\n",
       "    }\n",
       "</style>\n",
       "<table border=\"1\" class=\"dataframe\">\n",
       "  <thead>\n",
       "    <tr style=\"text-align: right;\">\n",
       "      <th></th>\n",
       "      <th>_id</th>\n",
       "      <th>sepal_length</th>\n",
       "      <th>sepal_width</th>\n",
       "      <th>petal_length</th>\n",
       "      <th>petal_width</th>\n",
       "      <th>species</th>\n",
       "    </tr>\n",
       "  </thead>\n",
       "  <tbody>\n",
       "    <tr>\n",
       "      <th>0</th>\n",
       "      <td>62f0cbb254dded26d864af7f</td>\n",
       "      <td>6.3</td>\n",
       "      <td>3.3</td>\n",
       "      <td>6.0</td>\n",
       "      <td>2.5</td>\n",
       "      <td>virginica</td>\n",
       "    </tr>\n",
       "    <tr>\n",
       "      <th>1</th>\n",
       "      <td>62f0cbb254dded26d864af80</td>\n",
       "      <td>5.8</td>\n",
       "      <td>2.7</td>\n",
       "      <td>5.1</td>\n",
       "      <td>1.9</td>\n",
       "      <td>virginica</td>\n",
       "    </tr>\n",
       "    <tr>\n",
       "      <th>2</th>\n",
       "      <td>62f0cbb254dded26d864af81</td>\n",
       "      <td>7.1</td>\n",
       "      <td>3.0</td>\n",
       "      <td>5.9</td>\n",
       "      <td>2.1</td>\n",
       "      <td>virginica</td>\n",
       "    </tr>\n",
       "    <tr>\n",
       "      <th>3</th>\n",
       "      <td>62f0cbb254dded26d864af82</td>\n",
       "      <td>6.3</td>\n",
       "      <td>2.9</td>\n",
       "      <td>5.6</td>\n",
       "      <td>1.8</td>\n",
       "      <td>virginica</td>\n",
       "    </tr>\n",
       "    <tr>\n",
       "      <th>4</th>\n",
       "      <td>62f0cbb254dded26d864af83</td>\n",
       "      <td>6.5</td>\n",
       "      <td>3.0</td>\n",
       "      <td>5.8</td>\n",
       "      <td>2.2</td>\n",
       "      <td>virginica</td>\n",
       "    </tr>\n",
       "  </tbody>\n",
       "</table>\n",
       "</div>"
      ],
      "text/plain": [
       "                        _id  sepal_length  sepal_width  petal_length  \\\n",
       "0  62f0cbb254dded26d864af7f           6.3          3.3           6.0   \n",
       "1  62f0cbb254dded26d864af80           5.8          2.7           5.1   \n",
       "2  62f0cbb254dded26d864af81           7.1          3.0           5.9   \n",
       "3  62f0cbb254dded26d864af82           6.3          2.9           5.6   \n",
       "4  62f0cbb254dded26d864af83           6.5          3.0           5.8   \n",
       "\n",
       "   petal_width    species  \n",
       "0          2.5  virginica  \n",
       "1          1.9  virginica  \n",
       "2          2.1  virginica  \n",
       "3          1.8  virginica  \n",
       "4          2.2  virginica  "
      ]
     },
     "execution_count": 43,
     "metadata": {},
     "output_type": "execute_result"
    }
   ],
   "source": [
    "virginica=pd.DataFrame(virginica)\n",
    "virginica.head()"
   ]
  },
  {
   "cell_type": "code",
   "execution_count": 45,
   "id": "99059292",
   "metadata": {},
   "outputs": [],
   "source": [
    "virginica=virginica.drop(['_id'],axis='columns')"
   ]
  },
  {
   "cell_type": "code",
   "execution_count": 46,
   "id": "40919dd9",
   "metadata": {},
   "outputs": [],
   "source": [
    "versicolor=versicolor.drop(['_id'],axis='columns')"
   ]
  },
  {
   "cell_type": "code",
   "execution_count": 47,
   "id": "c8b2f96d",
   "metadata": {},
   "outputs": [],
   "source": [
    "setosa=setosa.drop(['_id'],axis='columns')"
   ]
  },
  {
   "cell_type": "code",
   "execution_count": 48,
   "id": "32db0f32",
   "metadata": {},
   "outputs": [
    {
     "data": {
      "text/html": [
       "<div>\n",
       "<style scoped>\n",
       "    .dataframe tbody tr th:only-of-type {\n",
       "        vertical-align: middle;\n",
       "    }\n",
       "\n",
       "    .dataframe tbody tr th {\n",
       "        vertical-align: top;\n",
       "    }\n",
       "\n",
       "    .dataframe thead th {\n",
       "        text-align: right;\n",
       "    }\n",
       "</style>\n",
       "<table border=\"1\" class=\"dataframe\">\n",
       "  <thead>\n",
       "    <tr style=\"text-align: right;\">\n",
       "      <th></th>\n",
       "      <th>sepal_length</th>\n",
       "      <th>sepal_width</th>\n",
       "      <th>petal_length</th>\n",
       "      <th>petal_width</th>\n",
       "      <th>species</th>\n",
       "    </tr>\n",
       "  </thead>\n",
       "  <tbody>\n",
       "    <tr>\n",
       "      <th>0</th>\n",
       "      <td>6.3</td>\n",
       "      <td>3.3</td>\n",
       "      <td>6.0</td>\n",
       "      <td>2.5</td>\n",
       "      <td>virginica</td>\n",
       "    </tr>\n",
       "    <tr>\n",
       "      <th>1</th>\n",
       "      <td>5.8</td>\n",
       "      <td>2.7</td>\n",
       "      <td>5.1</td>\n",
       "      <td>1.9</td>\n",
       "      <td>virginica</td>\n",
       "    </tr>\n",
       "    <tr>\n",
       "      <th>2</th>\n",
       "      <td>7.1</td>\n",
       "      <td>3.0</td>\n",
       "      <td>5.9</td>\n",
       "      <td>2.1</td>\n",
       "      <td>virginica</td>\n",
       "    </tr>\n",
       "    <tr>\n",
       "      <th>3</th>\n",
       "      <td>6.3</td>\n",
       "      <td>2.9</td>\n",
       "      <td>5.6</td>\n",
       "      <td>1.8</td>\n",
       "      <td>virginica</td>\n",
       "    </tr>\n",
       "    <tr>\n",
       "      <th>4</th>\n",
       "      <td>6.5</td>\n",
       "      <td>3.0</td>\n",
       "      <td>5.8</td>\n",
       "      <td>2.2</td>\n",
       "      <td>virginica</td>\n",
       "    </tr>\n",
       "  </tbody>\n",
       "</table>\n",
       "</div>"
      ],
      "text/plain": [
       "   sepal_length  sepal_width  petal_length  petal_width    species\n",
       "0           6.3          3.3           6.0          2.5  virginica\n",
       "1           5.8          2.7           5.1          1.9  virginica\n",
       "2           7.1          3.0           5.9          2.1  virginica\n",
       "3           6.3          2.9           5.6          1.8  virginica\n",
       "4           6.5          3.0           5.8          2.2  virginica"
      ]
     },
     "execution_count": 48,
     "metadata": {},
     "output_type": "execute_result"
    }
   ],
   "source": [
    "virginica.head()"
   ]
  },
  {
   "cell_type": "code",
   "execution_count": 50,
   "id": "67434ad8",
   "metadata": {},
   "outputs": [
    {
     "data": {
      "text/html": [
       "<div>\n",
       "<style scoped>\n",
       "    .dataframe tbody tr th:only-of-type {\n",
       "        vertical-align: middle;\n",
       "    }\n",
       "\n",
       "    .dataframe tbody tr th {\n",
       "        vertical-align: top;\n",
       "    }\n",
       "\n",
       "    .dataframe thead th {\n",
       "        text-align: right;\n",
       "    }\n",
       "</style>\n",
       "<table border=\"1\" class=\"dataframe\">\n",
       "  <thead>\n",
       "    <tr style=\"text-align: right;\">\n",
       "      <th></th>\n",
       "      <th>sepal_length</th>\n",
       "      <th>sepal_width</th>\n",
       "      <th>petal_length</th>\n",
       "      <th>petal_width</th>\n",
       "      <th>species</th>\n",
       "    </tr>\n",
       "  </thead>\n",
       "  <tbody>\n",
       "    <tr>\n",
       "      <th>0</th>\n",
       "      <td>7.0</td>\n",
       "      <td>3.2</td>\n",
       "      <td>4.7</td>\n",
       "      <td>1.4</td>\n",
       "      <td>versicolor</td>\n",
       "    </tr>\n",
       "    <tr>\n",
       "      <th>1</th>\n",
       "      <td>6.4</td>\n",
       "      <td>3.2</td>\n",
       "      <td>4.5</td>\n",
       "      <td>1.5</td>\n",
       "      <td>versicolor</td>\n",
       "    </tr>\n",
       "    <tr>\n",
       "      <th>2</th>\n",
       "      <td>6.9</td>\n",
       "      <td>3.1</td>\n",
       "      <td>4.9</td>\n",
       "      <td>1.5</td>\n",
       "      <td>versicolor</td>\n",
       "    </tr>\n",
       "    <tr>\n",
       "      <th>3</th>\n",
       "      <td>5.5</td>\n",
       "      <td>2.3</td>\n",
       "      <td>4.0</td>\n",
       "      <td>1.3</td>\n",
       "      <td>versicolor</td>\n",
       "    </tr>\n",
       "    <tr>\n",
       "      <th>4</th>\n",
       "      <td>6.5</td>\n",
       "      <td>2.8</td>\n",
       "      <td>4.6</td>\n",
       "      <td>1.5</td>\n",
       "      <td>versicolor</td>\n",
       "    </tr>\n",
       "  </tbody>\n",
       "</table>\n",
       "</div>"
      ],
      "text/plain": [
       "   sepal_length  sepal_width  petal_length  petal_width     species\n",
       "0           7.0          3.2           4.7          1.4  versicolor\n",
       "1           6.4          3.2           4.5          1.5  versicolor\n",
       "2           6.9          3.1           4.9          1.5  versicolor\n",
       "3           5.5          2.3           4.0          1.3  versicolor\n",
       "4           6.5          2.8           4.6          1.5  versicolor"
      ]
     },
     "execution_count": 50,
     "metadata": {},
     "output_type": "execute_result"
    }
   ],
   "source": [
    "versicolor.head()"
   ]
  },
  {
   "cell_type": "code",
   "execution_count": 51,
   "id": "7cf09c68",
   "metadata": {},
   "outputs": [
    {
     "data": {
      "text/html": [
       "<div>\n",
       "<style scoped>\n",
       "    .dataframe tbody tr th:only-of-type {\n",
       "        vertical-align: middle;\n",
       "    }\n",
       "\n",
       "    .dataframe tbody tr th {\n",
       "        vertical-align: top;\n",
       "    }\n",
       "\n",
       "    .dataframe thead th {\n",
       "        text-align: right;\n",
       "    }\n",
       "</style>\n",
       "<table border=\"1\" class=\"dataframe\">\n",
       "  <thead>\n",
       "    <tr style=\"text-align: right;\">\n",
       "      <th></th>\n",
       "      <th>sepal_length</th>\n",
       "      <th>sepal_width</th>\n",
       "      <th>petal_length</th>\n",
       "      <th>petal_width</th>\n",
       "      <th>species</th>\n",
       "    </tr>\n",
       "  </thead>\n",
       "  <tbody>\n",
       "    <tr>\n",
       "      <th>0</th>\n",
       "      <td>5.1</td>\n",
       "      <td>3.5</td>\n",
       "      <td>1.4</td>\n",
       "      <td>0.2</td>\n",
       "      <td>setosa</td>\n",
       "    </tr>\n",
       "    <tr>\n",
       "      <th>1</th>\n",
       "      <td>5.1</td>\n",
       "      <td>3.5</td>\n",
       "      <td>1.4</td>\n",
       "      <td>0.2</td>\n",
       "      <td>setosa</td>\n",
       "    </tr>\n",
       "    <tr>\n",
       "      <th>2</th>\n",
       "      <td>4.9</td>\n",
       "      <td>3.0</td>\n",
       "      <td>1.4</td>\n",
       "      <td>0.2</td>\n",
       "      <td>setosa</td>\n",
       "    </tr>\n",
       "    <tr>\n",
       "      <th>3</th>\n",
       "      <td>4.7</td>\n",
       "      <td>3.2</td>\n",
       "      <td>1.3</td>\n",
       "      <td>0.2</td>\n",
       "      <td>setosa</td>\n",
       "    </tr>\n",
       "    <tr>\n",
       "      <th>4</th>\n",
       "      <td>4.6</td>\n",
       "      <td>3.1</td>\n",
       "      <td>1.5</td>\n",
       "      <td>0.2</td>\n",
       "      <td>setosa</td>\n",
       "    </tr>\n",
       "  </tbody>\n",
       "</table>\n",
       "</div>"
      ],
      "text/plain": [
       "   sepal_length  sepal_width  petal_length  petal_width species\n",
       "0           5.1          3.5           1.4          0.2  setosa\n",
       "1           5.1          3.5           1.4          0.2  setosa\n",
       "2           4.9          3.0           1.4          0.2  setosa\n",
       "3           4.7          3.2           1.3          0.2  setosa\n",
       "4           4.6          3.1           1.5          0.2  setosa"
      ]
     },
     "execution_count": 51,
     "metadata": {},
     "output_type": "execute_result"
    }
   ],
   "source": [
    "setosa.head()"
   ]
  },
  {
   "cell_type": "markdown",
   "id": "d20a2ad4",
   "metadata": {},
   "source": [
    "# now i will dump this data separately in separate collections"
   ]
  },
  {
   "cell_type": "code",
   "execution_count": 52,
   "id": "a97b468c",
   "metadata": {},
   "outputs": [],
   "source": [
    "for i , row in  setosa.iterrows():\n",
    "    \n",
    "    record=dict(sepal_length = row.sepal_length,sepal_width=row.sepal_width,petal_length=row.petal_length,petal_width=row.petal_width,species=row.species)\n",
    "    client.irisdb.setosa.insert_one(record)  # direct create and dump\n",
    "    "
   ]
  },
  {
   "cell_type": "code",
   "execution_count": 53,
   "id": "16cb36c9",
   "metadata": {},
   "outputs": [],
   "source": [
    "for i , row in  versicolor.iterrows():\n",
    "    \n",
    "    record=dict(sepal_length = row.sepal_length,sepal_width=row.sepal_width,petal_length=row.petal_length,petal_width=row.petal_width,species=row.species)\n",
    "    client.irisdb.versicolor.insert_one(record)  # direct create and dump\n",
    "    "
   ]
  },
  {
   "cell_type": "code",
   "execution_count": 54,
   "id": "c21f637e",
   "metadata": {},
   "outputs": [],
   "source": [
    "for i , row in  virginica.iterrows():\n",
    "    \n",
    "    record=dict(sepal_length = row.sepal_length,sepal_width=row.sepal_width,petal_length=row.petal_length,petal_width=row.petal_width,species=row.species)\n",
    "    client.irisdb.virginica.insert_one(record)  # direct create and dump\n",
    "    "
   ]
  },
  {
   "cell_type": "code",
   "execution_count": 56,
   "id": "17e185b4",
   "metadata": {},
   "outputs": [
    {
     "data": {
      "text/plain": [
       "['iriscollection', 'versicolor', 'virginica', 'setosa']"
      ]
     },
     "execution_count": 56,
     "metadata": {},
     "output_type": "execute_result"
    }
   ],
   "source": [
    "client.irisdb.list_collection_names()"
   ]
  },
  {
   "cell_type": "code",
   "execution_count": 63,
   "id": "0ed8564e",
   "metadata": {},
   "outputs": [
    {
     "name": "stdout",
     "output_type": "stream",
     "text": [
      "{'name': 'iriscollection', 'type': 'collection', 'options': {}, 'info': {'readOnly': False, 'uuid': Binary(b'\\x19\\x921\\x994\\xafN4\\xba\\x05\\x04\\xdc\\xde\\xdf\\x8b\\xb3', 4)}, 'idIndex': {'v': 2, 'key': {'_id': 1}, 'name': '_id_'}} \n",
      "\n",
      "{'name': 'versicolor', 'type': 'collection', 'options': {}, 'info': {'readOnly': False, 'uuid': Binary(b')4\\x85J\\xe5\\xf2H\\x9d\\x9f\\xc5\\xa6\\x15S\\xa7\\xfb&', 4)}, 'idIndex': {'v': 2, 'key': {'_id': 1}, 'name': '_id_'}} \n",
      "\n",
      "{'name': 'virginica', 'type': 'collection', 'options': {}, 'info': {'readOnly': False, 'uuid': Binary(b',\\xd5\\x7f\\x0c\\xf0d@I\\xbcP\\xf9\\xd9qO6\\x1c', 4)}, 'idIndex': {'v': 2, 'key': {'_id': 1}, 'name': '_id_'}} \n",
      "\n",
      "{'name': 'setosa', 'type': 'collection', 'options': {}, 'info': {'readOnly': False, 'uuid': Binary(b'\\xe6\\xca\\xd1\\x04/1B\\xb2\\x86\\x02#\\xffK\\xf2\\xed\\x98', 4)}, 'idIndex': {'v': 2, 'key': {'_id': 1}, 'name': '_id_'}} \n",
      "\n"
     ]
    }
   ],
   "source": [
    "for collections in client.irisdb.list_collections():\n",
    "    print(collections,'\\n')\n"
   ]
  },
  {
   "cell_type": "markdown",
   "id": "964bcd8b",
   "metadata": {},
   "source": [
    "# find in depth"
   ]
  },
  {
   "cell_type": "code",
   "execution_count": 70,
   "id": "e6d239f2",
   "metadata": {},
   "outputs": [
    {
     "name": "stdout",
     "output_type": "stream",
     "text": [
      "{'_id': ObjectId('62f0cbb254dded26d864af7f'), 'sepal_length': 6.3, 'sepal_width': 3.3, 'petal_length': 6.0, 'petal_width': 2.5, 'species': 'virginica'}\n",
      "{'_id': ObjectId('62f0cbb254dded26d864af80'), 'sepal_length': 5.8, 'sepal_width': 2.7, 'petal_length': 5.1, 'petal_width': 1.9, 'species': 'virginica'}\n",
      "{'_id': ObjectId('62f0cbb254dded26d864af81'), 'sepal_length': 7.1, 'sepal_width': 3.0, 'petal_length': 5.9, 'petal_width': 2.1, 'species': 'virginica'}\n",
      "{'_id': ObjectId('62f0cbb254dded26d864af82'), 'sepal_length': 6.3, 'sepal_width': 2.9, 'petal_length': 5.6, 'petal_width': 1.8, 'species': 'virginica'}\n",
      "{'_id': ObjectId('62f0cbb254dded26d864af83'), 'sepal_length': 6.5, 'sepal_width': 3.0, 'petal_length': 5.8, 'petal_width': 2.2, 'species': 'virginica'}\n",
      "{'_id': ObjectId('62f0cbb254dded26d864af84'), 'sepal_length': 7.6, 'sepal_width': 3.0, 'petal_length': 6.6, 'petal_width': 2.1, 'species': 'virginica'}\n",
      "{'_id': ObjectId('62f0cbb254dded26d864af85'), 'sepal_length': 4.9, 'sepal_width': 2.5, 'petal_length': 4.5, 'petal_width': 1.7, 'species': 'virginica'}\n",
      "{'_id': ObjectId('62f0cbb254dded26d864af86'), 'sepal_length': 7.3, 'sepal_width': 2.9, 'petal_length': 6.3, 'petal_width': 1.8, 'species': 'virginica'}\n",
      "{'_id': ObjectId('62f0cbb254dded26d864af87'), 'sepal_length': 6.7, 'sepal_width': 2.5, 'petal_length': 5.8, 'petal_width': 1.8, 'species': 'virginica'}\n",
      "{'_id': ObjectId('62f0cbb254dded26d864af88'), 'sepal_length': 7.2, 'sepal_width': 3.6, 'petal_length': 6.1, 'petal_width': 2.5, 'species': 'virginica'}\n",
      "{'_id': ObjectId('62f0cbb254dded26d864af89'), 'sepal_length': 6.5, 'sepal_width': 3.2, 'petal_length': 5.1, 'petal_width': 2.0, 'species': 'virginica'}\n",
      "{'_id': ObjectId('62f0cbb254dded26d864af8a'), 'sepal_length': 6.4, 'sepal_width': 2.7, 'petal_length': 5.3, 'petal_width': 1.9, 'species': 'virginica'}\n",
      "{'_id': ObjectId('62f0cbb254dded26d864af8b'), 'sepal_length': 6.8, 'sepal_width': 3.0, 'petal_length': 5.5, 'petal_width': 2.1, 'species': 'virginica'}\n",
      "{'_id': ObjectId('62f0cbb254dded26d864af8c'), 'sepal_length': 5.7, 'sepal_width': 2.5, 'petal_length': 5.0, 'petal_width': 2.0, 'species': 'virginica'}\n",
      "{'_id': ObjectId('62f0cbb254dded26d864af8d'), 'sepal_length': 5.8, 'sepal_width': 2.8, 'petal_length': 5.1, 'petal_width': 2.4, 'species': 'virginica'}\n",
      "{'_id': ObjectId('62f0cbb254dded26d864af8e'), 'sepal_length': 6.4, 'sepal_width': 3.2, 'petal_length': 5.3, 'petal_width': 2.3, 'species': 'virginica'}\n",
      "{'_id': ObjectId('62f0cbb254dded26d864af8f'), 'sepal_length': 6.5, 'sepal_width': 3.0, 'petal_length': 5.5, 'petal_width': 1.8, 'species': 'virginica'}\n",
      "{'_id': ObjectId('62f0cbb254dded26d864af90'), 'sepal_length': 7.7, 'sepal_width': 3.8, 'petal_length': 6.7, 'petal_width': 2.2, 'species': 'virginica'}\n",
      "{'_id': ObjectId('62f0cbb254dded26d864af91'), 'sepal_length': 7.7, 'sepal_width': 2.6, 'petal_length': 6.9, 'petal_width': 2.3, 'species': 'virginica'}\n",
      "{'_id': ObjectId('62f0cbb254dded26d864af92'), 'sepal_length': 6.0, 'sepal_width': 2.2, 'petal_length': 5.0, 'petal_width': 1.5, 'species': 'virginica'}\n",
      "{'_id': ObjectId('62f0cbb254dded26d864af93'), 'sepal_length': 6.9, 'sepal_width': 3.2, 'petal_length': 5.7, 'petal_width': 2.3, 'species': 'virginica'}\n"
     ]
    }
   ],
   "source": [
    "for index,record in enumerate(client.irisdb.iriscollection.find({'species':'virginica'})):  # only with filter object\n",
    "    if index <= 20:\n",
    "        print(record)\n",
    "\n",
    "# only first 20 records where species is virginica"
   ]
  },
  {
   "cell_type": "code",
   "execution_count": 72,
   "id": "5286869f",
   "metadata": {},
   "outputs": [
    {
     "name": "stdout",
     "output_type": "stream",
     "text": [
      "{'sepal_length': 6.3, 'petal_length': 6.0}\n",
      "{'sepal_length': 5.8, 'petal_length': 5.1}\n",
      "{'sepal_length': 7.1, 'petal_length': 5.9}\n",
      "{'sepal_length': 6.3, 'petal_length': 5.6}\n",
      "{'sepal_length': 6.5, 'petal_length': 5.8}\n",
      "{'sepal_length': 7.6, 'petal_length': 6.6}\n",
      "{'sepal_length': 4.9, 'petal_length': 4.5}\n",
      "{'sepal_length': 7.3, 'petal_length': 6.3}\n",
      "{'sepal_length': 6.7, 'petal_length': 5.8}\n",
      "{'sepal_length': 7.2, 'petal_length': 6.1}\n",
      "{'sepal_length': 6.5, 'petal_length': 5.1}\n"
     ]
    }
   ],
   "source": [
    "for index , record in enumerate(client.irisdb.iriscollection.find({'species':'virginica'},{'sepal_length':1,'petal_length':1,'_id':0})):\n",
    "    if index <=10:\n",
    "        print(record)\n",
    "\n",
    "# filtere object  +   selection object"
   ]
  },
  {
   "cell_type": "code",
   "execution_count": 74,
   "id": "190ad3e5",
   "metadata": {},
   "outputs": [
    {
     "name": "stdout",
     "output_type": "stream",
     "text": [
      "{'sepal_length': 5.1, 'petal_length': 1.4}\n",
      "{'sepal_length': 5.1, 'petal_length': 1.4}\n",
      "{'sepal_length': 4.9, 'petal_length': 1.4}\n",
      "{'sepal_length': 4.7, 'petal_length': 1.3}\n",
      "{'sepal_length': 4.6, 'petal_length': 1.5}\n",
      "{'sepal_length': 5.0, 'petal_length': 1.4}\n",
      "{'sepal_length': 5.4, 'petal_length': 1.7}\n",
      "{'sepal_length': 4.6, 'petal_length': 1.4}\n",
      "{'sepal_length': 5.0, 'petal_length': 1.5}\n",
      "{'sepal_length': 4.4, 'petal_length': 1.4}\n",
      "{'sepal_length': 4.9, 'petal_length': 1.5}\n",
      "{'sepal_length': 5.4, 'petal_length': 1.5}\n",
      "{'sepal_length': 5.1, 'petal_length': 1.4}\n",
      "{'sepal_length': 4.9, 'petal_length': 1.4}\n",
      "{'sepal_length': 4.7, 'petal_length': 1.3}\n",
      "{'sepal_length': 4.6, 'petal_length': 1.5}\n",
      "{'sepal_length': 5.0, 'petal_length': 1.4}\n",
      "{'sepal_length': 5.4, 'petal_length': 1.7}\n",
      "{'sepal_length': 4.6, 'petal_length': 1.4}\n",
      "{'sepal_length': 5.0, 'petal_length': 1.5}\n",
      "{'sepal_length': 4.4, 'petal_length': 1.4}\n",
      "{'sepal_length': 4.9, 'petal_length': 1.5}\n",
      "{'sepal_length': 5.4, 'petal_length': 1.5}\n",
      "{'sepal_length': 4.8, 'petal_length': 1.6}\n",
      "{'sepal_length': 4.8, 'petal_length': 1.4}\n",
      "{'sepal_length': 4.3, 'petal_length': 1.1}\n",
      "{'sepal_length': 5.8, 'petal_length': 1.2}\n",
      "{'sepal_length': 5.7, 'petal_length': 1.5}\n",
      "{'sepal_length': 5.4, 'petal_length': 1.3}\n",
      "{'sepal_length': 5.1, 'petal_length': 1.4}\n",
      "{'sepal_length': 5.7, 'petal_length': 1.7}\n",
      "{'sepal_length': 5.1, 'petal_length': 1.5}\n",
      "{'sepal_length': 5.4, 'petal_length': 1.7}\n",
      "{'sepal_length': 5.1, 'petal_length': 1.5}\n",
      "{'sepal_length': 4.6, 'petal_length': 1.0}\n",
      "{'sepal_length': 5.1, 'petal_length': 1.7}\n",
      "{'sepal_length': 4.8, 'petal_length': 1.9}\n",
      "{'sepal_length': 5.0, 'petal_length': 1.6}\n",
      "{'sepal_length': 5.0, 'petal_length': 1.6}\n",
      "{'sepal_length': 5.2, 'petal_length': 1.5}\n",
      "{'sepal_length': 5.2, 'petal_length': 1.4}\n",
      "{'sepal_length': 4.7, 'petal_length': 1.6}\n",
      "{'sepal_length': 4.8, 'petal_length': 1.6}\n",
      "{'sepal_length': 5.4, 'petal_length': 1.5}\n",
      "{'sepal_length': 5.2, 'petal_length': 1.5}\n",
      "{'sepal_length': 5.5, 'petal_length': 1.4}\n",
      "{'sepal_length': 4.9, 'petal_length': 1.5}\n",
      "{'sepal_length': 5.0, 'petal_length': 1.2}\n",
      "{'sepal_length': 5.5, 'petal_length': 1.3}\n",
      "{'sepal_length': 4.9, 'petal_length': 1.4}\n",
      "{'sepal_length': 4.4, 'petal_length': 1.3}\n",
      "{'sepal_length': 5.1, 'petal_length': 1.5}\n",
      "{'sepal_length': 5.0, 'petal_length': 1.3}\n",
      "{'sepal_length': 4.5, 'petal_length': 1.3}\n",
      "{'sepal_length': 4.4, 'petal_length': 1.3}\n",
      "{'sepal_length': 5.0, 'petal_length': 1.6}\n",
      "{'sepal_length': 5.1, 'petal_length': 1.9}\n",
      "{'sepal_length': 4.8, 'petal_length': 1.4}\n",
      "{'sepal_length': 5.1, 'petal_length': 1.6}\n",
      "{'sepal_length': 4.6, 'petal_length': 1.4}\n",
      "{'sepal_length': 5.3, 'petal_length': 1.5}\n",
      "{'sepal_length': 5.0, 'petal_length': 1.4}\n",
      "{'sepal_length': 7.0, 'petal_length': 4.7}\n",
      "{'sepal_length': 6.4, 'petal_length': 4.5}\n",
      "{'sepal_length': 6.9, 'petal_length': 4.9}\n",
      "{'sepal_length': 5.5, 'petal_length': 4.0}\n",
      "{'sepal_length': 6.5, 'petal_length': 4.6}\n",
      "{'sepal_length': 5.7, 'petal_length': 4.5}\n",
      "{'sepal_length': 6.3, 'petal_length': 4.7}\n",
      "{'sepal_length': 4.9, 'petal_length': 3.3}\n",
      "{'sepal_length': 6.6, 'petal_length': 4.6}\n",
      "{'sepal_length': 5.2, 'petal_length': 3.9}\n",
      "{'sepal_length': 5.0, 'petal_length': 3.5}\n",
      "{'sepal_length': 5.9, 'petal_length': 4.2}\n",
      "{'sepal_length': 6.0, 'petal_length': 4.0}\n",
      "{'sepal_length': 6.1, 'petal_length': 4.7}\n",
      "{'sepal_length': 5.6, 'petal_length': 3.6}\n",
      "{'sepal_length': 6.7, 'petal_length': 4.4}\n",
      "{'sepal_length': 5.6, 'petal_length': 4.5}\n",
      "{'sepal_length': 5.8, 'petal_length': 4.1}\n",
      "{'sepal_length': 6.2, 'petal_length': 4.5}\n",
      "{'sepal_length': 5.6, 'petal_length': 3.9}\n",
      "{'sepal_length': 5.9, 'petal_length': 4.8}\n",
      "{'sepal_length': 6.1, 'petal_length': 4.0}\n",
      "{'sepal_length': 6.3, 'petal_length': 4.9}\n",
      "{'sepal_length': 6.1, 'petal_length': 4.7}\n",
      "{'sepal_length': 6.4, 'petal_length': 4.3}\n",
      "{'sepal_length': 6.6, 'petal_length': 4.4}\n",
      "{'sepal_length': 6.8, 'petal_length': 4.8}\n",
      "{'sepal_length': 6.7, 'petal_length': 5.0}\n",
      "{'sepal_length': 6.0, 'petal_length': 4.5}\n",
      "{'sepal_length': 5.7, 'petal_length': 3.5}\n",
      "{'sepal_length': 5.5, 'petal_length': 3.8}\n",
      "{'sepal_length': 5.5, 'petal_length': 3.7}\n",
      "{'sepal_length': 5.8, 'petal_length': 3.9}\n",
      "{'sepal_length': 6.0, 'petal_length': 5.1}\n",
      "{'sepal_length': 5.4, 'petal_length': 4.5}\n",
      "{'sepal_length': 6.0, 'petal_length': 4.5}\n",
      "{'sepal_length': 6.7, 'petal_length': 4.7}\n",
      "{'sepal_length': 6.3, 'petal_length': 4.4}\n",
      "{'sepal_length': 5.6, 'petal_length': 4.1}\n",
      "{'sepal_length': 5.5, 'petal_length': 4.0}\n",
      "{'sepal_length': 5.5, 'petal_length': 4.4}\n",
      "{'sepal_length': 6.1, 'petal_length': 4.6}\n",
      "{'sepal_length': 5.8, 'petal_length': 4.0}\n",
      "{'sepal_length': 5.0, 'petal_length': 3.3}\n",
      "{'sepal_length': 5.6, 'petal_length': 4.2}\n",
      "{'sepal_length': 5.7, 'petal_length': 4.2}\n",
      "{'sepal_length': 5.7, 'petal_length': 4.2}\n",
      "{'sepal_length': 6.2, 'petal_length': 4.3}\n",
      "{'sepal_length': 5.1, 'petal_length': 3.0}\n",
      "{'sepal_length': 5.7, 'petal_length': 4.1}\n",
      "{'sepal_length': 6.3, 'petal_length': 6.0}\n",
      "{'sepal_length': 5.8, 'petal_length': 5.1}\n",
      "{'sepal_length': 7.1, 'petal_length': 5.9}\n",
      "{'sepal_length': 6.3, 'petal_length': 5.6}\n",
      "{'sepal_length': 6.5, 'petal_length': 5.8}\n",
      "{'sepal_length': 7.6, 'petal_length': 6.6}\n",
      "{'sepal_length': 4.9, 'petal_length': 4.5}\n",
      "{'sepal_length': 7.3, 'petal_length': 6.3}\n",
      "{'sepal_length': 6.7, 'petal_length': 5.8}\n",
      "{'sepal_length': 7.2, 'petal_length': 6.1}\n",
      "{'sepal_length': 6.5, 'petal_length': 5.1}\n",
      "{'sepal_length': 6.4, 'petal_length': 5.3}\n",
      "{'sepal_length': 6.8, 'petal_length': 5.5}\n",
      "{'sepal_length': 5.7, 'petal_length': 5.0}\n",
      "{'sepal_length': 5.8, 'petal_length': 5.1}\n",
      "{'sepal_length': 6.4, 'petal_length': 5.3}\n",
      "{'sepal_length': 6.5, 'petal_length': 5.5}\n",
      "{'sepal_length': 7.7, 'petal_length': 6.7}\n",
      "{'sepal_length': 7.7, 'petal_length': 6.9}\n",
      "{'sepal_length': 6.0, 'petal_length': 5.0}\n",
      "{'sepal_length': 6.9, 'petal_length': 5.7}\n",
      "{'sepal_length': 5.6, 'petal_length': 4.9}\n",
      "{'sepal_length': 7.7, 'petal_length': 6.7}\n",
      "{'sepal_length': 6.3, 'petal_length': 4.9}\n",
      "{'sepal_length': 6.7, 'petal_length': 5.7}\n",
      "{'sepal_length': 7.2, 'petal_length': 6.0}\n",
      "{'sepal_length': 6.2, 'petal_length': 4.8}\n",
      "{'sepal_length': 6.1, 'petal_length': 4.9}\n",
      "{'sepal_length': 6.4, 'petal_length': 5.6}\n",
      "{'sepal_length': 7.2, 'petal_length': 5.8}\n",
      "{'sepal_length': 7.4, 'petal_length': 6.1}\n",
      "{'sepal_length': 7.9, 'petal_length': 6.4}\n",
      "{'sepal_length': 6.4, 'petal_length': 5.6}\n",
      "{'sepal_length': 6.3, 'petal_length': 5.1}\n",
      "{'sepal_length': 6.1, 'petal_length': 5.6}\n",
      "{'sepal_length': 7.7, 'petal_length': 6.1}\n",
      "{'sepal_length': 6.3, 'petal_length': 5.6}\n",
      "{'sepal_length': 6.4, 'petal_length': 5.5}\n",
      "{'sepal_length': 6.0, 'petal_length': 4.8}\n",
      "{'sepal_length': 6.9, 'petal_length': 5.4}\n",
      "{'sepal_length': 6.7, 'petal_length': 5.6}\n",
      "{'sepal_length': 6.9, 'petal_length': 5.1}\n",
      "{'sepal_length': 5.8, 'petal_length': 5.1}\n",
      "{'sepal_length': 6.8, 'petal_length': 5.9}\n",
      "{'sepal_length': 6.7, 'petal_length': 5.7}\n",
      "{'sepal_length': 6.7, 'petal_length': 5.2}\n",
      "{'sepal_length': 6.3, 'petal_length': 5.0}\n",
      "{'sepal_length': 6.5, 'petal_length': 5.2}\n",
      "{'sepal_length': 6.2, 'petal_length': 5.4}\n",
      "{'sepal_length': 5.9, 'petal_length': 5.1}\n"
     ]
    }
   ],
   "source": [
    "for i in client.irisdb.iriscollection.find({},{'sepal_length':1,'petal_length':1,'_id':0}):\n",
    "    print(i)\n",
    "    \n",
    "# get the columns without filter object\n",
    "# there empty filter object define mandatory otherwise it will assume\n",
    "# the selection object dict as a filter object"
   ]
  },
  {
   "cell_type": "code",
   "execution_count": 88,
   "id": "9d3e6a17",
   "metadata": {},
   "outputs": [
    {
     "data": {
      "text/plain": [
       "162"
      ]
     },
     "execution_count": 88,
     "metadata": {},
     "output_type": "execute_result"
    }
   ],
   "source": [
    "client.irisdb.iriscollection.count_documents({})\n",
    "\n",
    "\n",
    "# for total no. of entry"
   ]
  },
  {
   "cell_type": "code",
   "execution_count": 89,
   "id": "a9912f5e",
   "metadata": {},
   "outputs": [
    {
     "data": {
      "text/plain": [
       "62"
      ]
     },
     "execution_count": 89,
     "metadata": {},
     "output_type": "execute_result"
    }
   ],
   "source": [
    "client.irisdb.iriscollection.count_documents({'species':'setosa'})\n"
   ]
  },
  {
   "cell_type": "code",
   "execution_count": 97,
   "id": "3e99573c",
   "metadata": {},
   "outputs": [
    {
     "data": {
      "text/plain": [
       "<pymongo.results.UpdateResult at 0x2289f86ff10>"
      ]
     },
     "execution_count": 97,
     "metadata": {},
     "output_type": "execute_result"
    }
   ],
   "source": [
    "client.irisdb.iriscollection.update_one({'species':'setosa'},{'$set':{'species':'Rose'}})\n",
    "\n",
    "\n",
    "# ({ : } ,  { : { : }})        -----> {condition}  {'parameter':  {value with key}}\n",
    "\n",
    "# update_one() it will update only single document\n",
    "\n",
    "# now i will chek"
   ]
  },
  {
   "cell_type": "code",
   "execution_count": 101,
   "id": "d36eb27b",
   "metadata": {},
   "outputs": [
    {
     "name": "stdout",
     "output_type": "stream",
     "text": [
      "Rose\n"
     ]
    }
   ],
   "source": [
    "for i in client.irisdb.iriscollection.find({'species':'Rose'}):\n",
    "    print(i['species'])"
   ]
  },
  {
   "cell_type": "code",
   "execution_count": 102,
   "id": "a74ae1c8",
   "metadata": {},
   "outputs": [
    {
     "data": {
      "text/plain": [
       "1"
      ]
     },
     "execution_count": 102,
     "metadata": {},
     "output_type": "execute_result"
    }
   ],
   "source": [
    "client.irisdb.iriscollection.count_documents({'species':'Rose'})\n",
    "\n",
    "# as you can see"
   ]
  },
  {
   "cell_type": "markdown",
   "id": "1cb6b130",
   "metadata": {},
   "source": [
    "# complex filter object"
   ]
  },
  {
   "cell_type": "code",
   "execution_count": 4,
   "id": "39e25710",
   "metadata": {},
   "outputs": [
    {
     "data": {
      "text/plain": [
       "162"
      ]
     },
     "execution_count": 4,
     "metadata": {},
     "output_type": "execute_result"
    }
   ],
   "source": [
    "client.irisdb.iriscollection.count_documents({})"
   ]
  },
  {
   "cell_type": "code",
   "execution_count": 5,
   "id": "6d54c07a",
   "metadata": {},
   "outputs": [],
   "source": [
    "iris=client.irisdb.iriscollection"
   ]
  },
  {
   "cell_type": "code",
   "execution_count": 8,
   "id": "ee03b1b4",
   "metadata": {},
   "outputs": [
    {
     "name": "stdout",
     "output_type": "stream",
     "text": [
      "{'species': 'setosa'}\n",
      "{'species': 'setosa'}\n",
      "{'species': 'setosa'}\n",
      "{'species': 'setosa'}\n",
      "{'species': 'setosa'}\n",
      "{'species': 'setosa'}\n",
      "{'species': 'setosa'}\n",
      "{'species': 'setosa'}\n",
      "{'species': 'setosa'}\n",
      "{'species': 'setosa'}\n",
      "{'species': 'setosa'}\n",
      "{'species': 'setosa'}\n",
      "{'species': 'setosa'}\n",
      "{'species': 'setosa'}\n",
      "{'species': 'setosa'}\n",
      "{'species': 'setosa'}\n",
      "{'species': 'setosa'}\n",
      "{'species': 'setosa'}\n",
      "{'species': 'setosa'}\n",
      "{'species': 'setosa'}\n",
      "{'species': 'setosa'}\n",
      "{'species': 'setosa'}\n",
      "{'species': 'setosa'}\n",
      "{'species': 'setosa'}\n",
      "{'species': 'setosa'}\n",
      "{'species': 'setosa'}\n",
      "{'species': 'setosa'}\n",
      "{'species': 'setosa'}\n",
      "{'species': 'setosa'}\n",
      "{'species': 'setosa'}\n",
      "{'species': 'setosa'}\n",
      "{'species': 'setosa'}\n",
      "{'species': 'setosa'}\n",
      "{'species': 'setosa'}\n",
      "{'species': 'setosa'}\n",
      "{'species': 'setosa'}\n",
      "{'species': 'setosa'}\n",
      "{'species': 'setosa'}\n",
      "{'species': 'setosa'}\n",
      "{'species': 'setosa'}\n",
      "{'species': 'setosa'}\n",
      "{'species': 'setosa'}\n",
      "{'species': 'setosa'}\n",
      "{'species': 'setosa'}\n",
      "{'species': 'setosa'}\n",
      "{'species': 'setosa'}\n",
      "{'species': 'setosa'}\n",
      "{'species': 'setosa'}\n",
      "{'species': 'setosa'}\n",
      "{'species': 'setosa'}\n",
      "{'species': 'setosa'}\n",
      "{'species': 'setosa'}\n",
      "{'species': 'setosa'}\n",
      "{'species': 'setosa'}\n",
      "{'species': 'setosa'}\n",
      "{'species': 'setosa'}\n",
      "{'species': 'setosa'}\n",
      "{'species': 'setosa'}\n",
      "{'species': 'setosa'}\n",
      "{'species': 'setosa'}\n",
      "{'species': 'setosa'}\n",
      "{'species': 'virginica'}\n",
      "{'species': 'virginica'}\n",
      "{'species': 'virginica'}\n",
      "{'species': 'virginica'}\n",
      "{'species': 'virginica'}\n",
      "{'species': 'virginica'}\n",
      "{'species': 'virginica'}\n",
      "{'species': 'virginica'}\n",
      "{'species': 'virginica'}\n",
      "{'species': 'virginica'}\n",
      "{'species': 'virginica'}\n",
      "{'species': 'virginica'}\n",
      "{'species': 'virginica'}\n",
      "{'species': 'virginica'}\n",
      "{'species': 'virginica'}\n",
      "{'species': 'virginica'}\n",
      "{'species': 'virginica'}\n",
      "{'species': 'virginica'}\n",
      "{'species': 'virginica'}\n",
      "{'species': 'virginica'}\n",
      "{'species': 'virginica'}\n",
      "{'species': 'virginica'}\n",
      "{'species': 'virginica'}\n",
      "{'species': 'virginica'}\n",
      "{'species': 'virginica'}\n",
      "{'species': 'virginica'}\n",
      "{'species': 'virginica'}\n",
      "{'species': 'virginica'}\n",
      "{'species': 'virginica'}\n",
      "{'species': 'virginica'}\n",
      "{'species': 'virginica'}\n",
      "{'species': 'virginica'}\n",
      "{'species': 'virginica'}\n",
      "{'species': 'virginica'}\n",
      "{'species': 'virginica'}\n",
      "{'species': 'virginica'}\n",
      "{'species': 'virginica'}\n",
      "{'species': 'virginica'}\n",
      "{'species': 'virginica'}\n",
      "{'species': 'virginica'}\n",
      "{'species': 'virginica'}\n",
      "{'species': 'virginica'}\n",
      "{'species': 'virginica'}\n",
      "{'species': 'virginica'}\n",
      "{'species': 'virginica'}\n",
      "{'species': 'virginica'}\n",
      "{'species': 'virginica'}\n",
      "{'species': 'virginica'}\n",
      "{'species': 'virginica'}\n",
      "{'species': 'virginica'}\n"
     ]
    }
   ],
   "source": [
    "for i in iris.find({'species':{'$in':['setosa','virginica']}},{'_id':0,'species':1}):\n",
    "    print(i)"
   ]
  },
  {
   "cell_type": "code",
   "execution_count": 10,
   "id": "332f52e4",
   "metadata": {},
   "outputs": [
    {
     "data": {
      "text/plain": [
       "111"
      ]
     },
     "execution_count": 10,
     "metadata": {},
     "output_type": "execute_result"
    }
   ],
   "source": [
    "iris.count_documents({'species':{'$in':['setosa','virginica']}})"
   ]
  },
  {
   "cell_type": "code",
   "execution_count": 13,
   "id": "2889083a",
   "metadata": {},
   "outputs": [
    {
     "name": "stdout",
     "output_type": "stream",
     "text": [
      "{'species': 'setosa'}\n",
      "{'species': 'setosa'}\n"
     ]
    }
   ],
   "source": [
    "for i in iris.find({'species':{'$in':['setosa','virginica']}},{'_id':0,'species':1}).limit(2):\n",
    "    print(i)f\n",
    "# with limit"
   ]
  },
  {
   "cell_type": "code",
   "execution_count": 15,
   "id": "e415b078",
   "metadata": {},
   "outputs": [
    {
     "name": "stdout",
     "output_type": "stream",
     "text": [
      "{'species': 'setosa'}\n",
      "{'species': 'setosa'}\n",
      "{'species': 'setosa'}\n",
      "{'species': 'setosa'}\n",
      "{'species': 'setosa'}\n",
      "{'species': 'setosa'}\n",
      "{'species': 'setosa'}\n",
      "{'species': 'setosa'}\n",
      "{'species': 'setosa'}\n",
      "{'species': 'setosa'}\n",
      "{'species': 'setosa'}\n",
      "{'species': 'setosa'}\n",
      "{'species': 'setosa'}\n",
      "{'species': 'setosa'}\n",
      "{'species': 'setosa'}\n",
      "{'species': 'setosa'}\n",
      "{'species': 'setosa'}\n",
      "{'species': 'setosa'}\n",
      "{'species': 'setosa'}\n",
      "{'species': 'virginica'}\n",
      "{'species': 'virginica'}\n",
      "{'species': 'virginica'}\n",
      "{'species': 'virginica'}\n",
      "{'species': 'virginica'}\n",
      "{'species': 'virginica'}\n",
      "{'species': 'virginica'}\n",
      "{'species': 'virginica'}\n",
      "{'species': 'virginica'}\n",
      "{'species': 'virginica'}\n",
      "{'species': 'virginica'}\n",
      "{'species': 'virginica'}\n",
      "{'species': 'virginica'}\n",
      "{'species': 'virginica'}\n",
      "{'species': 'virginica'}\n",
      "{'species': 'virginica'}\n",
      "{'species': 'virginica'}\n",
      "{'species': 'virginica'}\n",
      "{'species': 'virginica'}\n",
      "{'species': 'virginica'}\n",
      "{'species': 'virginica'}\n",
      "{'species': 'virginica'}\n",
      "{'species': 'virginica'}\n",
      "{'species': 'virginica'}\n",
      "{'species': 'virginica'}\n",
      "{'species': 'virginica'}\n",
      "{'species': 'virginica'}\n",
      "{'species': 'virginica'}\n",
      "{'species': 'virginica'}\n",
      "{'species': 'virginica'}\n",
      "{'species': 'virginica'}\n",
      "{'species': 'virginica'}\n",
      "{'species': 'virginica'}\n",
      "{'species': 'virginica'}\n",
      "{'species': 'virginica'}\n",
      "{'species': 'virginica'}\n",
      "{'species': 'virginica'}\n",
      "{'species': 'virginica'}\n",
      "{'species': 'virginica'}\n",
      "{'species': 'virginica'}\n",
      "{'species': 'virginica'}\n",
      "{'species': 'virginica'}\n",
      "{'species': 'virginica'}\n",
      "{'species': 'virginica'}\n",
      "{'species': 'virginica'}\n",
      "{'species': 'virginica'}\n",
      "{'species': 'virginica'}\n",
      "{'species': 'virginica'}\n",
      "{'species': 'virginica'}\n",
      "{'species': 'virginica'}\n"
     ]
    }
   ],
   "source": [
    "for i in iris.find({'species':{'$in':['setosa','virginica']}},{'_id':0,'species':1}).skip(42):\n",
    "    print(i)\n",
    "# with limit"
   ]
  },
  {
   "cell_type": "markdown",
   "id": "2f2a9d66",
   "metadata": {},
   "source": [
    "# for rename the columns "
   ]
  },
  {
   "cell_type": "code",
   "execution_count": 20,
   "id": "22500cc0",
   "metadata": {},
   "outputs": [
    {
     "data": {
      "text/plain": [
       "<pymongo.results.UpdateResult at 0x22ee469f340>"
      ]
     },
     "execution_count": 20,
     "metadata": {},
     "output_type": "execute_result"
    }
   ],
   "source": [
    "iris.update_many({},{'$rename':{'species':'category'}})"
   ]
  },
  {
   "cell_type": "code",
   "execution_count": 28,
   "id": "fc696b81",
   "metadata": {},
   "outputs": [
    {
     "data": {
      "text/plain": [
       "'category'"
      ]
     },
     "execution_count": 28,
     "metadata": {},
     "output_type": "execute_result"
    }
   ],
   "source": [
    "list(iris.find_one().keys())[-1]"
   ]
  },
  {
   "cell_type": "markdown",
   "id": "2e817e9a",
   "metadata": {},
   "source": [
    "# AND"
   ]
  },
  {
   "cell_type": "code",
   "execution_count": 33,
   "id": "91ef4c89",
   "metadata": {},
   "outputs": [
    {
     "name": "stdout",
     "output_type": "stream",
     "text": [
      "{'petal_length': 1.4, 'category': 'setosa'}\n",
      "{'petal_length': 1.4, 'category': 'setosa'}\n",
      "{'petal_length': 1.3, 'category': 'setosa'}\n",
      "{'petal_length': 1.5, 'category': 'setosa'}\n",
      "{'petal_length': 1.4, 'category': 'setosa'}\n",
      "{'petal_length': 1.7, 'category': 'setosa'}\n",
      "{'petal_length': 1.4, 'category': 'setosa'}\n",
      "{'petal_length': 1.5, 'category': 'setosa'}\n",
      "{'petal_length': 1.4, 'category': 'setosa'}\n",
      "{'petal_length': 1.5, 'category': 'setosa'}\n",
      "{'petal_length': 1.5, 'category': 'setosa'}\n",
      "{'petal_length': 1.4, 'category': 'setosa'}\n",
      "{'petal_length': 1.4, 'category': 'setosa'}\n",
      "{'petal_length': 1.3, 'category': 'setosa'}\n",
      "{'petal_length': 1.5, 'category': 'setosa'}\n",
      "{'petal_length': 1.4, 'category': 'setosa'}\n",
      "{'petal_length': 1.7, 'category': 'setosa'}\n",
      "{'petal_length': 1.4, 'category': 'setosa'}\n",
      "{'petal_length': 1.5, 'category': 'setosa'}\n",
      "{'petal_length': 1.4, 'category': 'setosa'}\n",
      "{'petal_length': 1.5, 'category': 'setosa'}\n",
      "{'petal_length': 1.5, 'category': 'setosa'}\n",
      "{'petal_length': 1.6, 'category': 'setosa'}\n",
      "{'petal_length': 1.4, 'category': 'setosa'}\n",
      "{'petal_length': 1.1, 'category': 'setosa'}\n",
      "{'petal_length': 1.2, 'category': 'setosa'}\n",
      "{'petal_length': 1.5, 'category': 'setosa'}\n",
      "{'petal_length': 1.3, 'category': 'setosa'}\n",
      "{'petal_length': 1.4, 'category': 'setosa'}\n",
      "{'petal_length': 1.7, 'category': 'setosa'}\n",
      "{'petal_length': 1.5, 'category': 'setosa'}\n",
      "{'petal_length': 1.7, 'category': 'setosa'}\n",
      "{'petal_length': 1.5, 'category': 'setosa'}\n",
      "{'petal_length': 1.0, 'category': 'setosa'}\n",
      "{'petal_length': 1.7, 'category': 'setosa'}\n",
      "{'petal_length': 1.9, 'category': 'setosa'}\n",
      "{'petal_length': 1.6, 'category': 'setosa'}\n",
      "{'petal_length': 1.6, 'category': 'setosa'}\n",
      "{'petal_length': 1.5, 'category': 'setosa'}\n",
      "{'petal_length': 1.4, 'category': 'setosa'}\n",
      "{'petal_length': 1.6, 'category': 'setosa'}\n",
      "{'petal_length': 1.6, 'category': 'setosa'}\n",
      "{'petal_length': 1.5, 'category': 'setosa'}\n",
      "{'petal_length': 1.5, 'category': 'setosa'}\n",
      "{'petal_length': 1.4, 'category': 'setosa'}\n",
      "{'petal_length': 1.5, 'category': 'setosa'}\n",
      "{'petal_length': 1.2, 'category': 'setosa'}\n",
      "{'petal_length': 1.3, 'category': 'setosa'}\n",
      "{'petal_length': 1.4, 'category': 'setosa'}\n",
      "{'petal_length': 1.3, 'category': 'setosa'}\n",
      "{'petal_length': 1.5, 'category': 'setosa'}\n",
      "{'petal_length': 1.3, 'category': 'setosa'}\n",
      "{'petal_length': 1.3, 'category': 'setosa'}\n",
      "{'petal_length': 1.3, 'category': 'setosa'}\n",
      "{'petal_length': 1.6, 'category': 'setosa'}\n",
      "{'petal_length': 1.9, 'category': 'setosa'}\n",
      "{'petal_length': 1.4, 'category': 'setosa'}\n",
      "{'petal_length': 1.6, 'category': 'setosa'}\n",
      "{'petal_length': 1.4, 'category': 'setosa'}\n",
      "{'petal_length': 1.5, 'category': 'setosa'}\n",
      "{'petal_length': 1.4, 'category': 'setosa'}\n"
     ]
    },
    {
     "data": {
      "text/plain": [
       "61"
      ]
     },
     "execution_count": 33,
     "metadata": {},
     "output_type": "execute_result"
    }
   ],
   "source": [
    "for i in iris.find({'$and':[{'category':'setosa'},{'petal_length':{'$lte':5}}]},{'category':1,'petal_length':1,'_id':0}):\n",
    "    print(i)\n",
    "\n",
    "iris.count_documents({'$and':[{'category':'setosa'},{'petal_length':{'$lte':5}}]})\n",
    "# this result is based on and operator with selection object"
   ]
  },
  {
   "cell_type": "markdown",
   "id": "a1784cfa",
   "metadata": {},
   "source": [
    "# OR    Ooperation"
   ]
  },
  {
   "cell_type": "code",
   "execution_count": 34,
   "id": "6a00cc3d",
   "metadata": {},
   "outputs": [
    {
     "name": "stdout",
     "output_type": "stream",
     "text": [
      "{'petal_length': 1.4, 'category': 'setosa'}\n",
      "{'petal_length': 1.4, 'category': 'setosa'}\n",
      "{'petal_length': 1.3, 'category': 'setosa'}\n",
      "{'petal_length': 1.5, 'category': 'setosa'}\n",
      "{'petal_length': 1.4, 'category': 'setosa'}\n",
      "{'petal_length': 1.7, 'category': 'setosa'}\n",
      "{'petal_length': 1.4, 'category': 'setosa'}\n",
      "{'petal_length': 1.5, 'category': 'setosa'}\n",
      "{'petal_length': 1.4, 'category': 'setosa'}\n",
      "{'petal_length': 1.5, 'category': 'setosa'}\n",
      "{'petal_length': 1.5, 'category': 'setosa'}\n",
      "{'petal_length': 1.4, 'category': 'setosa'}\n",
      "{'petal_length': 1.4, 'category': 'setosa'}\n",
      "{'petal_length': 1.3, 'category': 'setosa'}\n",
      "{'petal_length': 1.5, 'category': 'setosa'}\n",
      "{'petal_length': 1.4, 'category': 'setosa'}\n",
      "{'petal_length': 1.7, 'category': 'setosa'}\n",
      "{'petal_length': 1.4, 'category': 'setosa'}\n",
      "{'petal_length': 1.5, 'category': 'setosa'}\n",
      "{'petal_length': 1.4, 'category': 'setosa'}\n",
      "{'petal_length': 1.5, 'category': 'setosa'}\n",
      "{'petal_length': 1.5, 'category': 'setosa'}\n",
      "{'petal_length': 1.6, 'category': 'setosa'}\n",
      "{'petal_length': 1.4, 'category': 'setosa'}\n",
      "{'petal_length': 1.1, 'category': 'setosa'}\n",
      "{'petal_length': 1.2, 'category': 'setosa'}\n",
      "{'petal_length': 1.5, 'category': 'setosa'}\n",
      "{'petal_length': 1.3, 'category': 'setosa'}\n",
      "{'petal_length': 1.4, 'category': 'setosa'}\n",
      "{'petal_length': 1.7, 'category': 'setosa'}\n",
      "{'petal_length': 1.5, 'category': 'setosa'}\n",
      "{'petal_length': 1.7, 'category': 'setosa'}\n",
      "{'petal_length': 1.5, 'category': 'setosa'}\n",
      "{'petal_length': 1.0, 'category': 'setosa'}\n",
      "{'petal_length': 1.7, 'category': 'setosa'}\n",
      "{'petal_length': 1.9, 'category': 'setosa'}\n",
      "{'petal_length': 1.6, 'category': 'setosa'}\n",
      "{'petal_length': 1.6, 'category': 'setosa'}\n",
      "{'petal_length': 1.5, 'category': 'setosa'}\n",
      "{'petal_length': 1.4, 'category': 'setosa'}\n",
      "{'petal_length': 1.6, 'category': 'setosa'}\n",
      "{'petal_length': 1.6, 'category': 'setosa'}\n",
      "{'petal_length': 1.5, 'category': 'setosa'}\n",
      "{'petal_length': 1.5, 'category': 'setosa'}\n",
      "{'petal_length': 1.4, 'category': 'setosa'}\n",
      "{'petal_length': 1.5, 'category': 'setosa'}\n",
      "{'petal_length': 1.2, 'category': 'setosa'}\n",
      "{'petal_length': 1.3, 'category': 'setosa'}\n",
      "{'petal_length': 1.4, 'category': 'setosa'}\n",
      "{'petal_length': 1.3, 'category': 'setosa'}\n",
      "{'petal_length': 1.5, 'category': 'setosa'}\n",
      "{'petal_length': 1.3, 'category': 'setosa'}\n",
      "{'petal_length': 1.3, 'category': 'setosa'}\n",
      "{'petal_length': 1.3, 'category': 'setosa'}\n",
      "{'petal_length': 1.6, 'category': 'setosa'}\n",
      "{'petal_length': 1.9, 'category': 'setosa'}\n",
      "{'petal_length': 1.4, 'category': 'setosa'}\n",
      "{'petal_length': 1.6, 'category': 'setosa'}\n",
      "{'petal_length': 1.4, 'category': 'setosa'}\n",
      "{'petal_length': 1.5, 'category': 'setosa'}\n",
      "{'petal_length': 1.4, 'category': 'setosa'}\n",
      "{'petal_length': 5.0, 'category': 'versicolor'}\n",
      "{'petal_length': 5.1, 'category': 'versicolor'}\n",
      "{'petal_length': 6.0, 'category': 'virginica'}\n",
      "{'petal_length': 5.1, 'category': 'virginica'}\n",
      "{'petal_length': 5.9, 'category': 'virginica'}\n",
      "{'petal_length': 5.6, 'category': 'virginica'}\n",
      "{'petal_length': 5.8, 'category': 'virginica'}\n",
      "{'petal_length': 6.6, 'category': 'virginica'}\n",
      "{'petal_length': 6.3, 'category': 'virginica'}\n",
      "{'petal_length': 5.8, 'category': 'virginica'}\n",
      "{'petal_length': 6.1, 'category': 'virginica'}\n",
      "{'petal_length': 5.1, 'category': 'virginica'}\n",
      "{'petal_length': 5.3, 'category': 'virginica'}\n",
      "{'petal_length': 5.5, 'category': 'virginica'}\n",
      "{'petal_length': 5.0, 'category': 'virginica'}\n",
      "{'petal_length': 5.1, 'category': 'virginica'}\n",
      "{'petal_length': 5.3, 'category': 'virginica'}\n",
      "{'petal_length': 5.5, 'category': 'virginica'}\n",
      "{'petal_length': 6.7, 'category': 'virginica'}\n",
      "{'petal_length': 6.9, 'category': 'virginica'}\n",
      "{'petal_length': 5.0, 'category': 'virginica'}\n",
      "{'petal_length': 5.7, 'category': 'virginica'}\n",
      "{'petal_length': 6.7, 'category': 'virginica'}\n",
      "{'petal_length': 5.7, 'category': 'virginica'}\n",
      "{'petal_length': 6.0, 'category': 'virginica'}\n",
      "{'petal_length': 5.6, 'category': 'virginica'}\n",
      "{'petal_length': 5.8, 'category': 'virginica'}\n",
      "{'petal_length': 6.1, 'category': 'virginica'}\n",
      "{'petal_length': 6.4, 'category': 'virginica'}\n",
      "{'petal_length': 5.6, 'category': 'virginica'}\n",
      "{'petal_length': 5.1, 'category': 'virginica'}\n",
      "{'petal_length': 5.6, 'category': 'virginica'}\n",
      "{'petal_length': 6.1, 'category': 'virginica'}\n",
      "{'petal_length': 5.6, 'category': 'virginica'}\n",
      "{'petal_length': 5.5, 'category': 'virginica'}\n",
      "{'petal_length': 5.4, 'category': 'virginica'}\n",
      "{'petal_length': 5.6, 'category': 'virginica'}\n",
      "{'petal_length': 5.1, 'category': 'virginica'}\n",
      "{'petal_length': 5.1, 'category': 'virginica'}\n",
      "{'petal_length': 5.9, 'category': 'virginica'}\n",
      "{'petal_length': 5.7, 'category': 'virginica'}\n",
      "{'petal_length': 5.2, 'category': 'virginica'}\n",
      "{'petal_length': 5.0, 'category': 'virginica'}\n",
      "{'petal_length': 5.2, 'category': 'virginica'}\n",
      "{'petal_length': 5.4, 'category': 'virginica'}\n",
      "{'petal_length': 5.1, 'category': 'virginica'}\n"
     ]
    },
    {
     "data": {
      "text/plain": [
       "107"
      ]
     },
     "execution_count": 34,
     "metadata": {},
     "output_type": "execute_result"
    }
   ],
   "source": [
    "for i in iris.find({'$or':[{'category':'setosa'},{'petal_length':{'$gte':5}}]},{'category':1,'petal_length':1,'_id':0}):\n",
    "    print(i)\n",
    "\n",
    "iris.count_documents({'$or':[{'category':'setosa'},{'petal_length':{'$gte':5}}]})\n",
    "# this result is based on and operator with selection object"
   ]
  },
  {
   "cell_type": "code",
   "execution_count": 39,
   "id": "e701ac8b",
   "metadata": {},
   "outputs": [
    {
     "data": {
      "text/html": [
       "<div>\n",
       "<style scoped>\n",
       "    .dataframe tbody tr th:only-of-type {\n",
       "        vertical-align: middle;\n",
       "    }\n",
       "\n",
       "    .dataframe tbody tr th {\n",
       "        vertical-align: top;\n",
       "    }\n",
       "\n",
       "    .dataframe thead th {\n",
       "        text-align: right;\n",
       "    }\n",
       "</style>\n",
       "<table border=\"1\" class=\"dataframe\">\n",
       "  <thead>\n",
       "    <tr style=\"text-align: right;\">\n",
       "      <th></th>\n",
       "      <th>Unnamed: 0</th>\n",
       "      <th>sepal_length</th>\n",
       "      <th>sepal_width</th>\n",
       "      <th>petal_length</th>\n",
       "      <th>petal_width</th>\n",
       "      <th>species</th>\n",
       "    </tr>\n",
       "  </thead>\n",
       "  <tbody>\n",
       "    <tr>\n",
       "      <th>0</th>\n",
       "      <td>0</td>\n",
       "      <td>5.1</td>\n",
       "      <td>3.5</td>\n",
       "      <td>1.4</td>\n",
       "      <td>0.2</td>\n",
       "      <td>setosa</td>\n",
       "    </tr>\n",
       "    <tr>\n",
       "      <th>1</th>\n",
       "      <td>1</td>\n",
       "      <td>4.9</td>\n",
       "      <td>3.0</td>\n",
       "      <td>1.4</td>\n",
       "      <td>0.2</td>\n",
       "      <td>setosa</td>\n",
       "    </tr>\n",
       "    <tr>\n",
       "      <th>2</th>\n",
       "      <td>2</td>\n",
       "      <td>4.7</td>\n",
       "      <td>3.2</td>\n",
       "      <td>1.3</td>\n",
       "      <td>0.2</td>\n",
       "      <td>setosa</td>\n",
       "    </tr>\n",
       "    <tr>\n",
       "      <th>3</th>\n",
       "      <td>3</td>\n",
       "      <td>4.6</td>\n",
       "      <td>3.1</td>\n",
       "      <td>1.5</td>\n",
       "      <td>0.2</td>\n",
       "      <td>setosa</td>\n",
       "    </tr>\n",
       "    <tr>\n",
       "      <th>4</th>\n",
       "      <td>4</td>\n",
       "      <td>5.0</td>\n",
       "      <td>3.6</td>\n",
       "      <td>1.4</td>\n",
       "      <td>0.2</td>\n",
       "      <td>setosa</td>\n",
       "    </tr>\n",
       "  </tbody>\n",
       "</table>\n",
       "</div>"
      ],
      "text/plain": [
       "   Unnamed: 0  sepal_length  sepal_width  petal_length  petal_width species\n",
       "0           0           5.1          3.5           1.4          0.2  setosa\n",
       "1           1           4.9          3.0           1.4          0.2  setosa\n",
       "2           2           4.7          3.2           1.3          0.2  setosa\n",
       "3           3           4.6          3.1           1.5          0.2  setosa\n",
       "4           4           5.0          3.6           1.4          0.2  setosa"
      ]
     },
     "execution_count": 39,
     "metadata": {},
     "output_type": "execute_result"
    }
   ],
   "source": [
    "df=pd.read_csv('iris.csv')\n",
    "df.head()"
   ]
  },
  {
   "cell_type": "code",
   "execution_count": 57,
   "id": "82b44df2",
   "metadata": {},
   "outputs": [
    {
     "name": "stdout",
     "output_type": "stream",
     "text": [
      ",sepal_length,sepal_width,petal_length,petal_width,species\n",
      "0,5.1,3.5,1.4,0.2,setosa\n",
      "1,4.9,3.0,1.4,0.2,setosa\n",
      "2,4.7,3.2,1.3,0.2,setosa\n",
      "3,4.6,3.1,1.5,0.2,setosa\n",
      "4,5.0,3.6,1.4,0.2,setosa\n",
      "5,5.4,3.9,1.7,0.4,setosa\n",
      "6,4.6,3.4,1.4,0.3,setosa\n",
      "7,5.0,3.4,1.5,0.2,setosa\n",
      "8,4.4,2.9,1.4,0.2,setosa\n",
      "9,4.9,3.1,1.5,0.1,setosa\n",
      "10,5.4,3.7,1.5,0.2,setosa\n",
      "11,4.8,3.4,1.6,0.2,setosa\n",
      "12,4.8,3.0,1.4,0.1,setosa\n",
      "13,4.3,3.0,1.1,0.1,setosa\n",
      "14,5.8,4.0,1.2,0.2,setosa\n",
      "15,5.7,4.4,1.5,0.4,setosa\n",
      "16,5.4,3.9,1.3,0.4,setosa\n",
      "17,5.1,3.5,1.4,0.3,setosa\n",
      "18,5.7,3.8,1.7,0.3,setosa\n",
      "19,5.1,3.8,1.5,0.3,setosa\n",
      "20,5.4,3.4,1.7,0.2,setosa\n",
      "21,5.1,3.7,1.5,0.4,setosa\n",
      "22,4.6,3.6,1.0,0.2,setosa\n",
      "23,5.1,3.3,1.7,0.5,setosa\n",
      "24,4.8,3.4,1.9,0.2,setosa\n",
      "25,5.0,3.0,1.6,0.2,setosa\n",
      "26,5.0,3.4,1.6,0.4,setosa\n",
      "27,5.2,3.5,1.5,0.2,setosa\n",
      "28,5.2,3.4,1.4,0.2,setosa\n",
      "29,4.7,3.2,1.6,0.2,setosa\n",
      "30,4.8,3.1,1.6,0.2,setosa\n",
      "31,5.4,3.4,1.5,0.4,setosa\n",
      "32,5.2,4.1,1.5,0.1,setosa\n",
      "33,5.5,4.2,1.4,0.2,setosa\n",
      "34,4.9,3.1,1.5,0.2,setosa\n",
      "35,5.0,3.2,1.2,0.2,setosa\n",
      "36,5.5,3.5,1.3,0.2,setosa\n",
      "37,4.9,3.6,1.4,0.1,setosa\n",
      "38,4.4,3.0,1.3,0.2,setosa\n",
      "39,5.1,3.4,1.5,0.2,setosa\n",
      "40,5.0,3.5,1.3,0.3,setosa\n",
      "41,4.5,2.3,1.3,0.3,setosa\n",
      "42,4.4,3.2,1.3,0.2,setosa\n",
      "43,5.0,3.5,1.6,0.6,setosa\n",
      "44,5.1,3.8,1.9,0.4,setosa\n",
      "45,4.8,3.0,1.4,0.3,setosa\n",
      "46,5.1,3.8,1.6,0.2,setosa\n",
      "47,4.6,3.2,1.4,0.2,setosa\n",
      "48,5.3,3.7,1.5,0.2,setosa\n",
      "49,5.0,3.3,1.4,0.2,setosa\n",
      "50,7.0,3.2,4.7,1.4,versicolor\n",
      "51,6.4,3.2,4.5,1.5,versicolor\n",
      "52,6.9,3.1,4.9,1.5,versicolor\n",
      "53,5.5,2.3,4.0,1.3,versicolor\n",
      "54,6.5,2.8,4.6,1.5,versicolor\n",
      "55,5.7,2.8,4.5,1.3,versicolor\n",
      "56,6.3,3.3,4.7,1.6,versicolor\n",
      "57,4.9,2.4,3.3,1.0,versicolor\n",
      "58,6.6,2.9,4.6,1.3,versicolor\n",
      "59,5.2,2.7,3.9,1.4,versicolor\n",
      "60,5.0,2.0,3.5,1.0,versicolor\n",
      "61,5.9,3.0,4.2,1.5,versicolor\n",
      "62,6.0,2.2,4.0,1.0,versicolor\n",
      "63,6.1,2.9,4.7,1.4,versicolor\n",
      "64,5.6,2.9,3.6,1.3,versicolor\n",
      "65,6.7,3.1,4.4,1.4,versicolor\n",
      "66,5.6,3.0,4.5,1.5,versicolor\n",
      "67,5.8,2.7,4.1,1.0,versicolor\n",
      "68,6.2,2.2,4.5,1.5,versicolor\n",
      "69,5.6,2.5,3.9,1.1,versicolor\n",
      "70,5.9,3.2,4.8,1.8,versicolor\n",
      "71,6.1,2.8,4.0,1.3,versicolor\n",
      "72,6.3,2.5,4.9,1.5,versicolor\n",
      "73,6.1,2.8,4.7,1.2,versicolor\n",
      "74,6.4,2.9,4.3,1.3,versicolor\n",
      "75,6.6,3.0,4.4,1.4,versicolor\n",
      "76,6.8,2.8,4.8,1.4,versicolor\n",
      "77,6.7,3.0,5.0,1.7,versicolor\n",
      "78,6.0,2.9,4.5,1.5,versicolor\n",
      "79,5.7,2.6,3.5,1.0,versicolor\n",
      "80,5.5,2.4,3.8,1.1,versicolor\n",
      "81,5.5,2.4,3.7,1.0,versicolor\n",
      "82,5.8,2.7,3.9,1.2,versicolor\n",
      "83,6.0,2.7,5.1,1.6,versicolor\n",
      "84,5.4,3.0,4.5,1.5,versicolor\n",
      "85,6.0,3.4,4.5,1.6,versicolor\n",
      "86,6.7,3.1,4.7,1.5,versicolor\n",
      "87,6.3,2.3,4.4,1.3,versicolor\n",
      "88,5.6,3.0,4.1,1.3,versicolor\n",
      "89,5.5,2.5,4.0,1.3,versicolor\n",
      "90,5.5,2.6,4.4,1.2,versicolor\n",
      "91,6.1,3.0,4.6,1.4,versicolor\n",
      "92,5.8,2.6,4.0,1.2,versicolor\n",
      "93,5.0,2.3,3.3,1.0,versicolor\n",
      "94,5.6,2.7,4.2,1.3,versicolor\n",
      "95,5.7,3.0,4.2,1.2,versicolor\n",
      "96,5.7,2.9,4.2,1.3,versicolor\n",
      "97,6.2,2.9,4.3,1.3,versicolor\n",
      "98,5.1,2.5,3.0,1.1,versicolor\n",
      "99,5.7,2.8,4.1,1.3,versicolor\n",
      "100,6.3,3.3,6.0,2.5,virginica\n",
      "101,5.8,2.7,5.1,1.9,virginica\n",
      "102,7.1,3.0,5.9,2.1,virginica\n",
      "103,6.3,2.9,5.6,1.8,virginica\n",
      "104,6.5,3.0,5.8,2.2,virginica\n",
      "105,7.6,3.0,6.6,2.1,virginica\n",
      "106,4.9,2.5,4.5,1.7,virginica\n",
      "107,7.3,2.9,6.3,1.8,virginica\n",
      "108,6.7,2.5,5.8,1.8,virginica\n",
      "109,7.2,3.6,6.1,2.5,virginica\n",
      "110,6.5,3.2,5.1,2.0,virginica\n",
      "111,6.4,2.7,5.3,1.9,virginica\n",
      "112,6.8,3.0,5.5,2.1,virginica\n",
      "113,5.7,2.5,5.0,2.0,virginica\n",
      "114,5.8,2.8,5.1,2.4,virginica\n",
      "115,6.4,3.2,5.3,2.3,virginica\n",
      "116,6.5,3.0,5.5,1.8,virginica\n",
      "117,7.7,3.8,6.7,2.2,virginica\n",
      "118,7.7,2.6,6.9,2.3,virginica\n",
      "119,6.0,2.2,5.0,1.5,virginica\n",
      "120,6.9,3.2,5.7,2.3,virginica\n",
      "121,5.6,2.8,4.9,2.0,virginica\n",
      "122,7.7,2.8,6.7,2.0,virginica\n",
      "123,6.3,2.7,4.9,1.8,virginica\n",
      "124,6.7,3.3,5.7,2.1,virginica\n",
      "125,7.2,3.2,6.0,1.8,virginica\n",
      "126,6.2,2.8,4.8,1.8,virginica\n",
      "127,6.1,3.0,4.9,1.8,virginica\n",
      "128,6.4,2.8,5.6,2.1,virginica\n",
      "129,7.2,3.0,5.8,1.6,virginica\n",
      "130,7.4,2.8,6.1,1.9,virginica\n",
      "131,7.9,3.8,6.4,2.0,virginica\n",
      "132,6.4,2.8,5.6,2.2,virginica\n",
      "133,6.3,2.8,5.1,1.5,virginica\n",
      "134,6.1,2.6,5.6,1.4,virginica\n",
      "135,7.7,3.0,6.1,2.3,virginica\n",
      "136,6.3,3.4,5.6,2.4,virginica\n",
      "137,6.4,3.1,5.5,1.8,virginica\n",
      "138,6.0,3.0,4.8,1.8,virginica\n",
      "139,6.9,3.1,5.4,2.1,virginica\n",
      "140,6.7,3.1,5.6,2.4,virginica\n",
      "141,6.9,3.1,5.1,2.3,virginica\n",
      "142,5.8,2.7,5.1,1.9,virginica\n",
      "143,6.8,3.2,5.9,2.3,virginica\n",
      "144,6.7,3.3,5.7,2.5,virginica\n",
      "145,6.7,3.0,5.2,2.3,virginica\n",
      "146,6.3,2.5,5.0,1.9,virginica\n",
      "147,6.5,3.0,5.2,2.0,virginica\n",
      "148,6.2,3.4,5.4,2.3,virginica\n",
      "149,5.9,3.0,5.1,1.8,virginica\n",
      "\n"
     ]
    }
   ],
   "source": [
    "with open('iris.csv','r') as fil:\n",
    "    readdata=fil.read()\n",
    "print(readdata)\n",
    "\n",
    "# absolute data of csv file"
   ]
  },
  {
   "cell_type": "code",
   "execution_count": 48,
   "id": "dedb481c",
   "metadata": {},
   "outputs": [
    {
     "name": "stdout",
     "output_type": "stream",
     "text": [
      "[',sepal_length,sepal_width,petal_length,petal_width,species\\n', '0,5.1,3.5,1.4,0.2,setosa\\n', '1,4.9,3.0,1.4,0.2,setosa\\n', '2,4.7,3.2,1.3,0.2,setosa\\n', '3,4.6,3.1,1.5,0.2,setosa\\n', '4,5.0,3.6,1.4,0.2,setosa\\n', '5,5.4,3.9,1.7,0.4,setosa\\n', '6,4.6,3.4,1.4,0.3,setosa\\n', '7,5.0,3.4,1.5,0.2,setosa\\n', '8,4.4,2.9,1.4,0.2,setosa\\n', '9,4.9,3.1,1.5,0.1,setosa\\n', '10,5.4,3.7,1.5,0.2,setosa\\n', '11,4.8,3.4,1.6,0.2,setosa\\n', '12,4.8,3.0,1.4,0.1,setosa\\n', '13,4.3,3.0,1.1,0.1,setosa\\n', '14,5.8,4.0,1.2,0.2,setosa\\n', '15,5.7,4.4,1.5,0.4,setosa\\n', '16,5.4,3.9,1.3,0.4,setosa\\n', '17,5.1,3.5,1.4,0.3,setosa\\n', '18,5.7,3.8,1.7,0.3,setosa\\n', '19,5.1,3.8,1.5,0.3,setosa\\n', '20,5.4,3.4,1.7,0.2,setosa\\n', '21,5.1,3.7,1.5,0.4,setosa\\n', '22,4.6,3.6,1.0,0.2,setosa\\n', '23,5.1,3.3,1.7,0.5,setosa\\n', '24,4.8,3.4,1.9,0.2,setosa\\n', '25,5.0,3.0,1.6,0.2,setosa\\n', '26,5.0,3.4,1.6,0.4,setosa\\n', '27,5.2,3.5,1.5,0.2,setosa\\n', '28,5.2,3.4,1.4,0.2,setosa\\n', '29,4.7,3.2,1.6,0.2,setosa\\n', '30,4.8,3.1,1.6,0.2,setosa\\n', '31,5.4,3.4,1.5,0.4,setosa\\n', '32,5.2,4.1,1.5,0.1,setosa\\n', '33,5.5,4.2,1.4,0.2,setosa\\n', '34,4.9,3.1,1.5,0.2,setosa\\n', '35,5.0,3.2,1.2,0.2,setosa\\n', '36,5.5,3.5,1.3,0.2,setosa\\n', '37,4.9,3.6,1.4,0.1,setosa\\n', '38,4.4,3.0,1.3,0.2,setosa\\n', '39,5.1,3.4,1.5,0.2,setosa\\n', '40,5.0,3.5,1.3,0.3,setosa\\n', '41,4.5,2.3,1.3,0.3,setosa\\n', '42,4.4,3.2,1.3,0.2,setosa\\n', '43,5.0,3.5,1.6,0.6,setosa\\n', '44,5.1,3.8,1.9,0.4,setosa\\n', '45,4.8,3.0,1.4,0.3,setosa\\n', '46,5.1,3.8,1.6,0.2,setosa\\n', '47,4.6,3.2,1.4,0.2,setosa\\n', '48,5.3,3.7,1.5,0.2,setosa\\n', '49,5.0,3.3,1.4,0.2,setosa\\n', '50,7.0,3.2,4.7,1.4,versicolor\\n', '51,6.4,3.2,4.5,1.5,versicolor\\n', '52,6.9,3.1,4.9,1.5,versicolor\\n', '53,5.5,2.3,4.0,1.3,versicolor\\n', '54,6.5,2.8,4.6,1.5,versicolor\\n', '55,5.7,2.8,4.5,1.3,versicolor\\n', '56,6.3,3.3,4.7,1.6,versicolor\\n', '57,4.9,2.4,3.3,1.0,versicolor\\n', '58,6.6,2.9,4.6,1.3,versicolor\\n', '59,5.2,2.7,3.9,1.4,versicolor\\n', '60,5.0,2.0,3.5,1.0,versicolor\\n', '61,5.9,3.0,4.2,1.5,versicolor\\n', '62,6.0,2.2,4.0,1.0,versicolor\\n', '63,6.1,2.9,4.7,1.4,versicolor\\n', '64,5.6,2.9,3.6,1.3,versicolor\\n', '65,6.7,3.1,4.4,1.4,versicolor\\n', '66,5.6,3.0,4.5,1.5,versicolor\\n', '67,5.8,2.7,4.1,1.0,versicolor\\n', '68,6.2,2.2,4.5,1.5,versicolor\\n', '69,5.6,2.5,3.9,1.1,versicolor\\n', '70,5.9,3.2,4.8,1.8,versicolor\\n', '71,6.1,2.8,4.0,1.3,versicolor\\n', '72,6.3,2.5,4.9,1.5,versicolor\\n', '73,6.1,2.8,4.7,1.2,versicolor\\n', '74,6.4,2.9,4.3,1.3,versicolor\\n', '75,6.6,3.0,4.4,1.4,versicolor\\n', '76,6.8,2.8,4.8,1.4,versicolor\\n', '77,6.7,3.0,5.0,1.7,versicolor\\n', '78,6.0,2.9,4.5,1.5,versicolor\\n', '79,5.7,2.6,3.5,1.0,versicolor\\n', '80,5.5,2.4,3.8,1.1,versicolor\\n', '81,5.5,2.4,3.7,1.0,versicolor\\n', '82,5.8,2.7,3.9,1.2,versicolor\\n', '83,6.0,2.7,5.1,1.6,versicolor\\n', '84,5.4,3.0,4.5,1.5,versicolor\\n', '85,6.0,3.4,4.5,1.6,versicolor\\n', '86,6.7,3.1,4.7,1.5,versicolor\\n', '87,6.3,2.3,4.4,1.3,versicolor\\n', '88,5.6,3.0,4.1,1.3,versicolor\\n', '89,5.5,2.5,4.0,1.3,versicolor\\n', '90,5.5,2.6,4.4,1.2,versicolor\\n', '91,6.1,3.0,4.6,1.4,versicolor\\n', '92,5.8,2.6,4.0,1.2,versicolor\\n', '93,5.0,2.3,3.3,1.0,versicolor\\n', '94,5.6,2.7,4.2,1.3,versicolor\\n', '95,5.7,3.0,4.2,1.2,versicolor\\n', '96,5.7,2.9,4.2,1.3,versicolor\\n', '97,6.2,2.9,4.3,1.3,versicolor\\n', '98,5.1,2.5,3.0,1.1,versicolor\\n', '99,5.7,2.8,4.1,1.3,versicolor\\n', '100,6.3,3.3,6.0,2.5,virginica\\n', '101,5.8,2.7,5.1,1.9,virginica\\n', '102,7.1,3.0,5.9,2.1,virginica\\n', '103,6.3,2.9,5.6,1.8,virginica\\n', '104,6.5,3.0,5.8,2.2,virginica\\n', '105,7.6,3.0,6.6,2.1,virginica\\n', '106,4.9,2.5,4.5,1.7,virginica\\n', '107,7.3,2.9,6.3,1.8,virginica\\n', '108,6.7,2.5,5.8,1.8,virginica\\n', '109,7.2,3.6,6.1,2.5,virginica\\n', '110,6.5,3.2,5.1,2.0,virginica\\n', '111,6.4,2.7,5.3,1.9,virginica\\n', '112,6.8,3.0,5.5,2.1,virginica\\n', '113,5.7,2.5,5.0,2.0,virginica\\n', '114,5.8,2.8,5.1,2.4,virginica\\n', '115,6.4,3.2,5.3,2.3,virginica\\n', '116,6.5,3.0,5.5,1.8,virginica\\n', '117,7.7,3.8,6.7,2.2,virginica\\n', '118,7.7,2.6,6.9,2.3,virginica\\n', '119,6.0,2.2,5.0,1.5,virginica\\n', '120,6.9,3.2,5.7,2.3,virginica\\n', '121,5.6,2.8,4.9,2.0,virginica\\n', '122,7.7,2.8,6.7,2.0,virginica\\n', '123,6.3,2.7,4.9,1.8,virginica\\n', '124,6.7,3.3,5.7,2.1,virginica\\n', '125,7.2,3.2,6.0,1.8,virginica\\n', '126,6.2,2.8,4.8,1.8,virginica\\n', '127,6.1,3.0,4.9,1.8,virginica\\n', '128,6.4,2.8,5.6,2.1,virginica\\n', '129,7.2,3.0,5.8,1.6,virginica\\n', '130,7.4,2.8,6.1,1.9,virginica\\n', '131,7.9,3.8,6.4,2.0,virginica\\n', '132,6.4,2.8,5.6,2.2,virginica\\n', '133,6.3,2.8,5.1,1.5,virginica\\n', '134,6.1,2.6,5.6,1.4,virginica\\n', '135,7.7,3.0,6.1,2.3,virginica\\n', '136,6.3,3.4,5.6,2.4,virginica\\n', '137,6.4,3.1,5.5,1.8,virginica\\n', '138,6.0,3.0,4.8,1.8,virginica\\n', '139,6.9,3.1,5.4,2.1,virginica\\n', '140,6.7,3.1,5.6,2.4,virginica\\n', '141,6.9,3.1,5.1,2.3,virginica\\n', '142,5.8,2.7,5.1,1.9,virginica\\n', '143,6.8,3.2,5.9,2.3,virginica\\n', '144,6.7,3.3,5.7,2.5,virginica\\n', '145,6.7,3.0,5.2,2.3,virginica\\n', '146,6.3,2.5,5.0,1.9,virginica\\n', '147,6.5,3.0,5.2,2.0,virginica\\n', '148,6.2,3.4,5.4,2.3,virginica\\n', '149,5.9,3.0,5.1,1.8,virginica\\n']\n"
     ]
    }
   ],
   "source": [
    "with open('iris.csv','r') as fil:\n",
    "    data=fil.readlines()\n",
    "print(data)\n",
    "\n",
    "# [  ,   ,  ,  ,   ,]"
   ]
  },
  {
   "cell_type": "code",
   "execution_count": 49,
   "id": "f3220343",
   "metadata": {},
   "outputs": [
    {
     "data": {
      "text/plain": [
       "[',sepal_length,sepal_width,petal_length,petal_width,species\\n',\n",
       " '0,5.1,3.5,1.4,0.2,setosa\\n',\n",
       " '1,4.9,3.0,1.4,0.2,setosa\\n',\n",
       " '2,4.7,3.2,1.3,0.2,setosa\\n',\n",
       " '3,4.6,3.1,1.5,0.2,setosa\\n',\n",
       " '4,5.0,3.6,1.4,0.2,setosa\\n',\n",
       " '5,5.4,3.9,1.7,0.4,setosa\\n',\n",
       " '6,4.6,3.4,1.4,0.3,setosa\\n',\n",
       " '7,5.0,3.4,1.5,0.2,setosa\\n',\n",
       " '8,4.4,2.9,1.4,0.2,setosa\\n',\n",
       " '9,4.9,3.1,1.5,0.1,setosa\\n',\n",
       " '10,5.4,3.7,1.5,0.2,setosa\\n',\n",
       " '11,4.8,3.4,1.6,0.2,setosa\\n',\n",
       " '12,4.8,3.0,1.4,0.1,setosa\\n',\n",
       " '13,4.3,3.0,1.1,0.1,setosa\\n',\n",
       " '14,5.8,4.0,1.2,0.2,setosa\\n',\n",
       " '15,5.7,4.4,1.5,0.4,setosa\\n',\n",
       " '16,5.4,3.9,1.3,0.4,setosa\\n',\n",
       " '17,5.1,3.5,1.4,0.3,setosa\\n',\n",
       " '18,5.7,3.8,1.7,0.3,setosa\\n',\n",
       " '19,5.1,3.8,1.5,0.3,setosa\\n',\n",
       " '20,5.4,3.4,1.7,0.2,setosa\\n',\n",
       " '21,5.1,3.7,1.5,0.4,setosa\\n',\n",
       " '22,4.6,3.6,1.0,0.2,setosa\\n',\n",
       " '23,5.1,3.3,1.7,0.5,setosa\\n',\n",
       " '24,4.8,3.4,1.9,0.2,setosa\\n',\n",
       " '25,5.0,3.0,1.6,0.2,setosa\\n',\n",
       " '26,5.0,3.4,1.6,0.4,setosa\\n',\n",
       " '27,5.2,3.5,1.5,0.2,setosa\\n',\n",
       " '28,5.2,3.4,1.4,0.2,setosa\\n',\n",
       " '29,4.7,3.2,1.6,0.2,setosa\\n',\n",
       " '30,4.8,3.1,1.6,0.2,setosa\\n',\n",
       " '31,5.4,3.4,1.5,0.4,setosa\\n',\n",
       " '32,5.2,4.1,1.5,0.1,setosa\\n',\n",
       " '33,5.5,4.2,1.4,0.2,setosa\\n',\n",
       " '34,4.9,3.1,1.5,0.2,setosa\\n',\n",
       " '35,5.0,3.2,1.2,0.2,setosa\\n',\n",
       " '36,5.5,3.5,1.3,0.2,setosa\\n',\n",
       " '37,4.9,3.6,1.4,0.1,setosa\\n',\n",
       " '38,4.4,3.0,1.3,0.2,setosa\\n',\n",
       " '39,5.1,3.4,1.5,0.2,setosa\\n',\n",
       " '40,5.0,3.5,1.3,0.3,setosa\\n',\n",
       " '41,4.5,2.3,1.3,0.3,setosa\\n',\n",
       " '42,4.4,3.2,1.3,0.2,setosa\\n',\n",
       " '43,5.0,3.5,1.6,0.6,setosa\\n',\n",
       " '44,5.1,3.8,1.9,0.4,setosa\\n',\n",
       " '45,4.8,3.0,1.4,0.3,setosa\\n',\n",
       " '46,5.1,3.8,1.6,0.2,setosa\\n',\n",
       " '47,4.6,3.2,1.4,0.2,setosa\\n',\n",
       " '48,5.3,3.7,1.5,0.2,setosa\\n',\n",
       " '49,5.0,3.3,1.4,0.2,setosa\\n',\n",
       " '50,7.0,3.2,4.7,1.4,versicolor\\n',\n",
       " '51,6.4,3.2,4.5,1.5,versicolor\\n',\n",
       " '52,6.9,3.1,4.9,1.5,versicolor\\n',\n",
       " '53,5.5,2.3,4.0,1.3,versicolor\\n',\n",
       " '54,6.5,2.8,4.6,1.5,versicolor\\n',\n",
       " '55,5.7,2.8,4.5,1.3,versicolor\\n',\n",
       " '56,6.3,3.3,4.7,1.6,versicolor\\n',\n",
       " '57,4.9,2.4,3.3,1.0,versicolor\\n',\n",
       " '58,6.6,2.9,4.6,1.3,versicolor\\n',\n",
       " '59,5.2,2.7,3.9,1.4,versicolor\\n',\n",
       " '60,5.0,2.0,3.5,1.0,versicolor\\n',\n",
       " '61,5.9,3.0,4.2,1.5,versicolor\\n',\n",
       " '62,6.0,2.2,4.0,1.0,versicolor\\n',\n",
       " '63,6.1,2.9,4.7,1.4,versicolor\\n',\n",
       " '64,5.6,2.9,3.6,1.3,versicolor\\n',\n",
       " '65,6.7,3.1,4.4,1.4,versicolor\\n',\n",
       " '66,5.6,3.0,4.5,1.5,versicolor\\n',\n",
       " '67,5.8,2.7,4.1,1.0,versicolor\\n',\n",
       " '68,6.2,2.2,4.5,1.5,versicolor\\n',\n",
       " '69,5.6,2.5,3.9,1.1,versicolor\\n',\n",
       " '70,5.9,3.2,4.8,1.8,versicolor\\n',\n",
       " '71,6.1,2.8,4.0,1.3,versicolor\\n',\n",
       " '72,6.3,2.5,4.9,1.5,versicolor\\n',\n",
       " '73,6.1,2.8,4.7,1.2,versicolor\\n',\n",
       " '74,6.4,2.9,4.3,1.3,versicolor\\n',\n",
       " '75,6.6,3.0,4.4,1.4,versicolor\\n',\n",
       " '76,6.8,2.8,4.8,1.4,versicolor\\n',\n",
       " '77,6.7,3.0,5.0,1.7,versicolor\\n',\n",
       " '78,6.0,2.9,4.5,1.5,versicolor\\n',\n",
       " '79,5.7,2.6,3.5,1.0,versicolor\\n',\n",
       " '80,5.5,2.4,3.8,1.1,versicolor\\n',\n",
       " '81,5.5,2.4,3.7,1.0,versicolor\\n',\n",
       " '82,5.8,2.7,3.9,1.2,versicolor\\n',\n",
       " '83,6.0,2.7,5.1,1.6,versicolor\\n',\n",
       " '84,5.4,3.0,4.5,1.5,versicolor\\n',\n",
       " '85,6.0,3.4,4.5,1.6,versicolor\\n',\n",
       " '86,6.7,3.1,4.7,1.5,versicolor\\n',\n",
       " '87,6.3,2.3,4.4,1.3,versicolor\\n',\n",
       " '88,5.6,3.0,4.1,1.3,versicolor\\n',\n",
       " '89,5.5,2.5,4.0,1.3,versicolor\\n',\n",
       " '90,5.5,2.6,4.4,1.2,versicolor\\n',\n",
       " '91,6.1,3.0,4.6,1.4,versicolor\\n',\n",
       " '92,5.8,2.6,4.0,1.2,versicolor\\n',\n",
       " '93,5.0,2.3,3.3,1.0,versicolor\\n',\n",
       " '94,5.6,2.7,4.2,1.3,versicolor\\n',\n",
       " '95,5.7,3.0,4.2,1.2,versicolor\\n',\n",
       " '96,5.7,2.9,4.2,1.3,versicolor\\n',\n",
       " '97,6.2,2.9,4.3,1.3,versicolor\\n',\n",
       " '98,5.1,2.5,3.0,1.1,versicolor\\n',\n",
       " '99,5.7,2.8,4.1,1.3,versicolor\\n',\n",
       " '100,6.3,3.3,6.0,2.5,virginica\\n',\n",
       " '101,5.8,2.7,5.1,1.9,virginica\\n',\n",
       " '102,7.1,3.0,5.9,2.1,virginica\\n',\n",
       " '103,6.3,2.9,5.6,1.8,virginica\\n',\n",
       " '104,6.5,3.0,5.8,2.2,virginica\\n',\n",
       " '105,7.6,3.0,6.6,2.1,virginica\\n',\n",
       " '106,4.9,2.5,4.5,1.7,virginica\\n',\n",
       " '107,7.3,2.9,6.3,1.8,virginica\\n',\n",
       " '108,6.7,2.5,5.8,1.8,virginica\\n',\n",
       " '109,7.2,3.6,6.1,2.5,virginica\\n',\n",
       " '110,6.5,3.2,5.1,2.0,virginica\\n',\n",
       " '111,6.4,2.7,5.3,1.9,virginica\\n',\n",
       " '112,6.8,3.0,5.5,2.1,virginica\\n',\n",
       " '113,5.7,2.5,5.0,2.0,virginica\\n',\n",
       " '114,5.8,2.8,5.1,2.4,virginica\\n',\n",
       " '115,6.4,3.2,5.3,2.3,virginica\\n',\n",
       " '116,6.5,3.0,5.5,1.8,virginica\\n',\n",
       " '117,7.7,3.8,6.7,2.2,virginica\\n',\n",
       " '118,7.7,2.6,6.9,2.3,virginica\\n',\n",
       " '119,6.0,2.2,5.0,1.5,virginica\\n',\n",
       " '120,6.9,3.2,5.7,2.3,virginica\\n',\n",
       " '121,5.6,2.8,4.9,2.0,virginica\\n',\n",
       " '122,7.7,2.8,6.7,2.0,virginica\\n',\n",
       " '123,6.3,2.7,4.9,1.8,virginica\\n',\n",
       " '124,6.7,3.3,5.7,2.1,virginica\\n',\n",
       " '125,7.2,3.2,6.0,1.8,virginica\\n',\n",
       " '126,6.2,2.8,4.8,1.8,virginica\\n',\n",
       " '127,6.1,3.0,4.9,1.8,virginica\\n',\n",
       " '128,6.4,2.8,5.6,2.1,virginica\\n',\n",
       " '129,7.2,3.0,5.8,1.6,virginica\\n',\n",
       " '130,7.4,2.8,6.1,1.9,virginica\\n',\n",
       " '131,7.9,3.8,6.4,2.0,virginica\\n',\n",
       " '132,6.4,2.8,5.6,2.2,virginica\\n',\n",
       " '133,6.3,2.8,5.1,1.5,virginica\\n',\n",
       " '134,6.1,2.6,5.6,1.4,virginica\\n',\n",
       " '135,7.7,3.0,6.1,2.3,virginica\\n',\n",
       " '136,6.3,3.4,5.6,2.4,virginica\\n',\n",
       " '137,6.4,3.1,5.5,1.8,virginica\\n',\n",
       " '138,6.0,3.0,4.8,1.8,virginica\\n',\n",
       " '139,6.9,3.1,5.4,2.1,virginica\\n',\n",
       " '140,6.7,3.1,5.6,2.4,virginica\\n',\n",
       " '141,6.9,3.1,5.1,2.3,virginica\\n',\n",
       " '142,5.8,2.7,5.1,1.9,virginica\\n',\n",
       " '143,6.8,3.2,5.9,2.3,virginica\\n',\n",
       " '144,6.7,3.3,5.7,2.5,virginica\\n',\n",
       " '145,6.7,3.0,5.2,2.3,virginica\\n',\n",
       " '146,6.3,2.5,5.0,1.9,virginica\\n',\n",
       " '147,6.5,3.0,5.2,2.0,virginica\\n',\n",
       " '148,6.2,3.4,5.4,2.3,virginica\\n',\n",
       " '149,5.9,3.0,5.1,1.8,virginica\\n']"
      ]
     },
     "execution_count": 49,
     "metadata": {},
     "output_type": "execute_result"
    }
   ],
   "source": [
    "data"
   ]
  },
  {
   "cell_type": "code",
   "execution_count": 50,
   "id": "4cb65b10",
   "metadata": {},
   "outputs": [
    {
     "data": {
      "text/plain": [
       "list"
      ]
     },
     "execution_count": 50,
     "metadata": {},
     "output_type": "execute_result"
    }
   ],
   "source": [
    "type(data)"
   ]
  },
  {
   "cell_type": "code",
   "execution_count": 51,
   "id": "59413be8",
   "metadata": {},
   "outputs": [
    {
     "data": {
      "text/plain": [
       "',sepal_length,sepal_width,petal_length,petal_width,species\\n'"
      ]
     },
     "execution_count": 51,
     "metadata": {},
     "output_type": "execute_result"
    }
   ],
   "source": [
    "data[0]"
   ]
  },
  {
   "cell_type": "code",
   "execution_count": 52,
   "id": "2a0cc437",
   "metadata": {},
   "outputs": [
    {
     "data": {
      "text/plain": [
       "'0,5.1,3.5,1.4,0.2,setosa\\n'"
      ]
     },
     "execution_count": 52,
     "metadata": {},
     "output_type": "execute_result"
    }
   ],
   "source": [
    "data[1]"
   ]
  },
  {
   "cell_type": "code",
   "execution_count": 67,
   "id": "822bff51",
   "metadata": {},
   "outputs": [
    {
     "data": {
      "text/plain": [
       "['',\n",
       " 'sepal_length',\n",
       " 'sepal_width',\n",
       " 'petal_length',\n",
       " 'petal_width',\n",
       " 'species\\n0',\n",
       " '5.1',\n",
       " '3.5',\n",
       " '1.4',\n",
       " '0.2',\n",
       " 'setosa\\n1',\n",
       " '4.9',\n",
       " '3.0',\n",
       " '1.4',\n",
       " '0.2',\n",
       " 'setosa\\n2',\n",
       " '4.7',\n",
       " '3.2',\n",
       " '1.3',\n",
       " '0.2',\n",
       " 'setosa\\n3',\n",
       " '4.6',\n",
       " '3.1',\n",
       " '1.5',\n",
       " '0.2',\n",
       " 'setosa\\n4',\n",
       " '5.0',\n",
       " '3.6',\n",
       " '1.4',\n",
       " '0.2',\n",
       " 'setosa\\n5',\n",
       " '5.4',\n",
       " '3.9',\n",
       " '1.7',\n",
       " '0.4',\n",
       " 'setosa\\n6',\n",
       " '4.6',\n",
       " '3.4',\n",
       " '1.4',\n",
       " '0.3',\n",
       " 'setosa\\n7',\n",
       " '5.0',\n",
       " '3.4',\n",
       " '1.5',\n",
       " '0.2',\n",
       " 'setosa\\n8',\n",
       " '4.4',\n",
       " '2.9',\n",
       " '1.4',\n",
       " '0.2',\n",
       " 'setosa\\n9',\n",
       " '4.9',\n",
       " '3.1',\n",
       " '1.5',\n",
       " '0.1',\n",
       " 'setosa\\n10',\n",
       " '5.4',\n",
       " '3.7',\n",
       " '1.5',\n",
       " '0.2',\n",
       " 'setosa\\n11',\n",
       " '4.8',\n",
       " '3.4',\n",
       " '1.6',\n",
       " '0.2',\n",
       " 'setosa\\n12',\n",
       " '4.8',\n",
       " '3.0',\n",
       " '1.4',\n",
       " '0.1',\n",
       " 'setosa\\n13',\n",
       " '4.3',\n",
       " '3.0',\n",
       " '1.1',\n",
       " '0.1',\n",
       " 'setosa\\n14',\n",
       " '5.8',\n",
       " '4.0',\n",
       " '1.2',\n",
       " '0.2',\n",
       " 'setosa\\n15',\n",
       " '5.7',\n",
       " '4.4',\n",
       " '1.5',\n",
       " '0.4',\n",
       " 'setosa\\n16',\n",
       " '5.4',\n",
       " '3.9',\n",
       " '1.3',\n",
       " '0.4',\n",
       " 'setosa\\n17',\n",
       " '5.1',\n",
       " '3.5',\n",
       " '1.4',\n",
       " '0.3',\n",
       " 'setosa\\n18',\n",
       " '5.7',\n",
       " '3.8',\n",
       " '1.7',\n",
       " '0.3',\n",
       " 'setosa\\n19',\n",
       " '5.1',\n",
       " '3.8',\n",
       " '1.5',\n",
       " '0.3',\n",
       " 'setosa\\n20',\n",
       " '5.4',\n",
       " '3.4',\n",
       " '1.7',\n",
       " '0.2',\n",
       " 'setosa\\n21',\n",
       " '5.1',\n",
       " '3.7',\n",
       " '1.5',\n",
       " '0.4',\n",
       " 'setosa\\n22',\n",
       " '4.6',\n",
       " '3.6',\n",
       " '1.0',\n",
       " '0.2',\n",
       " 'setosa\\n23',\n",
       " '5.1',\n",
       " '3.3',\n",
       " '1.7',\n",
       " '0.5',\n",
       " 'setosa\\n24',\n",
       " '4.8',\n",
       " '3.4',\n",
       " '1.9',\n",
       " '0.2',\n",
       " 'setosa\\n25',\n",
       " '5.0',\n",
       " '3.0',\n",
       " '1.6',\n",
       " '0.2',\n",
       " 'setosa\\n26',\n",
       " '5.0',\n",
       " '3.4',\n",
       " '1.6',\n",
       " '0.4',\n",
       " 'setosa\\n27',\n",
       " '5.2',\n",
       " '3.5',\n",
       " '1.5',\n",
       " '0.2',\n",
       " 'setosa\\n28',\n",
       " '5.2',\n",
       " '3.4',\n",
       " '1.4',\n",
       " '0.2',\n",
       " 'setosa\\n29',\n",
       " '4.7',\n",
       " '3.2',\n",
       " '1.6',\n",
       " '0.2',\n",
       " 'setosa\\n30',\n",
       " '4.8',\n",
       " '3.1',\n",
       " '1.6',\n",
       " '0.2',\n",
       " 'setosa\\n31',\n",
       " '5.4',\n",
       " '3.4',\n",
       " '1.5',\n",
       " '0.4',\n",
       " 'setosa\\n32',\n",
       " '5.2',\n",
       " '4.1',\n",
       " '1.5',\n",
       " '0.1',\n",
       " 'setosa\\n33',\n",
       " '5.5',\n",
       " '4.2',\n",
       " '1.4',\n",
       " '0.2',\n",
       " 'setosa\\n34',\n",
       " '4.9',\n",
       " '3.1',\n",
       " '1.5',\n",
       " '0.2',\n",
       " 'setosa\\n35',\n",
       " '5.0',\n",
       " '3.2',\n",
       " '1.2',\n",
       " '0.2',\n",
       " 'setosa\\n36',\n",
       " '5.5',\n",
       " '3.5',\n",
       " '1.3',\n",
       " '0.2',\n",
       " 'setosa\\n37',\n",
       " '4.9',\n",
       " '3.6',\n",
       " '1.4',\n",
       " '0.1',\n",
       " 'setosa\\n38',\n",
       " '4.4',\n",
       " '3.0',\n",
       " '1.3',\n",
       " '0.2',\n",
       " 'setosa\\n39',\n",
       " '5.1',\n",
       " '3.4',\n",
       " '1.5',\n",
       " '0.2',\n",
       " 'setosa\\n40',\n",
       " '5.0',\n",
       " '3.5',\n",
       " '1.3',\n",
       " '0.3',\n",
       " 'setosa\\n41',\n",
       " '4.5',\n",
       " '2.3',\n",
       " '1.3',\n",
       " '0.3',\n",
       " 'setosa\\n42',\n",
       " '4.4',\n",
       " '3.2',\n",
       " '1.3',\n",
       " '0.2',\n",
       " 'setosa\\n43',\n",
       " '5.0',\n",
       " '3.5',\n",
       " '1.6',\n",
       " '0.6',\n",
       " 'setosa\\n44',\n",
       " '5.1',\n",
       " '3.8',\n",
       " '1.9',\n",
       " '0.4',\n",
       " 'setosa\\n45',\n",
       " '4.8',\n",
       " '3.0',\n",
       " '1.4',\n",
       " '0.3',\n",
       " 'setosa\\n46',\n",
       " '5.1',\n",
       " '3.8',\n",
       " '1.6',\n",
       " '0.2',\n",
       " 'setosa\\n47',\n",
       " '4.6',\n",
       " '3.2',\n",
       " '1.4',\n",
       " '0.2',\n",
       " 'setosa\\n48',\n",
       " '5.3',\n",
       " '3.7',\n",
       " '1.5',\n",
       " '0.2',\n",
       " 'setosa\\n49',\n",
       " '5.0',\n",
       " '3.3',\n",
       " '1.4',\n",
       " '0.2',\n",
       " 'setosa\\n50',\n",
       " '7.0',\n",
       " '3.2',\n",
       " '4.7',\n",
       " '1.4',\n",
       " 'versicolor\\n51',\n",
       " '6.4',\n",
       " '3.2',\n",
       " '4.5',\n",
       " '1.5',\n",
       " 'versicolor\\n52',\n",
       " '6.9',\n",
       " '3.1',\n",
       " '4.9',\n",
       " '1.5',\n",
       " 'versicolor\\n53',\n",
       " '5.5',\n",
       " '2.3',\n",
       " '4.0',\n",
       " '1.3',\n",
       " 'versicolor\\n54',\n",
       " '6.5',\n",
       " '2.8',\n",
       " '4.6',\n",
       " '1.5',\n",
       " 'versicolor\\n55',\n",
       " '5.7',\n",
       " '2.8',\n",
       " '4.5',\n",
       " '1.3',\n",
       " 'versicolor\\n56',\n",
       " '6.3',\n",
       " '3.3',\n",
       " '4.7',\n",
       " '1.6',\n",
       " 'versicolor\\n57',\n",
       " '4.9',\n",
       " '2.4',\n",
       " '3.3',\n",
       " '1.0',\n",
       " 'versicolor\\n58',\n",
       " '6.6',\n",
       " '2.9',\n",
       " '4.6',\n",
       " '1.3',\n",
       " 'versicolor\\n59',\n",
       " '5.2',\n",
       " '2.7',\n",
       " '3.9',\n",
       " '1.4',\n",
       " 'versicolor\\n60',\n",
       " '5.0',\n",
       " '2.0',\n",
       " '3.5',\n",
       " '1.0',\n",
       " 'versicolor\\n61',\n",
       " '5.9',\n",
       " '3.0',\n",
       " '4.2',\n",
       " '1.5',\n",
       " 'versicolor\\n62',\n",
       " '6.0',\n",
       " '2.2',\n",
       " '4.0',\n",
       " '1.0',\n",
       " 'versicolor\\n63',\n",
       " '6.1',\n",
       " '2.9',\n",
       " '4.7',\n",
       " '1.4',\n",
       " 'versicolor\\n64',\n",
       " '5.6',\n",
       " '2.9',\n",
       " '3.6',\n",
       " '1.3',\n",
       " 'versicolor\\n65',\n",
       " '6.7',\n",
       " '3.1',\n",
       " '4.4',\n",
       " '1.4',\n",
       " 'versicolor\\n66',\n",
       " '5.6',\n",
       " '3.0',\n",
       " '4.5',\n",
       " '1.5',\n",
       " 'versicolor\\n67',\n",
       " '5.8',\n",
       " '2.7',\n",
       " '4.1',\n",
       " '1.0',\n",
       " 'versicolor\\n68',\n",
       " '6.2',\n",
       " '2.2',\n",
       " '4.5',\n",
       " '1.5',\n",
       " 'versicolor\\n69',\n",
       " '5.6',\n",
       " '2.5',\n",
       " '3.9',\n",
       " '1.1',\n",
       " 'versicolor\\n70',\n",
       " '5.9',\n",
       " '3.2',\n",
       " '4.8',\n",
       " '1.8',\n",
       " 'versicolor\\n71',\n",
       " '6.1',\n",
       " '2.8',\n",
       " '4.0',\n",
       " '1.3',\n",
       " 'versicolor\\n72',\n",
       " '6.3',\n",
       " '2.5',\n",
       " '4.9',\n",
       " '1.5',\n",
       " 'versicolor\\n73',\n",
       " '6.1',\n",
       " '2.8',\n",
       " '4.7',\n",
       " '1.2',\n",
       " 'versicolor\\n74',\n",
       " '6.4',\n",
       " '2.9',\n",
       " '4.3',\n",
       " '1.3',\n",
       " 'versicolor\\n75',\n",
       " '6.6',\n",
       " '3.0',\n",
       " '4.4',\n",
       " '1.4',\n",
       " 'versicolor\\n76',\n",
       " '6.8',\n",
       " '2.8',\n",
       " '4.8',\n",
       " '1.4',\n",
       " 'versicolor\\n77',\n",
       " '6.7',\n",
       " '3.0',\n",
       " '5.0',\n",
       " '1.7',\n",
       " 'versicolor\\n78',\n",
       " '6.0',\n",
       " '2.9',\n",
       " '4.5',\n",
       " '1.5',\n",
       " 'versicolor\\n79',\n",
       " '5.7',\n",
       " '2.6',\n",
       " '3.5',\n",
       " '1.0',\n",
       " 'versicolor\\n80',\n",
       " '5.5',\n",
       " '2.4',\n",
       " '3.8',\n",
       " '1.1',\n",
       " 'versicolor\\n81',\n",
       " '5.5',\n",
       " '2.4',\n",
       " '3.7',\n",
       " '1.0',\n",
       " 'versicolor\\n82',\n",
       " '5.8',\n",
       " '2.7',\n",
       " '3.9',\n",
       " '1.2',\n",
       " 'versicolor\\n83',\n",
       " '6.0',\n",
       " '2.7',\n",
       " '5.1',\n",
       " '1.6',\n",
       " 'versicolor\\n84',\n",
       " '5.4',\n",
       " '3.0',\n",
       " '4.5',\n",
       " '1.5',\n",
       " 'versicolor\\n85',\n",
       " '6.0',\n",
       " '3.4',\n",
       " '4.5',\n",
       " '1.6',\n",
       " 'versicolor\\n86',\n",
       " '6.7',\n",
       " '3.1',\n",
       " '4.7',\n",
       " '1.5',\n",
       " 'versicolor\\n87',\n",
       " '6.3',\n",
       " '2.3',\n",
       " '4.4',\n",
       " '1.3',\n",
       " 'versicolor\\n88',\n",
       " '5.6',\n",
       " '3.0',\n",
       " '4.1',\n",
       " '1.3',\n",
       " 'versicolor\\n89',\n",
       " '5.5',\n",
       " '2.5',\n",
       " '4.0',\n",
       " '1.3',\n",
       " 'versicolor\\n90',\n",
       " '5.5',\n",
       " '2.6',\n",
       " '4.4',\n",
       " '1.2',\n",
       " 'versicolor\\n91',\n",
       " '6.1',\n",
       " '3.0',\n",
       " '4.6',\n",
       " '1.4',\n",
       " 'versicolor\\n92',\n",
       " '5.8',\n",
       " '2.6',\n",
       " '4.0',\n",
       " '1.2',\n",
       " 'versicolor\\n93',\n",
       " '5.0',\n",
       " '2.3',\n",
       " '3.3',\n",
       " '1.0',\n",
       " 'versicolor\\n94',\n",
       " '5.6',\n",
       " '2.7',\n",
       " '4.2',\n",
       " '1.3',\n",
       " 'versicolor\\n95',\n",
       " '5.7',\n",
       " '3.0',\n",
       " '4.2',\n",
       " '1.2',\n",
       " 'versicolor\\n96',\n",
       " '5.7',\n",
       " '2.9',\n",
       " '4.2',\n",
       " '1.3',\n",
       " 'versicolor\\n97',\n",
       " '6.2',\n",
       " '2.9',\n",
       " '4.3',\n",
       " '1.3',\n",
       " 'versicolor\\n98',\n",
       " '5.1',\n",
       " '2.5',\n",
       " '3.0',\n",
       " '1.1',\n",
       " 'versicolor\\n99',\n",
       " '5.7',\n",
       " '2.8',\n",
       " '4.1',\n",
       " '1.3',\n",
       " 'versicolor\\n100',\n",
       " '6.3',\n",
       " '3.3',\n",
       " '6.0',\n",
       " '2.5',\n",
       " 'virginica\\n101',\n",
       " '5.8',\n",
       " '2.7',\n",
       " '5.1',\n",
       " '1.9',\n",
       " 'virginica\\n102',\n",
       " '7.1',\n",
       " '3.0',\n",
       " '5.9',\n",
       " '2.1',\n",
       " 'virginica\\n103',\n",
       " '6.3',\n",
       " '2.9',\n",
       " '5.6',\n",
       " '1.8',\n",
       " 'virginica\\n104',\n",
       " '6.5',\n",
       " '3.0',\n",
       " '5.8',\n",
       " '2.2',\n",
       " 'virginica\\n105',\n",
       " '7.6',\n",
       " '3.0',\n",
       " '6.6',\n",
       " '2.1',\n",
       " 'virginica\\n106',\n",
       " '4.9',\n",
       " '2.5',\n",
       " '4.5',\n",
       " '1.7',\n",
       " 'virginica\\n107',\n",
       " '7.3',\n",
       " '2.9',\n",
       " '6.3',\n",
       " '1.8',\n",
       " 'virginica\\n108',\n",
       " '6.7',\n",
       " '2.5',\n",
       " '5.8',\n",
       " '1.8',\n",
       " 'virginica\\n109',\n",
       " '7.2',\n",
       " '3.6',\n",
       " '6.1',\n",
       " '2.5',\n",
       " 'virginica\\n110',\n",
       " '6.5',\n",
       " '3.2',\n",
       " '5.1',\n",
       " '2.0',\n",
       " 'virginica\\n111',\n",
       " '6.4',\n",
       " '2.7',\n",
       " '5.3',\n",
       " '1.9',\n",
       " 'virginica\\n112',\n",
       " '6.8',\n",
       " '3.0',\n",
       " '5.5',\n",
       " '2.1',\n",
       " 'virginica\\n113',\n",
       " '5.7',\n",
       " '2.5',\n",
       " '5.0',\n",
       " '2.0',\n",
       " 'virginica\\n114',\n",
       " '5.8',\n",
       " '2.8',\n",
       " '5.1',\n",
       " '2.4',\n",
       " 'virginica\\n115',\n",
       " '6.4',\n",
       " '3.2',\n",
       " '5.3',\n",
       " '2.3',\n",
       " 'virginica\\n116',\n",
       " '6.5',\n",
       " '3.0',\n",
       " '5.5',\n",
       " '1.8',\n",
       " 'virginica\\n117',\n",
       " '7.7',\n",
       " '3.8',\n",
       " '6.7',\n",
       " '2.2',\n",
       " 'virginica\\n118',\n",
       " '7.7',\n",
       " '2.6',\n",
       " '6.9',\n",
       " '2.3',\n",
       " 'virginica\\n119',\n",
       " '6.0',\n",
       " '2.2',\n",
       " '5.0',\n",
       " '1.5',\n",
       " 'virginica\\n120',\n",
       " '6.9',\n",
       " '3.2',\n",
       " '5.7',\n",
       " '2.3',\n",
       " 'virginica\\n121',\n",
       " '5.6',\n",
       " '2.8',\n",
       " '4.9',\n",
       " '2.0',\n",
       " 'virginica\\n122',\n",
       " '7.7',\n",
       " '2.8',\n",
       " '6.7',\n",
       " '2.0',\n",
       " 'virginica\\n123',\n",
       " '6.3',\n",
       " '2.7',\n",
       " '4.9',\n",
       " '1.8',\n",
       " 'virginica\\n124',\n",
       " '6.7',\n",
       " '3.3',\n",
       " '5.7',\n",
       " '2.1',\n",
       " 'virginica\\n125',\n",
       " '7.2',\n",
       " '3.2',\n",
       " '6.0',\n",
       " '1.8',\n",
       " 'virginica\\n126',\n",
       " '6.2',\n",
       " '2.8',\n",
       " '4.8',\n",
       " '1.8',\n",
       " 'virginica\\n127',\n",
       " '6.1',\n",
       " '3.0',\n",
       " '4.9',\n",
       " '1.8',\n",
       " 'virginica\\n128',\n",
       " '6.4',\n",
       " '2.8',\n",
       " '5.6',\n",
       " '2.1',\n",
       " 'virginica\\n129',\n",
       " '7.2',\n",
       " '3.0',\n",
       " '5.8',\n",
       " '1.6',\n",
       " 'virginica\\n130',\n",
       " '7.4',\n",
       " '2.8',\n",
       " '6.1',\n",
       " '1.9',\n",
       " 'virginica\\n131',\n",
       " '7.9',\n",
       " '3.8',\n",
       " '6.4',\n",
       " '2.0',\n",
       " 'virginica\\n132',\n",
       " '6.4',\n",
       " '2.8',\n",
       " '5.6',\n",
       " '2.2',\n",
       " 'virginica\\n133',\n",
       " '6.3',\n",
       " '2.8',\n",
       " '5.1',\n",
       " '1.5',\n",
       " 'virginica\\n134',\n",
       " '6.1',\n",
       " '2.6',\n",
       " '5.6',\n",
       " '1.4',\n",
       " 'virginica\\n135',\n",
       " '7.7',\n",
       " '3.0',\n",
       " '6.1',\n",
       " '2.3',\n",
       " 'virginica\\n136',\n",
       " '6.3',\n",
       " '3.4',\n",
       " '5.6',\n",
       " '2.4',\n",
       " 'virginica\\n137',\n",
       " '6.4',\n",
       " '3.1',\n",
       " '5.5',\n",
       " '1.8',\n",
       " 'virginica\\n138',\n",
       " '6.0',\n",
       " '3.0',\n",
       " '4.8',\n",
       " '1.8',\n",
       " 'virginica\\n139',\n",
       " '6.9',\n",
       " '3.1',\n",
       " '5.4',\n",
       " '2.1',\n",
       " 'virginica\\n140',\n",
       " '6.7',\n",
       " '3.1',\n",
       " '5.6',\n",
       " '2.4',\n",
       " 'virginica\\n141',\n",
       " '6.9',\n",
       " '3.1',\n",
       " '5.1',\n",
       " '2.3',\n",
       " 'virginica\\n142',\n",
       " '5.8',\n",
       " '2.7',\n",
       " '5.1',\n",
       " '1.9',\n",
       " 'virginica\\n143',\n",
       " '6.8',\n",
       " '3.2',\n",
       " '5.9',\n",
       " '2.3',\n",
       " 'virginica\\n144',\n",
       " '6.7',\n",
       " '3.3',\n",
       " '5.7',\n",
       " '2.5',\n",
       " 'virginica\\n145',\n",
       " '6.7',\n",
       " '3.0',\n",
       " '5.2',\n",
       " '2.3',\n",
       " 'virginica\\n146',\n",
       " '6.3',\n",
       " '2.5',\n",
       " '5.0',\n",
       " '1.9',\n",
       " 'virginica\\n147',\n",
       " '6.5',\n",
       " '3.0',\n",
       " '5.2',\n",
       " '2.0',\n",
       " 'virginica\\n148',\n",
       " '6.2',\n",
       " '3.4',\n",
       " '5.4',\n",
       " '2.3',\n",
       " 'virginica\\n149',\n",
       " '5.9',\n",
       " '3.0',\n",
       " '5.1',\n",
       " '1.8',\n",
       " 'virginica\\n']"
      ]
     },
     "execution_count": 67,
     "metadata": {},
     "output_type": "execute_result"
    }
   ],
   "source": [
    "split_data=readdata.split(',')\n",
    "split_data"
   ]
  },
  {
   "cell_type": "code",
   "execution_count": 66,
   "id": "786b62ab",
   "metadata": {},
   "outputs": [
    {
     "data": {
      "text/plain": [
       "7"
      ]
     },
     "execution_count": 66,
     "metadata": {},
     "output_type": "execute_result"
    }
   ],
   "source": [
    "len(split_data)"
   ]
  },
  {
   "cell_type": "code",
   "execution_count": null,
   "id": "b4d61a27",
   "metadata": {},
   "outputs": [],
   "source": []
  },
  {
   "cell_type": "code",
   "execution_count": null,
   "id": "13c87ae3",
   "metadata": {},
   "outputs": [],
   "source": []
  }
 ],
 "metadata": {
  "kernelspec": {
   "display_name": "Python 3 (ipykernel)",
   "language": "python",
   "name": "python3"
  },
  "language_info": {
   "codemirror_mode": {
    "name": "ipython",
    "version": 3
   },
   "file_extension": ".py",
   "mimetype": "text/x-python",
   "name": "python",
   "nbconvert_exporter": "python",
   "pygments_lexer": "ipython3",
   "version": "3.10.6"
  }
 },
 "nbformat": 4,
 "nbformat_minor": 5
}
